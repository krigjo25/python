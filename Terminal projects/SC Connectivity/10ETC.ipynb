{
 "cells": [
  {
   "attachments": {},
   "cell_type": "markdown",
   "metadata": {},
   "source": [
    "# 10 ETC...\n"
   ]
  },
  {
   "attachments": {},
   "cell_type": "markdown",
   "metadata": {},
   "source": [
    "## Et Cetra\n",
    "\n",
    "Over the past lessons, much related to Python has been covered. \n",
    "\n",
    "In the final lesson the focus will be upon many of the **et cetra** items not previously discussed. **Et cetra**, literally means *and the rest*.\n"
   ]
  },
  {
   "attachments": {},
   "cell_type": "markdown",
   "metadata": {},
   "source": [
    " ### set\n",
    "\n",
    "in math, a set is considered a set of numbers, without any duplicates.\n"
   ]
  },
  {
   "cell_type": "code",
   "execution_count": null,
   "metadata": {},
   "outputs": [],
   "source": [
    "students = [\n",
    "    {\"name\": \"Hermione\", \"house\": \"Gryffindor\"},\n",
    "    {\"name\": \"Harry\", \"house\": \"Gryffindor\"},\n",
    "    {\"name\": \"Ron\", \"house\": \"Gryffindor\"},\n",
    "    {\"name\": \"Draco\", \"house\": \"Slytherin\"},\n",
    "    {\"name\": \"Padma\", \"house\": \"Ravenclaw\"},\n",
    "]\n",
    "\n",
    "houses = []\n",
    "\n",
    "for student in students:\n",
    "    if student[\"house\"] not in houses:\n",
    "        houses.append(student[\"house\"])\n",
    "\n",
    "for house in sorted(houses):\n",
    "    print(house)"
   ]
  },
  {
   "attachments": {},
   "cell_type": "markdown",
   "metadata": {},
   "source": [
    "Notice how the list of dictionaries, each being a student,<br>\n",
    "An empty list is called `house` is created. by iterating through each `student` in `students`. if a student's `house` is not in `houses`, the program appends to the list of `houses`.<br>\n",
    "\n",
    "It turns out the built-in `set` features to eliminate duplicates."
   ]
  },
  {
   "cell_type": "code",
   "execution_count": null,
   "metadata": {},
   "outputs": [],
   "source": [
    "students = [\n",
    "    {\"name\": \"Hermione\", \"house\": \"Gryffindor\"},\n",
    "    {\"name\": \"Harry\", \"house\": \"Gryffindor\"},\n",
    "    {\"name\": \"Ron\", \"house\": \"Gryffindor\"},\n",
    "    {\"name\": \"Draco\", \"house\": \"Slytherin\"},\n",
    "    {\"name\": \"Padma\", \"house\": \"Ravenclaw\"},\n",
    "]\n",
    "\n",
    "houses = set()\n",
    "for student in students:\n",
    "    houses.add(student[\"house\"])\n",
    "\n",
    "for house in sorted(houses):\n",
    "    print(house)"
   ]
  },
  {
   "attachments": {},
   "cell_type": "markdown",
   "metadata": {},
   "source": [
    "Notice how no checking needs to be included to ensure there are no duplicates. The set object takes care of this for us automatically.\n",
    "More can be learned in the [Python's documentation of set](https://docs.python.org/3/library/stdtypes.html#set)"
   ]
  },
  {
   "attachments": {},
   "cell_type": "markdown",
   "metadata": {},
   "source": [
    "##    Global Variables\n",
    "\n",
    "In other programming languages, there is the notion of global variables, that are accessible to any function.\n",
    "\n",
    "we can leverage this ability within Python. "
   ]
  },
  {
   "cell_type": "code",
   "execution_count": null,
   "metadata": {},
   "outputs": [],
   "source": [
    "# Initializing global variable\n",
    "balance = 0\n",
    "\n",
    "def main():\n",
    "  return print(f'Balance : {balance}')\n",
    "\n",
    "if __name__ == '__main__':\n",
    "  main()"
   ]
  },
  {
   "attachments": {},
   "cell_type": "markdown",
   "metadata": {},
   "source": [
    "Notice how the global variable called `balance` is created, outside of any function.\n",
    "\n",
    "Since no errors are presented by executing the code above, it should be well. However, its not"
   ]
  },
  {
   "cell_type": "code",
   "execution_count": null,
   "metadata": {},
   "outputs": [],
   "source": [
    "balance = 0\n",
    "\n",
    "def main():\n",
    "\n",
    "  print(f'Balance : {balance}')\n",
    "\n",
    "  deposit(100)\n",
    "  withdraw(50)\n",
    "  return print(f'Balance {balance}')\n",
    "\n",
    "def deposit(x):\n",
    "\n",
    "  balance += x\n",
    "\n",
    "  return balance\n",
    "\n",
    "def withdraw(x):\n",
    "\n",
    "  balance -= x\n",
    "  return balance\n",
    "\n",
    "if __name__ == '__main__':\n",
    "    main()"
   ]
  },
  {
   "attachments": {},
   "cell_type": "markdown",
   "metadata": {},
   "source": [
    "Notice how the functionallity is added and withdraw funds to and from `balance`. However, executing this program result in a `UnboundLocalError`.  It could be gussed, at least in a way the program is currently coded `balance` and our `deposit` and `withdraw` functions, can not be reassigned. To interact with global variables inside a function, the solution is to use the `global` keyword."
   ]
  },
  {
   "cell_type": "code",
   "execution_count": null,
   "metadata": {},
   "outputs": [],
   "source": [
    "balance = 0\n",
    "\n",
    "def main():\n",
    "\n",
    "  print(f'Balance : {balance}')\n",
    "\n",
    "  deposit(100)\n",
    "  withdraw(50)\n",
    "  return print(f'Balance {balance}')\n",
    "\n",
    "def deposit(x):\n",
    "\n",
    "  global balance \n",
    "  balance += x\n",
    "\n",
    "  return balance\n",
    "\n",
    "def withdraw(x):\n",
    "\n",
    "  global balance\n",
    "  balance -= x\n",
    "\n",
    "  return balance\n",
    "\n",
    "if __name__ == '__main__':\n",
    "    main()"
   ]
  },
  {
   "attachments": {},
   "cell_type": "markdown",
   "metadata": {},
   "source": [
    "Notice how the `global` keyword tells each function that `balance` does not refer to a local variable. Instead, it refers to the global variable we originally placed at the top of our code. Now. the program is functional.\n",
    "\n",
    "Utilizing the power of experience with Object Oriented Programming (OOP). Can the code be modified using a class instead of a global variable."
   ]
  },
  {
   "cell_type": "code",
   "execution_count": null,
   "metadata": {},
   "outputs": [],
   "source": [
    "class Account:\n",
    "    def __init__(self):\n",
    "        self._balance = 0\n",
    "\n",
    "    @property\n",
    "    def balance(self):\n",
    "        return self._balance\n",
    "\n",
    "    def deposit(self, n):\n",
    "        self._balance += n\n",
    "\n",
    "    def withdraw(self, n):\n",
    "        self._balance -= n\n",
    "\n",
    "\n",
    "def main():\n",
    "    account = Account()\n",
    "    print(\"Balance:\", account.balance)\n",
    "    account.deposit(100)\n",
    "    account.withdraw(50)\n",
    "    print(\"Balance:\", account.balance)\n",
    "\n",
    "\n",
    "if __name__ == \"__main__\":\n",
    "    main()"
   ]
  },
  {
   "attachments": {},
   "cell_type": "markdown",
   "metadata": {},
   "source": [
    "Notice how the program use `account = Account()` to create an account. classes allows us to solve this issue of needing a global variable more cleanly because these instance variables are  accssible to all the methods of this class utilizing `self`.<br>\n",
    "Generallly speaking, global variables should be used quite sparingly, if at all."
   ]
  },
  {
   "attachments": {},
   "cell_type": "markdown",
   "metadata": {},
   "source": [
    "## Constants\n",
    "\n",
    "Some languages allow the programmer to create variables that are unchangeable, (constatns).<br>\n",
    "Constants allows the programmer to program defensively and reduce the oppertunities for important values to be altered"
   ]
  },
  {
   "cell_type": "code",
   "execution_count": null,
   "metadata": {},
   "outputs": [],
   "source": [
    "MEOW = 3\n",
    "for i in range(MEOW):\n",
    "print('meow')"
   ]
  },
  {
   "attachments": {},
   "cell_type": "markdown",
   "metadata": {},
   "source": [
    "Notice `MEOW` is our constant in this case.<br>\n",
    "Constants are typically denoted by capital variable names and are placed at the top of the program.<br> \n",
    "Though this looks like a constant, in reallity, Python actually has no mechanism to prevent us from changing that value within the program.<br>\n",
    "Instead the programmer are on the honor system.<br>\n",
    "If a variable name is written in all caps, just dont change it.<br>\n",
    "the program can have a constant class.<br>"
   ]
  },
  {
   "cell_type": "code",
   "execution_count": null,
   "metadata": {},
   "outputs": [],
   "source": [
    "class Cat():\n",
    "\n",
    "  MEOWS = 3\n",
    "\n",
    "  def meow(self):\n",
    "    for i in range(Cat.MEOWS):\n",
    "      return print('meow')\n",
    "\n",
    "cat = Cat()\n",
    "cat.meow()"
   ]
  },
  {
   "attachments": {},
   "cell_type": "markdown",
   "metadata": {},
   "source": [
    "Because `MEOWS` is defined outside any particular class method, all of them have access to that value through `Cat.MEOWS`."
   ]
  },
  {
   "attachments": {},
   "cell_type": "markdown",
   "metadata": {},
   "source": [
    "##  Type Hints\n",
    "\n",
    "In other programming languages, one expresses explicitly what variable type the programmer want to use.<br>\n",
    "As seen earlier in the course, Python does not require the explicit declaration of types.<br>\n",
    "Nevertheless, it is a good practice need to ensure all of the variables are of the right type.<br>\n",
    "`mypy` is a program that helps the programmer to test wheter all of the variables are of the right type."
   ]
  },
  {
   "cell_type": "code",
   "execution_count": null,
   "metadata": {},
   "outputs": [],
   "source": [
    "def meow(n):\n",
    "  for _ in range(n): print(\"meow\")\n",
    "  return\n",
    "\n",
    "number = input(\"Number: \")\n",
    "\n",
    "meow(number)"
   ]
  },
  {
   "attachments": {},
   "cell_type": "markdown",
   "metadata": {},
   "source": [
    "In the program the user may see that `number = input('Number :')` returns a `string`, not an `int`.<br>\n",
    "But `meow` will likely want an `int`. a type hint can be added to give Python a hint of what type of variable `meow` should expect."
   ]
  },
  {
   "cell_type": "code",
   "execution_count": null,
   "metadata": {},
   "outputs": [],
   "source": [
    "def meow(n:int):\n",
    "  for _ in range(n): print(\"meow\")\n",
    "  return\n",
    "\n",
    "number = input(\"Number: \")\n",
    "\n",
    "meow(number)"
   ]
  },
  {
   "attachments": {},
   "cell_type": "markdown",
   "metadata": {},
   "source": [
    "Notice, though, that the program still throws an error. After installing `mypy`, execute `mypy meows.py` in the terminal window. <br> `mypy` will provide some how to fix guidance.\n",
    "\n",
    "You can annotate all your variables."
   ]
  },
  {
   "cell_type": "code",
   "execution_count": null,
   "metadata": {},
   "outputs": [],
   "source": [
    "def meow(n:int):\n",
    "  for _ in range(n): print(\"meow\")\n",
    "  return\n",
    "\n",
    "number : int = input(\"Number: \")\n",
    "meows: str = meow(number)\n",
    "\n",
    "meow(number)"
   ]
  },
  {
   "attachments": {},
   "cell_type": "markdown",
   "metadata": {},
   "source": [
    "Notice how the `meow` function has only a side effect. Because the program attempt to print 'meow', not return a value, an error is thrown when the program tries to store the return value of `meow` in `meows`. <br>\n",
    "\n",
    "Further can type hints be used to check for errors, this time annotating the return values of functions."
   ]
  },
  {
   "cell_type": "code",
   "execution_count": null,
   "metadata": {},
   "outputs": [],
   "source": [
    "def meow(n:int) -> None:\n",
    "  for _ in range(n): print(\"meow\")\n",
    "  return\n",
    "\n",
    "number : int = input(\"Number: \")\n",
    "meows: str = meow(number)\n",
    "\n",
    "meow(number)"
   ]
  },
  {
   "attachments": {},
   "cell_type": "markdown",
   "metadata": {},
   "source": [
    "Notice how the notation `-> None` tells `mypy` that there are no return values."
   ]
  },
  {
   "cell_type": "code",
   "execution_count": null,
   "metadata": {},
   "outputs": [],
   "source": [
    "def meow(n:int) -> str:\n",
    "  return 'meow\\n' * n\n",
    "\n",
    "number : int = input(\"Number: \")\n",
    "meows: str = meow(number)\n",
    "\n",
    "print(meows, end='')"
   ]
  },
  {
   "attachments": {},
   "cell_type": "markdown",
   "metadata": {},
   "source": [
    "Notice how the program stores `meows` multiple `str`s. <br>\n",
    "Running `mypy` produces no errors.<br>\n",
    "in the [Python's documentation of Type Hints](https://docs.python.org/3/library/typing.html) & [mypy Documentation](https://mypy.readthedocs.io/en/stable/) the programmer can learn more about it."
   ]
  },
  {
   "attachments": {},
   "cell_type": "markdown",
   "metadata": {},
   "source": [
    "##  DocStrings\n",
    "\n",
    "A standard way of commenting the function's purpose is to use a `docstring`."
   ]
  },
  {
   "cell_type": "code",
   "execution_count": null,
   "metadata": {},
   "outputs": [],
   "source": [
    "def meow(n):\n",
    "    \"\"\"Meow n times.\"\"\"\n",
    "    return \"meow\\n\" * n\n",
    "\n",
    "\n",
    "number = int(input(\"Number: \"))\n",
    "meows = meow(number)\n",
    "print(meows, end=\"\")"
   ]
  },
  {
   "attachments": {},
   "cell_type": "markdown",
   "metadata": {},
   "source": [
    "Notice how the three double quotes designate what the function does.<br>\n",
    "Docstrings can be used to standardize how the functions features can be used.<br>"
   ]
  },
  {
   "cell_type": "code",
   "execution_count": null,
   "metadata": {},
   "outputs": [],
   "source": [
    "def meow(n):\n",
    "    \"\"\"\n",
    "    Meow n times.\n",
    "\n",
    "    :param n: Number of times to meow\n",
    "    :type n: int\n",
    "    :raise TypeError: If n is not an int\n",
    "    :return: A string of n meows, one per line\n",
    "    :rtype: str\n",
    "    \"\"\"\n",
    "    return \"meow\\n\" * n\n",
    "\n",
    "\n",
    "number = int(input(\"Number: \"))\n",
    "meows = meow(number)\n",
    "print(meows, end=\"\")"
   ]
  },
  {
   "attachments": {},
   "cell_type": "markdown",
   "metadata": {},
   "source": [
    "Notice how the three double quotes designate what the function does.<br>\n",
    "Docstrings can be used to standardize how the functions features can be used.<br>"
   ]
  },
  {
   "cell_type": "code",
   "execution_count": null,
   "metadata": {},
   "outputs": [],
   "source": [
    "def meow(n):\n",
    "    \"\"\"\n",
    "    Meow n times.\n",
    "\n",
    "    :param n: Number of times to meow\n",
    "    :type n: int\n",
    "    :raise TypeError: If n is not an int\n",
    "    :return: A string of n meows, one per line\n",
    "    :rtype: str\n",
    "    \"\"\"\n",
    "    return \"meow\\n\" * n\n",
    "\n",
    "\n",
    "number = int(input(\"Number: \"))\n",
    "meows = meow(number)\n",
    "print(meows, end=\"\")"
   ]
  },
  {
   "attachments": {},
   "cell_type": "markdown",
   "metadata": {},
   "source": [
    "Notice how multiple docstring arguments are included.<br> \n",
    "\n",
    "### f.ex\n",
    "\n",
    "It describe the parameters taken by the function and what is returned by the function.\n",
    "\n",
    "Established tools, such as [SPhinx](https://www.sphinx-doc.org/en/master/index.html) can be used to parse docstrings and automatically create documentation for us in the form of webpages and pdf files which can be shared and published publicly<br>\n",
    "learn more by reading the [Python's documentation of docstrings](https://peps.python.org/pep-0257/)"
   ]
  },
  {
   "attachments": {},
   "cell_type": "markdown",
   "metadata": {},
   "source": [
    "##  argparse\n",
    "\n",
    "Suppose a program using command-line arguments in our program.<br>"
   ]
  },
  {
   "cell_type": "code",
   "execution_count": null,
   "metadata": {},
   "outputs": [],
   "source": [
    "import sys\n",
    "\n",
    "if len(sys.argv) == 1:\n",
    "    print(\"meow\")\n",
    "elif len(sys.argv) == 3 and sys.argv[1] == \"-n\":\n",
    "    n = int(sys.argv[2])\n",
    "    for _ in range(n):\n",
    "        print(\"meow\")\n",
    "else:\n",
    "    print(\"usage: meows.py [-n NUMBER]\")"
   ]
  },
  {
   "attachments": {},
   "cell_type": "markdown",
   "metadata": {},
   "source": [
    "## Unpacking\n",
    "\n",
    "###  args and kwargs\n",
    "\n",
    "recall the `print` documentation which has been talked about earlier in the course\n",
    "`print(*objects, sep='', end='\\n', file=sys.stdout, flush = False)`\n",
    "\n",
    "### Args\n",
    "\n",
    "Are positional arguments, such as those which is provided to print `print('Hello', 'World')`.\n",
    "\n",
    "### kwargs\n",
    "\n",
    "Are named arguments, or 'Keyword arguments', such as those which is provided to print `print(end='')`.\n",
    "\n",
    "as seen in the prototype for the `print` function above, the program tell the function to expect a presently unkown number positional arguments. <br> The program also tell the function to expect a presently unkown number of keyword arguments."
   ]
  },
  {
   "cell_type": "code",
   "execution_count": null,
   "metadata": {},
   "outputs": [],
   "source": [
    "def lambada(*args, **kwargs):\n",
    "  return print(f'Positional : {args}')\n",
    "\n",
    "lambada(100, 50, 25)"
   ]
  },
  {
   "attachments": {},
   "cell_type": "markdown",
   "metadata": {},
   "source": [
    "Notice how the code is executed, the program will print the arguments as positional arguments.<br>\n",
    "Even a named argument can be passed."
   ]
  },
  {
   "cell_type": "code",
   "execution_count": null,
   "metadata": {},
   "outputs": [],
   "source": [
    "def lambada(*args, **kwargs):\n",
    "  return print(f'Named : {kwargs}')\n",
    "\n",
    "lambada(galleons = 100, sickles = 50, knuts = 25)"
   ]
  },
  {
   "attachments": {},
   "cell_type": "markdown",
   "metadata": {},
   "source": [
    "Notice how the named values are provided in the form of a dictionary.<br>\n",
    "Thinking about the `print` function above you can see how `*objects` takes any number of positional arguments."
   ]
  },
  {
   "attachments": {},
   "cell_type": "markdown",
   "metadata": {},
   "source": [
    "## map\n",
    "\n",
    "Early on this course started with procedural programming.<br>\n",
    "Later did the course reveal Python is an Object Oriented Programming language. <br>\n",
    "The hints of functional programming where functions have side effects without a return value. It can be illustrated in the example below."
   ]
  },
  {
   "cell_type": "code",
   "execution_count": null,
   "metadata": {},
   "outputs": [],
   "source": [
    "def main():\n",
    "    yell(\"This is CS50\")\n",
    "\n",
    "\n",
    "def yell(word):\n",
    "    print(word.upper())\n",
    "\n",
    "\n",
    "if __name__ == \"__main__\":\n",
    "    main()"
   ]
  },
  {
   "attachments": {},
   "cell_type": "markdown",
   "metadata": {},
   "source": [
    "Notice how the `yell` function is simply yelled.<br>\n",
    "Wouldn't it be nice to yell a list of unlimited words?"
   ]
  },
  {
   "cell_type": "code",
   "execution_count": null,
   "metadata": {},
   "outputs": [],
   "source": [
    "def main():\n",
    "    yell([\"This\", \"is\", \"CS50\"])\n",
    "\n",
    "\n",
    "def yell(words):\n",
    "    uppercased = []\n",
    "    for word in words:\n",
    "        uppercased.append(word.upper())\n",
    "    print(*uppercased)\n",
    "\n",
    "\n",
    "if __name__ == \"__main__\":\n",
    "    main()"
   ]
  },
  {
   "attachments": {},
   "cell_type": "markdown",
   "metadata": {},
   "source": [
    "Notice how the program accumulate the uppercase words, iterating over each of the words and uppercasing them. <br>\n",
    "The uppercase list is printed utilizing the `*` to unpack it.<br>\n",
    "\n",
    "Removing the brackets, can words be passed in as arguments.<br>"
   ]
  },
  {
   "cell_type": "code",
   "execution_count": null,
   "metadata": {},
   "outputs": [],
   "source": [
    "def main():\n",
    "    yell(\"This\", \"is\", \"CS50\")\n",
    "\n",
    "\n",
    "def yell(*words):\n",
    "    uppercased = []\n",
    "    for word in words:\n",
    "        uppercased.append(word.upper())\n",
    "    print(*uppercased)\n",
    "\n",
    "\n",
    "if __name__ == \"__main__\":\n",
    "    main()"
   ]
  },
  {
   "attachments": {},
   "cell_type": "markdown",
   "metadata": {},
   "source": [
    "Notice how `*words` allows for many arguments to be taken by the function.<br>\n",
    "`map` allows you to map a function to a sequence of values.<br>"
   ]
  },
  {
   "cell_type": "code",
   "execution_count": null,
   "metadata": {},
   "outputs": [],
   "source": [
    "def main():\n",
    "  return Yell('This', 'is', 'CS50')\n",
    "\n",
    "def Yell(*args):\n",
    "  uppercased = map(str.upper, args)\n",
    "  print(*uppercased)\n",
    "\n",
    "if __name__ == '__main__':\n",
    "  main()"
   ]
  },
  {
   "attachments": {},
   "cell_type": "markdown",
   "metadata": {},
   "source": [
    "Notice how `map` takes two arguments.<br>\n",
    "\n",
    "- It takes a function the programmer wants applies it to every elements of a list.\n",
    "\n",
    "- It takes that list itself, to which will applies the aforementioned function.\n",
    "\n",
    "Hence all words in `args` will be handed to the `str.upper()` function and returned to `uppercased`<br>\n",
    "more can be learned in [Python's documentation of map](https://docs.python.org/3/library/functions.html#map)"
   ]
  },
  {
   "attachments": {},
   "cell_type": "markdown",
   "metadata": {},
   "source": [
    "##  List Comprehensions\n",
    "\n",
    "List comprehensions allows the programmer to create a list on the fly in one elegant one-liner.<br>"
   ]
  },
  {
   "cell_type": "code",
   "execution_count": null,
   "metadata": {},
   "outputs": [],
   "source": [
    "students = [\n",
    "    {\"name\": \"Hermione\", \"house\": \"Gryffindor\"},\n",
    "    {\"name\": \"Harry\", \"house\": \"Gryffindor\"},\n",
    "    {\"name\": \"Ron\", \"house\": \"Gryffindor\"},\n",
    "    {\"name\": \"Draco\", \"house\": \"Slytherin\"},\n",
    "]\n",
    "\n",
    "gryffindors = []\n",
    "for student in students:\n",
    "    if student[\"house\"] == \"Gryffindor\":\n",
    "        gryffindors.append(student[\"name\"])\n",
    "\n",
    "for gryffindor in sorted(gryffindors):\n",
    "    print(gryffindor)"
   ]
  },
  {
   "attachments": {},
   "cell_type": "markdown",
   "metadata": {},
   "source": [
    "Notice there's a conditional while the list is created. `if` the student's house is Gryffindor, the list append the student.<br>\n",
    "Finally the names are printed.<br>\n",
    "More elegantly, the code can be simplified with a list comperhension."
   ]
  },
  {
   "cell_type": "code",
   "execution_count": null,
   "metadata": {},
   "outputs": [],
   "source": [
    "students = [\n",
    "    {\"name\": \"Hermione\", \"house\": \"Gryffindor\"},\n",
    "    {\"name\": \"Harry\", \"house\": \"Gryffindor\"},\n",
    "    {\"name\": \"Ron\", \"house\": \"Gryffindor\"},\n",
    "    {\"name\": \"Draco\", \"house\": \"Slytherin\"},\n",
    "]\n",
    "\n",
    "gryffindors = [\n",
    "    student[\"name\"] for student in students if student[\"house\"] == \"Gryffindor\"\n",
    "]\n",
    "\n",
    "for gryffindor in sorted(gryffindors):\n",
    "    print(gryffindor)"
   ]
  },
  {
   "attachments": {},
   "cell_type": "markdown",
   "metadata": {},
   "source": [
    "Notice how the list comprehension is on a single line!"
   ]
  },
  {
   "attachments": {},
   "cell_type": "markdown",
   "metadata": {},
   "source": [
    "##  Dictionary Comprehensions\n",
    "\n",
    "The same idea behind list comprehension van be applied to dictionaries."
   ]
  },
  {
   "cell_type": "code",
   "execution_count": null,
   "metadata": {},
   "outputs": [],
   "source": [
    "students = [\"Hermione\", \"Harry\", \"Ron\"]\n",
    "\n",
    "gryffindors = []\n",
    "\n",
    "for student in students:\n",
    "    gryffindors.append({\"name\": student, \"house\": \"Gryffindor\"})\n",
    "\n",
    "print(gryffindors)\n"
   ]
  },
  {
   "attachments": {},
   "cell_type": "markdown",
   "metadata": {},
   "source": [
    "Notice how the code doesn't (yet) use any comprehensions.<br>\n",
    "Instead,it follows the same paradigms which has been seen earlier."
   ]
  },
  {
   "cell_type": "code",
   "execution_count": null,
   "metadata": {},
   "outputs": [],
   "source": [
    "students = [\"Hermione\", \"Harry\", \"Ron\"]\n",
    "\n",
    "gryffindors = []\n",
    "\n",
    "for student in students:\n",
    "    gryffindors.append({\"name\": student, \"house\": \"Gryffindor\"})\n",
    "\n",
    "print(gryffindors)"
   ]
  },
  {
   "attachments": {},
   "cell_type": "markdown",
   "metadata": {},
   "source": [
    "Notice how the code doesn't (yet) use any comprehensions.<br>\n",
    "Instead,it follows the same paradigms which has been seen earlier."
   ]
  },
  {
   "cell_type": "code",
   "execution_count": null,
   "metadata": {},
   "outputs": [],
   "source": [
    "students = [\"Hermione\", \"Harry\", \"Ron\"]\n",
    "\n",
    "gryffindors = [{\"name\": student, \"house\": \"Gryffindor\"} for student in students]\n",
    "\n",
    "print(gryffindors)"
   ]
  },
  {
   "attachments": {},
   "cell_type": "markdown",
   "metadata": {},
   "source": [
    "Notice how the prior code is simplified into a single line where the structure of the dictionary is provided for each `student` in `students`."
   ]
  },
  {
   "cell_type": "code",
   "execution_count": null,
   "metadata": {},
   "outputs": [],
   "source": [
    "students = [\"Hermione\", \"Harry\", \"Ron\"]\n",
    "\n",
    "gryffindors = {student: \"Gryffindor\" for student in students}\n",
    "\n",
    "print(gryffindors)"
   ]
  },
  {
   "attachments": {},
   "cell_type": "markdown",
   "metadata": {},
   "source": [
    "notice how the dictionary will be constructed with key-value pairs"
   ]
  },
  {
   "attachments": {},
   "cell_type": "markdown",
   "metadata": {},
   "source": [
    "## filter\n",
    "\n",
    "Using Python's `filter` function allows the programmer to return a subset of a sequence for which a certain condition is true"
   ]
  },
  {
   "cell_type": "code",
   "execution_count": null,
   "metadata": {},
   "outputs": [],
   "source": [
    "students = [\n",
    "    {\"name\": \"Hermione\", \"house\": \"Gryffindor\"},\n",
    "    {\"name\": \"Harry\", \"house\": \"Gryffindor\"},\n",
    "    {\"name\": \"Ron\", \"house\": \"Gryffindor\"},\n",
    "    {\"name\": \"Draco\", \"house\": \"Slytherin\"},\n",
    "]\n",
    "\n",
    "\n",
    "def IsGryffindor(s):\n",
    "    return s[\"house\"] == \"Gryffindor\"\n",
    "\n",
    "\n",
    "gryffindors = filter(IsGryffindor, students)\n",
    "\n",
    "for gryffindor in sorted(gryffindors, key=lambda s: s[\"name\"]):\n",
    "    print(gryffindor[\"name\"])"
   ]
  },
  {
   "attachments": {},
   "cell_type": "markdown",
   "metadata": {},
   "source": [
    "Notice how a function called `IsGryffindor` is created. This is the filtering function that will take a student `s` and return `True` or `False` deppending on whether the student's house is Gryffindor.<br>\n",
    "The `filter` function takes two arguments. <br>\n",
    "\n",
    "- It takes the function that will be applied to each element in a sequence in this case, `IsGryffindor`. <br>\n",
    "\n",
    "- It takes the sequence to which it will apply the filtering function in this case, `students`. In `gryffindors`,  should only output the Gryffindor students\n",
    "\n",
    "`filter` can also use lambda functions."
   ]
  },
  {
   "cell_type": "code",
   "execution_count": null,
   "metadata": {},
   "outputs": [],
   "source": [
    "students = [\n",
    "    {\"name\": \"Hermione\", \"house\": \"Gryffindor\"},\n",
    "    {\"name\": \"Harry\", \"house\": \"Gryffindor\"},\n",
    "    {\"name\": \"Ron\", \"house\": \"Gryffindor\"},\n",
    "    {\"name\": \"Draco\", \"house\": \"Slytherin\"},\n",
    "]\n",
    "\n",
    "\n",
    "gryffindors = filter(lambda s: s[\"house\"] == \"Gryffindor\", students)\n",
    "\n",
    "for gryffindor in sorted(gryffindors, key=lambda s: s[\"name\"]):\n",
    "    print(gryffindor[\"name\"])"
   ]
  },
  {
   "attachments": {},
   "cell_type": "markdown",
   "metadata": {},
   "source": [
    "Notice how the same list of students is provided.<br>\n",
    "More can be learned in [Python's documentation of filter](https://docs.python.org/3/library/functions.html#filter)"
   ]
  },
  {
   "attachments": {},
   "cell_type": "markdown",
   "metadata": {},
   "source": [
    "##  enumerate\n",
    "\n",
    "The programmer may wish to provide some ranking of each student. <br>"
   ]
  },
  {
   "cell_type": "code",
   "execution_count": null,
   "metadata": {},
   "outputs": [],
   "source": [
    "students = ['Hermione', 'Harry', 'Ron']\n",
    "\n",
    "for i in range(len(students)):\n",
    "  print((i + 1, students[i]))"
   ]
  },
  {
   "attachments": {},
   "cell_type": "markdown",
   "metadata": {},
   "source": [
    "Notice how each students is enumerated when running the code.<br>\n",
    "Utilizing enumeration, can the same be done."
   ]
  },
  {
   "cell_type": "code",
   "execution_count": null,
   "metadata": {},
   "outputs": [],
   "source": [
    "students = ['Hermione', 'Harry', 'Ron']\n",
    "\n",
    "for i in enumerate(students):\n",
    "  print((i + 1, students[i]))"
   ]
  },
  {
   "attachments": {},
   "cell_type": "markdown",
   "metadata": {},
   "source": [
    "Notice how enumerate presents the index and the value of each `student`.<br>\n",
    "more can be learned in [Python's documentation of `enumerate`](https://docs.python.org/3/library/functions.html#enumerate)."
   ]
  },
  {
   "attachments": {},
   "cell_type": "markdown",
   "metadata": {},
   "source": [
    "## Generators and iterators\n",
    "\n",
    "In Python, there is a way to protect against your system running out of resources the problems they are addressing became too large.\n",
    "\n",
    "In the United States, it's customary to 'count sheep' in one's mind when one is having a hard time falling asleep."
   ]
  },
  {
   "cell_type": "code",
   "execution_count": null,
   "metadata": {},
   "outputs": [],
   "source": [
    "n = int(input(\"What's n? \"))\n",
    "for i in range(n):\n",
    "    print(\"🐑\" * i)"
   ]
  },
  {
   "attachments": {},
   "cell_type": "markdown",
   "metadata": {},
   "source": [
    "Notice how the program counts the number of sheep you ask for.\n",
    "The program can be further sophisticated by adding a main function"
   ]
  },
  {
   "cell_type": "code",
   "execution_count": null,
   "metadata": {},
   "outputs": [],
   "source": [
    "def main():\n",
    "    n = int(input(\"What's n? \"))\n",
    "    for i in range(n):\n",
    "        print(\"🐑\" * i)\n",
    "\n",
    "\n",
    "if __name__ == \"__main__\":\n",
    "    main()"
   ]
  },
  {
   "attachments": {},
   "cell_type": "markdown",
   "metadata": {},
   "source": [
    "Notice how `main` function is provided. <br>\n",
    "There is a habit of abstracting away parts of the code now.<br>\n",
    "Sheep function can be called by improving the code."
   ]
  },
  {
   "cell_type": "code",
   "execution_count": null,
   "metadata": {},
   "outputs": [],
   "source": [
    "def main():\n",
    "    n = int(input(\"What's n? \"))\n",
    "    for i in range(n):\n",
    "        print(sheep(i))\n",
    "\n",
    "\n",
    "def sheep(n):\n",
    "    return \"🐑\" * n\n",
    "\n",
    "\n",
    "if __name__ == \"__main__\":\n",
    "    main()"
   ]
  },
  {
   "attachments": {},
   "cell_type": "markdown",
   "metadata": {},
   "source": [
    "Notice how a flock of sheeps are created by returning `flock`. <br>\n",
    "by executing the code, different number of sheeps could be tried.<br>\n",
    "such as `10`, `1000` and `10 000`. What if `100 000` sheeps were asked for ?<br>\n",
    "The program may completely hang og crash, because the user has attempted to generate a massiv list of sheeps, the computer may be struggeling to complete the computation.\n",
    "\n",
    "the `yield` generator can solve the challange, by returning a small bit of the results at a time."
   ]
  },
  {
   "cell_type": "code",
   "execution_count": null,
   "metadata": {},
   "outputs": [],
   "source": [
    "def main():\n",
    "    n = int(input(\"What's n? \"))\n",
    "    for s in sheep(n):\n",
    "        print(s)\n",
    "\n",
    "\n",
    "def sheep(n):\n",
    "    for i in range(n):\n",
    "        yield \"🐑\" * i\n",
    "\n",
    "\n",
    "if __name__ == \"__main__\":\n",
    "    main()"
   ]
  },
  {
   "attachments": {},
   "cell_type": "markdown",
   "metadata": {},
   "source": [
    "Notice how `yield` provides only one value at a time while the `for` loop keeps working.\n",
    "\n",
    "more can be learned in [Python's documentation of Generators](https://docs.python.org/3/howto/functional.html#generators) and [iterators](https://docs.python.org/3/howto/functional.html#iterators)"
   ]
  }
 ],
 "metadata": {
  "language_info": {
   "name": "python"
  },
  "orig_nbformat": 4
 },
 "nbformat": 4,
 "nbformat_minor": 2
}
