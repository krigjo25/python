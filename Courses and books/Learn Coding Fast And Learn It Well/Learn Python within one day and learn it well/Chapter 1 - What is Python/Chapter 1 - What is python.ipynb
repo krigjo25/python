{
 "cells": [
  {
   "cell_type": "markdown",
   "metadata": {},
   "source": [
    "#   Python Basic Notebook"
   ]
  },
  {
   "cell_type": "markdown",
   "metadata": {},
   "source": [
    "## 1.0 What is Python\n",
    "\n",
    "Python is a high-level programming language, created by Guido Van Rossu in the late 1980. The language places a strong emphasis on code readability and simplicity.\n",
    "\n",
    "Python code resembles the English language which is not understandable for computer. The code has to be interpreted by a unique program known as Python Interpreter (PI). Which has to be installed before we can program it."
   ]
  }
 ],
 "metadata": {
  "language_info": {
   "name": "python"
  },
  "orig_nbformat": 4
 },
 "nbformat": 4,
 "nbformat_minor": 2
}
