{
 "cells": [
  {
   "cell_type": "markdown",
   "metadata": {},
   "source": [
    "#   Chapter 7 - Function & Modules Notebook"
   ]
  },
  {
   "cell_type": "markdown",
   "metadata": {},
   "source": [
    "## 7.1 What are functions?\n",
    "\n",
    "Pre written codes which perfomrs a certain task. \n",
    "\n",
    "Can be a part of a class or a stand alone.\n",
    "The function can be called by simply typing the name of the function or by using dot notation.\n",
    "\n",
    "Some requires data to perform a certain task called Arguments (args). \n",
    "passes in the function in the parenthese ((required)arg, (required)arg, (1 optional)*arg, (optionals)**kward)"
   ]
  },
  {
   "cell_type": "code",
   "execution_count": null,
   "metadata": {},
   "outputs": [],
   "source": [
    "#   Calling the function print\n",
    "print('Hello World')"
   ]
  },
  {
   "cell_type": "markdown",
   "metadata": {},
   "source": [
    "##  7.2 Defining a own function\n",
    "\n",
    "function can be defined by \n",
    "def functionName():\n",
    "    return\n",
    "\n",
    "**Def** \n",
    "Tells the program, the intended code from the next line is a part of the function\n",
    "    \n",
    "**return**\n",
    "Tells the program to return an answer from the function, when its executed the function will exit\n",
    "\n",
    "if function doesnt need to return a value simply return or return none\n",
    "\n",
    "strings, numbers and variable can be declared before assigned to the ()"
   ]
  },
  {
   "cell_type": "code",
   "execution_count": null,
   "metadata": {},
   "outputs": [],
   "source": [
    "#   Defining a function\n",
    "def Function():\n",
    "    return\n",
    "\n",
    "#   Defining a function called isPrime\n",
    "def isPrime(num):\n",
    "    '''\n",
    "        About isPrime\n",
    "        \n",
    "        The function checks wheter the value is prime or not\n",
    "    '''\n",
    "\n",
    "    #   Checking if the value is prime or odd\n",
    "    for x in range(2, num):\n",
    "        if num % x == 0:return 'ODD', False\n",
    "        \n",
    "    return 'Prime', True\n",
    "isPrime(2)\n"
   ]
  },
  {
   "cell_type": "markdown",
   "metadata": {},
   "source": [
    "##  7.4 Variable Scope\n",
    "\n",
    "Variable scope is a conscept for variables defined within a function (local variable). They are treated ddifferently than variables defined outside a function (global variables)\n",
    "\n",
    "1. They Can only be accessible within the function\n",
    "2. If a local variable shares the same name as a global variable, any code inside the function is accessing the local variable, any code outside is accessing the global variable\n"
   ]
  },
  {
   "cell_type": "code",
   "execution_count": null,
   "metadata": {},
   "outputs": [],
   "source": [
    "#   Initializing a global variable\n",
    "msg = 'Global Variable'\n",
    "\n",
    "def localVariable():\n",
    "\n",
    "    msg = 'Local Variable'\n",
    "    print('Inside the function')\n",
    "    print(msg)\n",
    "\n",
    "    return\n",
    "localVariable()\n",
    "\n",
    "print('Outside a function')\n",
    "print(msg)\n"
   ]
  },
  {
   "cell_type": "markdown",
   "metadata": {},
   "source": [
    "##  7.4 Default parameters\n",
    "\n",
    "Python allows us to define default values for the parameters of a function.\n",
    "\n",
    "if a parameter has a default value, we do not have to pass in any value for the parameter when calling the method. They have to be passed at end of the parameter / argument list.\n",
    "\n",
    "\n",
    "A defined function can have default values such as (a,b,c = 5 ) a, b, c, is defined as 5\n",
    "\n"
   ]
  },
  {
   "cell_type": "code",
   "execution_count": null,
   "metadata": {},
   "outputs": [],
   "source": [
    "#   Defining a function with default parameters\n",
    "def someFunction(a,b,c=1, d=2, e=3):\n",
    "    \n",
    "    #   Printing the parameters / arguments\n",
    "    print(a,b,c,d,e)\n",
    "\n",
    "    return\n",
    "\n",
    "someFunction(10,20)\n"
   ]
  },
  {
   "cell_type": "markdown",
   "metadata": {},
   "source": [
    "##  7.5 Variable Length Argument List\n",
    "\n",
    "In addition to haveing default values for parameters, Python allows us to pass a variable number of arguments to a function\n",
    "\n",
    "If the number of arguments of a function has in advance is unkown its very useful. In such cases we can use **'*'** symbol. its called a **non-keyworded argument**\n",
    "\n",
    "When we add a non-keyworded argument we're telling the compiler that the variable stoores a variable length argument list that contains several items.\n",
    "\n",
    "By passing double asterisks as a argument to the function it's called for a **key-worded argument list**. Which is essentially a dictionary.  \n",
    "\n",
    "If a function uses a normal argument also known as **formal argument**, a non-key worded argument and a keyworded argument we must define the function using the following order (frag, *args, **kwargs) formal argument has to come first, followed by the non-keyworded argument and the keyworded argument in the end.\n",
    "\n"
   ]
  },
  {
   "cell_type": "code",
   "execution_count": null,
   "metadata": {},
   "outputs": [],
   "source": [
    "#   defining a non-keyworded argument\n",
    "def addNumbers(*num):\n",
    "\n",
    "    #   Initializing local variables\n",
    "    sum = 0\n",
    "\n",
    "    #   Looping through the argument\n",
    "    for i in num:\n",
    "        sum +=i\n",
    "    print(f'The sum = {sum}')\n",
    "\n",
    "addNumbers(1,2,3,4,5,6,7,8,9,10)\n",
    "\n",
    "def memberAge(**age):\n",
    "\n",
    "    #   looping through the keyworded argument\n",
    "    for i, j in age.items():\n",
    "        print(f'Name :{i}\\n age: {j}')\n",
    "memberAge(peter = 5, Jhon = 7)\n",
    "\n",
    "#   Ordering the arguments in the correct order\n",
    "def someFunction(arg, *args, **kwargs):\n",
    "    pass"
   ]
  },
  {
   "cell_type": "markdown",
   "metadata": {},
   "source": [
    "#   7.6 Importing modules\n",
    "Python has a large number of built-in functions. These functions are saved in files known as modules. fuctionfiles.py - modules\n",
    "    \n",
    "1. Importing the entire module by \"import moduleName\"\n",
    "2. Modules can be imported with \"import moduleName as m\" if its to trublesome to write the whole module each time\n",
    "3. You can import specific functions from the module by seperating them with a comma. \"from moduleName import function, function1, function2 etc..\n",
    "Imports the whole module, but modulename.function has to be used\n",
    "modules can be imported as keyword (import random as r)\n",
    "\n",
    "from module import function. \n",
    "Imports spesific functions\n",
    "    \n",
    "importing modules from another folder.\n",
    "import sys\n",
    "if 'C:\\\\MyPythonModules' not in sys.path: sys.path.append('C:\\\\MyPythonModules')"
   ]
  },
  {
   "cell_type": "code",
   "execution_count": null,
   "metadata": {},
   "outputs": [],
   "source": [
    "#   Importing modules\n",
    "import random\n",
    "\n",
    "#   Second way\n",
    "import random as r\n",
    "\n",
    "#   Third way\n",
    "from random import randrange\n",
    "\n",
    "r.randrange(1,10)\n"
   ]
  },
  {
   "cell_type": "markdown",
   "metadata": {},
   "source": [
    "#   7.7 Creating our Own Module\n",
    "\n",
    "Besides from importing built-in modules, we can create our own modules. Its a very usefull feature when you want to reuse a function in the future.\n",
    "\n",
    "Createing a module is simple, We just save a file in .py extension\n",
    "and put the file in the same folder as the py file that you're going to import from.\n",
    "\n",
    "e.g we created a function earlier, if we want to use it in a project we simply save it in a own file, and extract it from the file.\n",
    "\n",
    "Note :\n",
    "The module can not be above root level\n",
    "\n"
   ]
  },
  {
   "cell_type": "code",
   "execution_count": null,
   "metadata": {},
   "outputs": [],
   "source": [
    "\n",
    "#   Importing from Notes folder\n",
    "from notebookModule import isPrime\n",
    "\n",
    "#   Importing from lib/fuctions folder\n",
    "from lib.methods.notebookModule import isPrime as e\n",
    "isPrime(13)"
   ]
  }
 ],
 "metadata": {
  "kernelspec": {
   "display_name": "Python 3.10.5 64-bit (windows store)",
   "language": "python",
   "name": "python3"
  },
  "language_info": {
   "codemirror_mode": {
    "name": "ipython",
    "version": 3
   },
   "file_extension": ".py",
   "mimetype": "text/x-python",
   "name": "python",
   "nbconvert_exporter": "python",
   "pygments_lexer": "ipython3",
   "version": "3.10.5"
  },
  "orig_nbformat": 4,
  "vscode": {
   "interpreter": {
    "hash": "8260862554d27b7d0ec26f530052bd6c544de7b0084aa89a3e7dadc962908b17"
   }
  }
 },
 "nbformat": 4,
 "nbformat_minor": 2
}
