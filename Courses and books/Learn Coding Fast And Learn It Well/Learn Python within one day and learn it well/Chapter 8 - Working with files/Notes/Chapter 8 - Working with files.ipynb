{
 "cells": [
  {
   "cell_type": "markdown",
   "metadata": {},
   "source": [
    "#   Chapter 8 - Working with files Notebook"
   ]
  },
  {
   "cell_type": "markdown",
   "metadata": {},
   "source": [
    "##  8.1 Openning & Reading Text Files\n",
    "    \n",
    "Before the file can be read, it has to be opened. just like a book. The function **open()** does that and requires two arguments.\n",
    "-   Path - Path to where the file is located\n",
    "-   Mode - This specifies how the file will be used.\n",
    "\n",
    "**Modes**:\n",
    "\n",
    "r   - Read Only,<br>\n",
    "r+  - for read and write<br>\n",
    "w   - Write Only, if the file exists, any data on the file will be erased, otherwise it creates a file<br>\n",
    "\n",
    "a   - Appending text, if the specified file does not exist, it will be created. else any data will be automatically added at the end of the text.\n",
    "        \n",
    "    \n",
    "    built-in\n",
    "        f = open('path to txt file','mode')\n",
    "        f.readline() - Reads only one line\n",
    "        f.readlines() - reads everything ( using for i in f print(i)) is an alternative way\n",
    "        f.write() - writes in to the document\n",
    "        read() - reads the document\n",
    "        remove(file)\n",
    "        rename(old|new)"
   ]
  },
  {
   "cell_type": "code",
   "execution_count": 1,
   "metadata": {},
   "outputs": [
    {
     "name": "stdout",
     "output_type": "stream",
     "text": [
      "This file is an example of how python can read external files.\n",
      " Hello Python World!\n",
      "\n"
     ]
    }
   ],
   "source": [
    "#   Initializing variables\n",
    "f = open('lib/demo/demo.txt', 'r')\n",
    "\n",
    "line = f.readline()\n",
    "line1 = f.readline()\n",
    "\n",
    "print(line, line1)\n",
    "\n",
    "#   Closeing the file\n",
    "f.close()"
   ]
  },
  {
   "cell_type": "markdown",
   "metadata": {},
   "source": [
    "## 8.2 Using a For Loop to Read Text Files\n",
    "\n",
    "addition to **readline()**, we can use a for loop. Its more elegant and efficient way to read the text."
   ]
  },
  {
   "cell_type": "code",
   "execution_count": 1,
   "metadata": {},
   "outputs": [
    {
     "name": "stdout",
     "output_type": "stream",
     "text": [
      "This file is an example of how python can read external files.\n",
      "Hello Python World!\n",
      "Learn Pyhton in one day and learn it well.\n",
      "Python for beginners with Hands-on projects.\n",
      "The only book you need to start coding in Python immediately\n",
      "http://www.learncodingfast.com/python\n",
      "\n",
      "This is a appended sentence to demo.txt\n",
      "\n",
      "8.3 Writing text to files \n",
      "Python is fun !"
     ]
    }
   ],
   "source": [
    "#   Opening the file\n",
    "f = open('lib/demo/demo.txt', 'r')\n",
    "\n",
    "#   Looping through the text file\n",
    "for line in f:\n",
    "    print(f'{line}', end = '')\n",
    "\n",
    "#   Closeing the file\n",
    "f.close()"
   ]
  },
  {
   "cell_type": "markdown",
   "metadata": {},
   "source": [
    "##  8.3 Writing text to files\n",
    "\n",
    "we can use 'w' and 'a' mode to write into text files, but with 'w' mode the content will be erased, while 'a' mode will just append the text in the end.\n",
    "\n"
   ]
  },
  {
   "cell_type": "code",
   "execution_count": null,
   "metadata": {},
   "outputs": [],
   "source": [
    "#   Opening the file\n",
    "f = open('lib/demo/demo.txt', 'a')\n",
    "\n",
    "#   Appending text into the file\n",
    "f.write('\\n First appended text')\n",
    "f.write('\\n Second appended text')\n",
    "\n",
    "#   Closing the file\n",
    "f.close()"
   ]
  },
  {
   "cell_type": "markdown",
   "metadata": {},
   "source": [
    "##  8.4 Opening and Reading Text Files by Buffer Size\n",
    "\n",
    "Sometimes we'd like to read a file by buffer size, so that our program uses neccessary memory resources. We're going to do that by **read()** which allows us to specify the buffer size we want.\n",
    "The value inside **read()** tells the read function to read 10 bytes at the time."
   ]
  },
  {
   "cell_type": "code",
   "execution_count": 2,
   "metadata": {},
   "outputs": [
    {
     "data": {
      "text/plain": [
       "(None, None)"
      ]
     },
     "execution_count": 2,
     "metadata": {},
     "output_type": "execute_result"
    }
   ],
   "source": [
    "#   Opening the file to be read\n",
    "f = open('lib/demo/demo.txt', 'r')\n",
    "o = open('lib/demo/demooutput.txt', 'w')\n",
    "\n",
    "#   Declear a variable to read\n",
    "msg = f.read(10)\n",
    "\n",
    "#   looping through the msg\n",
    "while len(msg):\n",
    "\n",
    "    #   Writing to the new file\n",
    "    o.write(msg)\n",
    "\n",
    "    msg = f.read(10)\n",
    "\n",
    "f.close(), o.close()\n"
   ]
  },
  {
   "cell_type": "markdown",
   "metadata": {},
   "source": [
    "##  8.5 Opening, Reading and Writing Binary Files\n",
    "\n",
    "Binary files refer to any file which is non-text e.g (img / video)\n",
    "\n",
    "Modes:\n",
    "rb - Read binary<br>\n",
    "wb - write binary<br>\n",
    "\n"
   ]
  },
  {
   "cell_type": "code",
   "execution_count": 3,
   "metadata": {},
   "outputs": [],
   "source": [
    "#   Opening images\n",
    "f = open('lib/demo/demopic.jpg', 'rb')\n",
    "o = open('lib/demo/output.jpg', 'wb')\n",
    "\n",
    "#   Reading 10 bytes at the time\n",
    "msg = f.read(10)\n",
    "\n",
    "#   Looping through\n",
    "while len(msg):\n",
    "\n",
    "    #   Writing a new file.\n",
    "    o.write(msg)\n",
    "    msg = f.read(10)\n",
    "\n",
    "#   Closeing images\n",
    "f.close()\n",
    "o.close()"
   ]
  },
  {
   "cell_type": "markdown",
   "metadata": {},
   "source": [
    "##  8.6 Rename & Delete Files\n",
    "\n",
    "Two other useful functions which is necsessary to learn when working with files are **remove()** and **rename()**. They are available in the os module and have to be imported, before they can be used.\n",
    "\n",
    "**remove()**<br>\n",
    "Deletes a file. **remove(filename)**\n",
    "\n",
    "**rename()**<br>\n",
    "Renames a file. **rename(oldFileName, newFileName)**\n"
   ]
  },
  {
   "cell_type": "code",
   "execution_count": 14,
   "metadata": {},
   "outputs": [],
   "source": [
    "import os\n",
    "\n",
    "os.rename('demooutput.txt', 'demotext.txt')\n",
    "os.rename('output.jpg', 'outputimg.jpg')\n",
    "os.remove('demotext.txt')\n",
    "os.remove('outputimg.jpg')"
   ]
  }
 ],
 "metadata": {
  "kernelspec": {
   "display_name": "Python 3.10.5 64-bit",
   "language": "python",
   "name": "python3"
  },
  "language_info": {
   "codemirror_mode": {
    "name": "ipython",
    "version": 3
   },
   "file_extension": ".py",
   "mimetype": "text/x-python",
   "name": "python",
   "nbconvert_exporter": "python",
   "pygments_lexer": "ipython3",
   "version": "3.10.5"
  },
  "orig_nbformat": 4,
  "vscode": {
   "interpreter": {
    "hash": "949777d72b0d2535278d3dc13498b2535136f6dfe0678499012e853ee9abcab1"
   }
  }
 },
 "nbformat": 4,
 "nbformat_minor": 2
}
