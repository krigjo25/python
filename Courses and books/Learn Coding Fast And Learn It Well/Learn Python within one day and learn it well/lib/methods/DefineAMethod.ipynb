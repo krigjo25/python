{
 "cells": [
  {
   "cell_type": "markdown",
   "metadata": {},
   "source": [
    "#   Defining a function Notebook"
   ]
  },
  {
   "cell_type": "markdown",
   "metadata": {},
   "source": [
    "\n",
    "## Defining a function for the book\n",
    "\n",
    "## About the function\n",
    "\n",
    "# Prime / Odd\n",
    "\n",
    "Prime numbers is integers whom can divide itself.\n",
    "Odd numbers can not divide itself.\n",
    "\n",
    "Create a function which can check wheter the integer can be divided on itself.\n",
    "If the integer can divide on itself, return 'Prime',\n",
    "else if the number can not be divided itself, return \"Odd\"\n"
   ]
  },
  {
   "cell_type": "code",
   "execution_count": null,
   "metadata": {},
   "outputs": [],
   "source": [
    "# variable declarations\n",
    "\n",
    "msg = \"Hello Word !\"\n",
    "\n",
    "\n",
    "def isPrime(num):\n",
    "    '''\n",
    "        About isPrime\n",
    "        \n",
    "        The function checks wheter the value is prime or not\n",
    "    '''\n",
    "\n",
    "    #   Checking if the value is prime or odd\n",
    "    for x in range(2, num):\n",
    "        if num % x == 0:return 'ODD', False\n",
    "        \n",
    "    return 'Prime', True\n",
    "\n",
    "\n",
    "def varScope(var):\n",
    "    '''\n",
    "    About varScope\n",
    "    Write the difference between global or local message\n",
    "    '''\n",
    "    message = var\n",
    "    print (\" He shouts «%s» outside, while the girl said in the class room «%s»\" % (msg, message))\n",
    "\n",
    "def addNum(*args):\n",
    "\n",
    "        sum = 0\n",
    "\n",
    "        for i in args:\n",
    "            sum += i\n",
    "\n",
    "        print(sum)"
   ]
  }
 ],
 "metadata": {
  "language_info": {
   "name": "python"
  },
  "orig_nbformat": 4
 },
 "nbformat": 4,
 "nbformat_minor": 2
}
