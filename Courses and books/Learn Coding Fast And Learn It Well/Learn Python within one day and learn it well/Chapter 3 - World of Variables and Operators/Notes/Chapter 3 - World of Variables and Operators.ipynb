{
 "cells": [
  {
   "cell_type": "markdown",
   "metadata": {},
   "source": [
    "# Chapter 3 - World of Variables"
   ]
  },
  {
   "cell_type": "markdown",
   "metadata": {},
   "source": [
    "## 3.1 What are variables\n",
    "\n",
    "\n",
    "Variables are names given to data which is needed to store and manipulate in the programs.\n",
    "\n",
    "After the variable is defined. the program will allocate a certain area of your computer's storage space to store this data. It can be accessed and modified, by referring to it by its name. Everytime a new variable is declared. it has to be given a initial value. The value can be changed in the program later.\n",
    "\n",
    "Variables can be defined multiple at one go.\n",
    "\n",
    "\n"
   ]
  },
  {
   "cell_type": "code",
   "execution_count": 1,
   "metadata": {},
   "outputs": [
    {
     "name": "stdout",
     "output_type": "stream",
     "text": [
      "Peter Parker\n",
      "30\n",
      "\n"
     ]
    }
   ],
   "source": [
    "age = 30\n",
    "userName = 'Peter Parker'\n",
    "\n",
    "print(f'{userName}\\n{age}\\n')\n",
    "\n",
    "age, name = 30, 'Peter Parker'\n",
    "print(f'{userName}\\n{age}\\n')"
   ]
  },
  {
   "cell_type": "markdown",
   "metadata": {},
   "source": [
    "## 3.2 Naming a variable\n",
    "\n",
    "variables can only contain letters between a-z, A-Z, numbers and underscore. First Character can NOT be numberic neither reserved words as they are preassigned meanings in Python.\n",
    "(print, input, if, while, for, list etc)..\n",
    "\n",
    "Variable names are case sensitive.\n",
    "We can either use the camel case notation or underscores\n",
    "e.g \n",
    "\n",
    "\n"
   ]
  },
  {
   "cell_type": "code",
   "execution_count": null,
   "metadata": {},
   "outputs": [],
   "source": [
    "age = 30\n",
    "userName = 'Peter Parker'\n",
    "user_name = 'Patrica'\n"
   ]
  },
  {
   "cell_type": "markdown",
   "metadata": {},
   "source": [
    "##  3.3 The Assignment Operator\n",
    "\n",
    "In programming '**=**' sign means assign to, and '**==**' means equal to\n",
    "\n",
    "The statements x = y and y = x has a different meaning in programming.\n",
    "As we assign x the values of y and vice versa.\n",
    "\n"
   ]
  },
  {
   "cell_type": "code",
   "execution_count": 1,
   "metadata": {},
   "outputs": [
    {
     "name": "stdout",
     "output_type": "stream",
     "text": [
      "x = : 10\n",
      " y = 10\n",
      "\n"
     ]
    }
   ],
   "source": [
    "x = 5\n",
    "y = 10\n",
    "x = y\n",
    "print(f'x = : {x}\\n y = {y}\\n')"
   ]
  },
  {
   "cell_type": "markdown",
   "metadata": {},
   "source": [
    "# 3.4 Basic Operators\n",
    "\n",
    "Besides assigning a variable an initial value, we can also perform the usual mathematical operations on variables.\n",
    "\n",
    "**Basic operators**\n",
    "-   '+'   Represent Addition\n",
    "-   '-'   Represent substraction,\n",
    "-   '*'   Represent multiplication,\n",
    "-   '/'   Represent division,\n",
    "-   '//'  Represent floor division\n",
    "-   '%'   Represent modules,\n",
    "-   '**'  Represent exponent\n"
   ]
  },
  {
   "cell_type": "code",
   "execution_count": 2,
   "metadata": {},
   "outputs": [
    {
     "name": "stdout",
     "output_type": "stream",
     "text": [
      "a + b = 15\n",
      "a - b = 3\n",
      "a * b = 10\n",
      "a / b = 2.5\n",
      "a // b = 2\n",
      "a % b = 1\n",
      "a ** b = 25\n"
     ]
    }
   ],
   "source": [
    "#   Initializing variables\n",
    "a, b = 5,2\n",
    "\n",
    "# Addition\n",
    "x = a+y\n",
    "print(f'a + b = {x}')\n",
    "\n",
    "#   Substraction\n",
    "x = a-b\n",
    "print(f'a - b = {x}')\n",
    "\n",
    "#   Multiplication\n",
    "x = a*b\n",
    "print(f'a * b = {x}')\n",
    "\n",
    "#   Division\n",
    "x = a/b\n",
    "print(f'a / b = {x}')\n",
    "\n",
    "#   Floor Division\n",
    "x = a//b\n",
    "print(f'a // b = {x}')\n",
    "\n",
    "#   Modules\n",
    "x = a%b\n",
    "print(f'a % b = {x}')\n",
    "\n",
    "#   Exponent\n",
    "x = a**b\n",
    "print(f'a ** b = {x}')"
   ]
  },
  {
   "cell_type": "markdown",
   "metadata": {},
   "source": [
    "#   3.5 More Assignment Operators\n",
    "\n",
    "There are few more assignment operators besides from = operator in Python  these includes operators such as '+=', '-=' & '*='. Works for every operator.\n",
    "\n"
   ]
  },
  {
   "cell_type": "code",
   "execution_count": 6,
   "metadata": {},
   "outputs": [
    {
     "name": "stdout",
     "output_type": "stream",
     "text": [
      "4\n",
      "4\n",
      "0\n",
      "0\n"
     ]
    }
   ],
   "source": [
    "#   Initializing variables\n",
    "a = 2\n",
    "\n",
    "# Insted of doing it this way\n",
    "a = a + 2\n",
    "print(a)\n",
    "#   We do this was\n",
    "\n",
    "#   Initializing variables\n",
    "a = 2\n",
    "a +=a\n",
    "print(a)\n",
    "\n",
    "#   Initializing variables\n",
    "a = 2\n",
    "a -=a\n",
    "print(a)\n",
    "\n",
    "#   Initializing variables\n",
    "a = 2\n",
    "a *=a\n",
    "print(a)\n"
   ]
  }
 ],
 "metadata": {
  "kernelspec": {
   "display_name": "Python 3.10.5 64-bit (windows store)",
   "language": "python",
   "name": "python3"
  },
  "language_info": {
   "codemirror_mode": {
    "name": "ipython",
    "version": 3
   },
   "file_extension": ".py",
   "mimetype": "text/x-python",
   "name": "python",
   "nbconvert_exporter": "python",
   "pygments_lexer": "ipython3",
   "version": "3.10.5"
  },
  "orig_nbformat": 4,
  "vscode": {
   "interpreter": {
    "hash": "8260862554d27b7d0ec26f530052bd6c544de7b0084aa89a3e7dadc962908b17"
   }
  }
 },
 "nbformat": 4,
 "nbformat_minor": 2
}
