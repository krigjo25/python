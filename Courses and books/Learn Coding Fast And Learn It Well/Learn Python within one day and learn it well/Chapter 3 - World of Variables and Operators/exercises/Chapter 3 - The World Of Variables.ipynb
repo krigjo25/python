{
 "cells": [
  {
   "cell_type": "markdown",
   "metadata": {},
   "source": [
    "# Chapter 3 - The World Of Variables WorkBook"
   ]
  },
  {
   "cell_type": "markdown",
   "metadata": {},
   "source": [
    "## 1 Assign the number 11 to a variable"
   ]
  },
  {
   "cell_type": "code",
   "execution_count": null,
   "metadata": {},
   "outputs": [],
   "source": [
    "# Initializing variables\n",
    "var = 11\n",
    "print(f'The variable var has a value of {var}')"
   ]
  },
  {
   "cell_type": "markdown",
   "metadata": {},
   "source": [
    "## 2 Assign a string  to a variable"
   ]
  },
  {
   "cell_type": "code",
   "execution_count": null,
   "metadata": {},
   "outputs": [],
   "source": [
    "var = 'Hello Python World !'\n",
    "print(var)"
   ]
  },
  {
   "attachments": {},
   "cell_type": "markdown",
   "metadata": {},
   "source": [
    "##  3 Assign a name to a variable and print the value of the variable"
   ]
  },
  {
   "attachments": {},
   "cell_type": "markdown",
   "metadata": {},
   "source": [
    "###  3.1 Change the name into a new name and print it\n",
    "\n",
    "**Note : **<br>\n",
    "**Print()** function is a built-in Python function, its used to display messages, values of variables or results of mathematical operations.\n",
    "\n"
   ]
  },
  {
   "cell_type": "code",
   "execution_count": null,
   "metadata": {},
   "outputs": [],
   "source": [
    "#   Initializing variable\n",
    "name = 'Jhon Doe'\n",
    "\n",
    "#   Printing the value of name\n",
    "print(f'My name is : {name}')\n",
    "\n",
    "#   Updating the variable\n",
    "name = 'Jane Doe'\n",
    "\n",
    "#   Printing the value of name\n",
    "print(f'variable changed into : {name}')"
   ]
  },
  {
   "cell_type": "markdown",
   "metadata": {},
   "source": [
    "## 4 Determind the output of the following program without running the code\n",
    "\n",
    "\n",
    "num = 5\n",
    "num1 = 7\n",
    "\n",
    "**num** has the value of 5\n",
    "**num1** has the value of 7"
   ]
  },
  {
   "cell_type": "code",
   "execution_count": null,
   "metadata": {},
   "outputs": [],
   "source": [
    "\n",
    "#   Initializing variables\n",
    "num = 5\n",
    "num1 = 7\n",
    "print(f' num has the value of {num}\\nnum1 has the value of {num1}')"
   ]
  },
  {
   "attachments": {},
   "cell_type": "markdown",
   "metadata": {},
   "source": [
    "## 5 Explain what is wrong with the following statement\n",
    "\n",
    "`1num = 7 + 5`\n",
    "\n",
    "Variables can not start with numbers so `1num = 7 + 5` will print an error.\n"
   ]
  },
  {
   "cell_type": "markdown",
   "metadata": {},
   "source": [
    "## 6 Determind the output of the following program without running the code\n",
    "\n",
    "`a = 17`\n",
    "`b = 12`\n",
    "`a = b`\n",
    "`print(a)`\n",
    "\n",
    "The output will print out a the value of b\n"
   ]
  },
  {
   "cell_type": "code",
   "execution_count": null,
   "metadata": {},
   "outputs": [],
   "source": [
    "#   Initializing variables and assign them values\n",
    "a = 17\n",
    "b = 12\n",
    "a = b\n",
    "\n",
    "print (f'The output will print out a the value of b {a}')\n",
    "\n",
    "a = 6\n",
    "b = 6\n",
    "a = b\n",
    "print (\"Question 6.2 :\\n b =\", b)\n",
    "\n",
    "a = b\n",
    "print(\"Question 6.3 : \\n a =\", a, \" new variable was assigned to a\")"
   ]
  },
  {
   "attachments": {},
   "cell_type": "markdown",
   "metadata": {},
   "source": [
    "##  7 Determind the output of the code below\n",
    "\n",
    "``` \n",
    "x, y = 5,4\n",
    "a = x + y\n",
    "b = x-y\n",
    "c = x*y\n",
    "d = x/4\n",
    "e = x//y\n",
    "f = x**y\n",
    "\n",
    "print(f'{a}\\n{b}\\n{c}\\n{d}\\n{e}\\n{f}')\n",
    "```"
   ]
  },
  {
   "attachments": {},
   "cell_type": "markdown",
   "metadata": {},
   "source": [
    "##   8 Finding the reminder\n",
    "\n",
    "- Assign the values `12` & `5` to two variables `a` & `b`.\n",
    "- Find the sum and product of `a` and `b` and assign the result to another two variables.\n",
    "\n",
    "- Find the remainder when `a` is divided by `b` and assign the result to a variable called remainder"
   ]
  },
  {
   "cell_type": "code",
   "execution_count": null,
   "metadata": {},
   "outputs": [],
   "source": [
    "#   Initializing variables\n",
    "a = 12\n",
    "b = 5\n",
    "\n",
    "sum = a + b\n",
    "product = a * b\n",
    "remainder = a%b\n",
    "\n",
    "print(f'a = {a} & b = {b}\\nsum = \", {sum}, \"product =\", product\\n remainder = \", {remainder}')"
   ]
  },
  {
   "attachments": {},
   "cell_type": "markdown",
   "metadata": {},
   "source": [
    "##   9 Assign the values 13, 7 and 5 to three variables a, b and c respectively.\n",
    "\n",
    "- Use the variables to evaluate the Mathematical expression `(13 + 5)*/ +5 -13`\n",
    "- Assign the result to a variable called result and print the value of result"
   ]
  },
  {
   "cell_type": "code",
   "execution_count": null,
   "metadata": {},
   "outputs": [],
   "source": [
    "#   Initializing variables\n",
    "a = 5\n",
    "b = 7\n",
    "c = 13\n",
    "\n",
    "result = (c + a)*b + a - c\n",
    "print (\"(13 + 5)*/ +5 -13 =\", result)\n"
   ]
  },
  {
   "attachments": {},
   "cell_type": "markdown",
   "metadata": {},
   "source": [
    "## 10 Determine the output of the following program\n",
    "\n",
    "s = 12\n",
    "s = s-3\n",
    "print(9)\n"
   ]
  },
  {
   "cell_type": "code",
   "execution_count": null,
   "metadata": {},
   "outputs": [],
   "source": [
    "#   Initializing variables\n",
    "s = 12\n",
    "s -= 3\n",
    "print(s)\n"
   ]
  },
  {
   "attachments": {},
   "cell_type": "markdown",
   "metadata": {},
   "source": [
    "## 11 Assign the value 5 to a variable called num."
   ]
  },
  {
   "attachments": {},
   "cell_type": "markdown",
   "metadata": {},
   "source": [
    "###   11.1 Add 10 to num and assign the result back to num. Print the value of num."
   ]
  },
  {
   "cell_type": "code",
   "execution_count": null,
   "metadata": {},
   "outputs": [],
   "source": [
    "#   Initializing variables\n",
    "num = 5\n",
    "print(f'num = {num}')\n",
    "\n",
    "#   Initializing variables\n",
    "a = 3\n",
    "num = 10\n",
    "num = a + num\n",
    "print(f'num = {num}')\n"
   ]
  },
  {
   "attachments": {},
   "cell_type": "markdown",
   "metadata": {},
   "source": [
    "##   12 Determind the output of the following program\n",
    "\n",
    "`t = 10`\n",
    "\n",
    "`t += 1`\n",
    "\n",
    "`t *= 2`\n",
    "\n",
    "`t /= 5`\n",
    "\n",
    "4.34"
   ]
  },
  {
   "cell_type": "code",
   "execution_count": null,
   "metadata": {},
   "outputs": [],
   "source": [
    "#   Initalizing variables\n",
    "t = 10\n",
    "\n",
    "#   Increment by 1\n",
    "t += 1\n",
    "\n",
    "#   Multiply by 2\n",
    "t *= 2\n",
    "\n",
    "#   Devide by 5\n",
    "t /= 5\n",
    "print(t)"
   ]
  },
  {
   "cell_type": "markdown",
   "metadata": {},
   "source": [
    "## 13 Determind the output of the following program without running the code:\n",
    "\n",
    "`p,q = 12,4`\n",
    "`p+= 3`\n",
    "`q**=2`\n",
    "\n",
    "Inializing the variables p,q and assign them values.\n",
    "Increment by 3 for variable *p* 4 power by 2\n",
    "\n"
   ]
  }
 ],
 "metadata": {
  "kernelspec": {
   "display_name": "Python 3.10.5 64-bit (windows store)",
   "language": "python",
   "name": "python3"
  },
  "language_info": {
   "codemirror_mode": {
    "name": "ipython",
    "version": 3
   },
   "file_extension": ".py",
   "mimetype": "text/x-python",
   "name": "python",
   "nbconvert_exporter": "python",
   "pygments_lexer": "ipython3",
   "version": "3.10.5"
  },
  "orig_nbformat": 4,
  "vscode": {
   "interpreter": {
    "hash": "da24d7b7dd3c86bb9e13f4aeb887c509d17f7c3ac26293a89f48f4d1d2c687b8"
   }
  }
 },
 "nbformat": 4,
 "nbformat_minor": 2
}
