{
 "cells": [
  {
   "cell_type": "markdown",
   "metadata": {},
   "source": [
    "#   Chapter 6 - Making Choices and Decisions\n",
    "Looking at the control flow tools such as \n",
    "\n",
    "**if**\n",
    "Evaluates if a certain condition is met\n",
    "\n",
    "**for**\n",
    "Execute statements untill there is nothing to execute\n",
    "\n",
    "**while**\n",
    "While A is True, Execute.\n",
    "\n",
    "**try and except**\n",
    "Determinds what the program should do when an error occurs."
   ]
  },
  {
   "cell_type": "markdown",
   "metadata": {},
   "source": [
    "## 6.1 Conditon statements\n",
    "\n",
    "Comparison operators :\n",
    "\n",
    "| operator | comments |\n",
    "|:-------:| :--------: |\n",
    "| == | Equals |\n",
    "| != | Not equal|\n",
    "| > | Greater than |\n",
    "| < | Smaller than |\n",
    "| >= | Greater than or equal to |\n",
    "| <= | Smaller than or equal to |\n",
    "| and | Combines multiple conditions, returning true if all condtions is met |\n",
    "| or | Combines multiple conditions, returning true if atleast one condition is met |\n",
    "| not | Combines multiple conditions, returning true if the condition is false |\n"
   ]
  },
  {
   "cell_type": "code",
   "execution_count": 3,
   "metadata": {},
   "outputs": [
    {
     "name": "stdout",
     "output_type": "stream",
     "text": [
      "False\n",
      "True\n",
      "False\n",
      "True\n",
      "False\n",
      "True\n",
      "5\n"
     ]
    }
   ],
   "source": [
    "a = 5\n",
    "b = 6\n",
    "\n",
    "# Returning a boolean value\n",
    "# is a greater than b?\n",
    "c = a > b\n",
    "print(c)\n",
    "\n",
    "# is a less than b?\n",
    "c = a < b\n",
    "print(c)\n",
    "\n",
    "# is a equal than b?\n",
    "c = a == b\n",
    "print(c)\n",
    "\n",
    "# is a  not equal to b?\n",
    "c = a != b\n",
    "print(c)\n",
    "\n",
    "# is a greater or equal to b?\n",
    "c = a >= b\n",
    "print(c)\n",
    "\n",
    "# is a less than or equal than b?\n",
    "c = a <= b\n",
    "print(c)\n",
    "\n",
    "# a or b?\n",
    "c = a or b\n",
    "print(c) "
   ]
  },
  {
   "cell_type": "markdown",
   "metadata": {},
   "source": [
    "## 6.2 If Statements\n",
    "\n",
    "Most commonly used control flow statement. Checking if a condition is met and perform the appropirate action based on the result of the evaluation. \n",
    "If conditon 1 is met: \n",
    "    do A\n",
    "\n",
    "elif condition is met:\n",
    "    do B\n",
    "else:\n",
    "    do C\n",
    "\n",
    "elif stands for \"else if\" "
   ]
  },
  {
   "cell_type": "code",
   "execution_count": 4,
   "metadata": {},
   "outputs": [
    {
     "name": "stdout",
     "output_type": "stream",
     "text": [
      "1 is neither greater or equal to 2\n"
     ]
    }
   ],
   "source": [
    "#   Initializing the variables to compare\n",
    "a = 1\n",
    "b = 2\n",
    "c = 3\n",
    "d = 4\n",
    "\n",
    "#   Checking if the condition is met \n",
    "if a > b:\n",
    "    print(f'{a} is greater than {b}')\n",
    "\n",
    "elif a >= b:\n",
    "    print(f'{a} is greater or equal to {b}')\n",
    "\n",
    "elif a == b:\n",
    "    print(f'{a} and {b} is equal')\n",
    "\n",
    "else:\n",
    "    print(f'{a} is neither greater or equal to {b}')\n"
   ]
  },
  {
   "cell_type": "markdown",
   "metadata": {},
   "source": [
    "## 6.3 Inline if statement\n",
    "\n",
    "Simple form of an if statement, more convinient if there is only a simple tast to perform.\n",
    "Do task a if condition is true else do Task B\n"
   ]
  },
  {
   "cell_type": "code",
   "execution_count": 8,
   "metadata": {},
   "outputs": [
    {
     "name": "stdout",
     "output_type": "stream",
     "text": [
      "1\n"
     ]
    }
   ],
   "source": [
    "#   Initializing the variables to compare\n",
    "num = input('Type in an integer.:')\n",
    "a = 1 if num == '1' else 13\n",
    "\n",
    "print(a)\n"
   ]
  },
  {
   "cell_type": "markdown",
   "metadata": {},
   "source": [
    "## 6.4 For loop\n",
    "\n",
    "The for loop executes a block of code repeatedly until the condition in the for statement is no longer valid.\n",
    "\n",
    "### Looping through an iterable\n",
    "\n",
    "An iterable refers to anything that can be looped over, such as **string**, **list**, **tuple** or **dictionary**.\n",
    "\n",
    "**The syntax**<br>\n",
    "\n",
    "for a in iterable:\n",
    "    Do something\n",
    "\n",
    "the for loop assings the variable a to the items in the iterable,\n",
    "and does something with it. by using **enumerate()** gives the items an index\n",
    "\n",
    "Looping through a dictionary we use the for loop the same way as with tuple and list.\n",
    "\n",
    "**enumerate()** method is a built-in method that assigns indexes to the items.\n",
    "**.items()** method is a built-in method that returns each of the dictionary's key-data pair as a (key, data) tuple.\n",
    "\n",
    "### Looping through a sequence of numbers\n",
    "\n",
    "To loop through a sequence of numbers, the built-in **range()** method comes in handy. It generates a list of numbers it has the syntax range(start,end,step) they're optional, if an integer is added \n",
    "**range(5)** it stops after 5 rows\n",
    "    range()  \n",
    "\n",
    "**Tip**\n",
    "Unless otherwise stated, iteratable variables starts from zero.\n",
    "\n"
   ]
  },
  {
   "cell_type": "code",
   "execution_count": 6,
   "metadata": {},
   "outputs": [
    {
     "name": "stdout",
     "output_type": "stream",
     "text": [
      "Starwberry\n",
      "cherry\n",
      "Banana\n",
      "Apple\n",
      "--------------\n",
      "0 Starwberry\n",
      "1 cherry\n",
      "2 Banana\n",
      "3 Apple\n",
      "--------------\n",
      "Peter has 30 apples\n",
      "Jhon has 23 apples\n",
      "--------------\n",
      "Peter has 30 apples\n",
      "Jhon has 23 apples\n",
      "H\n",
      "e\n",
      "l\n",
      "l\n",
      "o\n",
      " \n",
      "W\n",
      "o\n",
      "r\n",
      "l\n",
      "d\n"
     ]
    }
   ],
   "source": [
    "#   Initializing variables\n",
    "fruits = ['Starwberry','cherry', 'Banana', 'Apple']\n",
    "dictionary = {\n",
    "                'Peter': 30,\n",
    "                'Jhon': 23,\n",
    "}\n",
    "msg = 'Hello World'\n",
    "\n",
    "#   looping through a list\n",
    "for i in fruits:\n",
    "    print(i)\n",
    "print('--------------')\n",
    "\n",
    "#   looping through fruits adding a index to it\n",
    "for i, j in enumerate(fruits):\n",
    "    print(i, j)\n",
    "print('--------------')\n",
    "\n",
    "#   Looping through a dictionary\n",
    "for i in dictionary:\n",
    "    print(f'{i} has {dictionary[i]} apples')\n",
    "print('--------------')\n",
    "\n",
    "# looping though a dictionary using .items()\n",
    "for i, j in dictionary.items():\n",
    "    print(f'{i} has {j} apples')\n",
    "\n",
    "#   Looping through a string\n",
    "for i in msg:\n",
    "    print(i)"
   ]
  },
  {
   "cell_type": "markdown",
   "metadata": {},
   "source": [
    "## 6.5 While loop\n",
    "\n",
    "While loop repeatedly executes the instructions inside the loop while a certain condition remains True or Valid. \n",
    "\n",
    "When we're using a while loop, we often need to declare a variable to function as a loop counter. The while statement will evaluate the value to determind if the counter is smaller or greater than a certain value, if it is the loop will be executed.\n",
    "\n",
    "while loop has the simplest syntax and should be easiest to use. However be careful when using while looops, due to the danger of infinite loops. \n",
    "\n",
    "###   Important notes\n",
    "* Very important to decrease the value by one for each run either way it runs forever, which may couse some issues.\n"
   ]
  },
  {
   "cell_type": "code",
   "execution_count": 1,
   "metadata": {},
   "outputs": [
    {
     "name": "stdout",
     "output_type": "stream",
     "text": [
      "Counting to zero:5\n",
      "Counting to zero:4\n",
      "Counting to zero:3\n",
      "Counting to zero:2\n",
      "Counting to zero:1\n"
     ]
    }
   ],
   "source": [
    "#   Initializing variables\n",
    "count = 5\n",
    "\n",
    "while count >= 0:\n",
    "\n",
    "    #   Doing something\n",
    "    print(f'Counting to zero:{count}')\n",
    "\n",
    "#   Decrease a value strictly important \n",
    "    count -= 1"
   ]
  },
  {
   "cell_type": "markdown",
   "metadata": {},
   "source": [
    "## 6.6 Break\n",
    "\n",
    "Sometimes while working with loops we exit the loop when a certain condition is met. To do that we use the **break** keyword.\n",
    "\n"
   ]
  },
  {
   "cell_type": "code",
   "execution_count": 2,
   "metadata": {},
   "outputs": [
    {
     "name": "stdout",
     "output_type": "stream",
     "text": [
      "i = 0, j = 2\n",
      "i = 1, j = 4\n",
      "i = 2, j = 6\n"
     ]
    }
   ],
   "source": [
    "#   initializing variables\n",
    "j = 0\n",
    "\n",
    "#   Loop through the iterate\n",
    "for i in range(5):\n",
    "\n",
    "    #   Assigning values to the variable\n",
    "    j += 2\n",
    "    print(f'i = {i}, j = {j}')\n",
    "\n",
    "    #   When j reaches 6 break\n",
    "    if j == 6:\n",
    "        break"
   ]
  },
  {
   "cell_type": "markdown",
   "metadata": {},
   "source": [
    "## 6.7 Continue\n",
    "\n",
    "Continue is another useful keyword in for loops. When we use the keyword, rest of the loop after the keyword is skipped.\n"
   ]
  },
  {
   "cell_type": "code",
   "execution_count": 3,
   "metadata": {},
   "outputs": [
    {
     "name": "stdout",
     "output_type": "stream",
     "text": [
      "i = 0, j = 2\n",
      "Skipping over when j== 6\n",
      "i = 1, j = 4\n",
      "Skipping over when j== 6\n",
      "i = 2, j = 6\n",
      "i = 3, j = 8\n",
      "Skipping over when j== 6\n",
      "i = 4, j = 10\n",
      "Skipping over when j== 6\n"
     ]
    }
   ],
   "source": [
    "#   Initializing variables\n",
    "j = 0\n",
    "\n",
    "for i in range(5):\n",
    "    j += 2\n",
    "    print(f'i = {i}, j = {j}')\n",
    "\n",
    "    if j == 6:\n",
    "        continue\n",
    "    print('Skipping over when j== 6')"
   ]
  },
  {
   "cell_type": "markdown",
   "metadata": {},
   "source": [
    "## 6.8 Try, except\n",
    "\n",
    "Controls how a program proceeds when an error occours.\n",
    "\n",
    "## Pre defined Errors\n",
    "\n",
    "### IOError:\n",
    "\n",
    "Raised when an I/O Operation ( such as the built-in open() method) fails for an I/O-related reason,\n",
    "\n",
    "e.g.<br>\n",
    "File not found\n",
    "\n",
    "### ImportError:\n",
    "\n",
    "Raised when an import statement fails to find the module definition.\n",
    "\n",
    "### IndexError:\n",
    "\n",
    "Raised when a sequence<br>\n",
    "e.g<br>\n",
    "**string**, **list**, **tuple** index is out of range.\n",
    "\n",
    "### NameError\n",
    "\n",
    "Raised when a local or a global name is not found.\n",
    "\n",
    "### TypeError:\n",
    "\n",
    "Raised when an operation or function is applied to an object of inappropriate type.\n",
    "\n"
   ]
  },
  {
   "cell_type": "code",
   "execution_count": 4,
   "metadata": {},
   "outputs": [
    {
     "name": "stdout",
     "output_type": "stream",
     "text": [
      "6.0\n",
      "ERROR: UNKOWN ERROR\n",
      " unsupported operand type(s) for /: 'str' and 'str'\n"
     ]
    }
   ],
   "source": [
    "try:\n",
    "    answer = 12/2\n",
    "    print(answer)\n",
    "except:\n",
    "    print('Something went wrong :(')\n",
    "\n",
    "try:\n",
    "    num = input('Type in a number:')\n",
    "    num1 = input('Type in another number:')\n",
    "    sum = num / num1\n",
    "\n",
    "    print(f' {num}/ {num1} = {sum}')\n",
    "    myfile = open('missing.txt', 'r')\n",
    "\n",
    "except ValueError as v:\n",
    "    print('ERROR : Never recieved an number\\n')\n",
    "    print(v)\n",
    "\n",
    "except ZeroDivisionError as zde:\n",
    "    print('ERROR : Can not divide by zero\\n')\n",
    "    print(zde)\n",
    "\n",
    "except Exception as e:\n",
    "    print(f'ERROR: UNKOWN ERROR\\n {e}')"
   ]
  }
 ],
 "metadata": {
  "kernelspec": {
   "display_name": "Python 3.10.5 64-bit (windows store)",
   "language": "python",
   "name": "python3"
  },
  "language_info": {
   "codemirror_mode": {
    "name": "ipython",
    "version": 3
   },
   "file_extension": ".py",
   "mimetype": "text/x-python",
   "name": "python",
   "nbconvert_exporter": "python",
   "pygments_lexer": "ipython3",
   "version": "3.10.5"
  },
  "orig_nbformat": 4,
  "vscode": {
   "interpreter": {
    "hash": "da24d7b7dd3c86bb9e13f4aeb887c509d17f7c3ac26293a89f48f4d1d2c687b8"
   }
  }
 },
 "nbformat": 4,
 "nbformat_minor": 2
}
