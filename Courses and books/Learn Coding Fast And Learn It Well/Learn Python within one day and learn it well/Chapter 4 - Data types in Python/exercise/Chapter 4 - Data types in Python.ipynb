{
 "cells": [
  {
   "attachments": {},
   "cell_type": "markdown",
   "metadata": {
    "notebookRunGroups": {
     "groupValue": "1"
    }
   },
   "source": [
    "#   Chapter 4 - Data Types In Python"
   ]
  },
  {
   "attachments": {},
   "cell_type": "markdown",
   "metadata": {
    "notebookRunGroups": {
     "groupValue": "1"
    }
   },
   "source": [
    "##  4.1 Determind the output of the following code, with out running the code"
   ]
  },
  {
   "attachments": {},
   "cell_type": "markdown",
   "metadata": {
    "notebookRunGroups": {
     "groupValue": "1"
    }
   },
   "source": [
    "```name1 = \"Jhon\" # Initializing a variable to the string \"Jhon\n",
    "print(\"1.1 : The user's name is\", name1) # Variable gets printed\n",
    "\n",
    "name2 = \"jane\".upper() # Forcing the string to uppercase letters\n",
    "\n",
    "msg = \"1.2 The names %s and %s \"%(name1, name2) # Initializing a message variable\n",
    "print(msg) # Prints out the output```"
   ]
  },
  {
   "attachments": {},
   "cell_type": "markdown",
   "metadata": {},
   "source": [
    "### 4.2 Implemetion details\n",
    "-   1 Assign the strings 'Python', 'Java' and 'C#' to three var\n",
    "\n",
    "-   2 Use the var and % operator to generate following strings:<br>\n",
    " \"The most popular programming languages are Python, Java and C#\"\n",
    "\n",
    "-   3 Assign the new strings to msg 1 and msg 2 respectively and print te values of msg 1 and msg 2"
   ]
  },
  {
   "cell_type": "code",
   "execution_count": null,
   "metadata": {},
   "outputs": [],
   "source": [
    "#2.1\n",
    "py = \"Python\"\n",
    "c = \"C#\"\n",
    "java = \"Java\"\n",
    "\n",
    "#2.2\n",
    "msg = \" 2.2.1 : The most popular programming languages are %s , %s, %s\"%(py, java, c)\n",
    "print(msg)"
   ]
  },
  {
   "attachments": {},
   "cell_type": "markdown",
   "metadata": {},
   "source": [
    "##  4.3 Determine the output of the following program without running the code:\n",
    "\n",
    "```\n",
    "num = 12\n",
    "message = \"%d\"%(num)\n",
    "print(message)\n",
    "\n",
    "message = '%4d' %(num)\n",
    "print(message)\n",
    "```\n",
    "\n",
    "-   4.3.1 outputs the value of num\n",
    "-   4.3.2 outputs the value of num ( total length of the data)"
   ]
  },
  {
   "attachments": {},
   "cell_type": "markdown",
   "metadata": {},
   "source": [
    "##  4.4 Determind the output of the following program without running the code:\n",
    "\n",
    "```\n",
    "decnum = 1.72498329745\n",
    "msg =\"5.3f'%(decnum)\n",
    "print(msg)\n",
    "\n",
    "msg = \"%7.2f\"%(decnum)\n",
    "print(msg)\n",
    "```\n",
    "\n",
    "-   1.72498,( max 5 integers, 3 decimals)\n",
    "-   1.72 ( max 7 integers, 2 decimals)"
   ]
  },
  {
   "attachments": {},
   "cell_type": "markdown",
   "metadata": {},
   "source": [
    "##  4.5\n",
    "\n",
    "-   5.1 Assign the values 111 and 13 to two variables\n",
    "\n",
    "-   5.2 Devide first Variable by the second, and assign the result to a new variable\n",
    "\n",
    "-   5.3 Use the three variables you created and the % operator to generate following strings :\n",
    "\"The result of 111 devided by 13 is 8.538, correct it to 3 decimal places\"\n",
    "\n",
    "-   5.4 Assign the string to a variable called message and print the value of message."
   ]
  },
  {
   "cell_type": "code",
   "execution_count": null,
   "metadata": {},
   "outputs": [],
   "source": [
    "# 5.1 / 5.2\n",
    "a,b = 111, 13\n",
    "c = a/b\n",
    "\n",
    "print(\"5.2 The result of %d divided by %d is %d \"%(a, b, c))\n",
    "\n",
    "# 5.3\n",
    "print(\"5.3 the result of %d devided by %d is %.3f\"%(a, b, c))\n"
   ]
  },
  {
   "attachments": {},
   "cell_type": "markdown",
   "metadata": {},
   "source": [
    "## 4.6 Determind the output of the following program without running the code\n",
    "\n",
    "```\n",
    "msg = \" My name is {} and i am {} years old.\".format'(\"Jhon Doe\",26)\n",
    "print(msg)\n",
    "```\n",
    "\n",
    "The result will be : My name is Jhon Doe and i am 26 years old."
   ]
  },
  {
   "attachments": {},
   "cell_type": "markdown",
   "metadata": {},
   "source": [
    "## 4.7 Determind the output of the followin program without running the code:\n",
    "\n",
    "```\n",
    "msg = \"My favorite colors are {} and {}\".format(\"purple\", \"blue\")\n",
    "msg2 = \"I also like {1}, {0} and {2}\".format(\"purple\", \"blue\", \"orange\")\n",
    "print(msg, \" \", msg2)\n",
    "```\n",
    "\n",
    "The output will be My favorite colors are Purple and Blue I also like \"Purple, Blue and Orange\""
   ]
  },
  {
   "attachments": {},
   "cell_type": "markdown",
   "metadata": {},
   "source": [
    "##  4.8 \n",
    "\n",
    "Implemention details\n",
    "\n",
    "-   Assign the strings \"Jhon\", \"Jane\", \"Martin\", \"Doe\" to four variables.\n",
    "\n",
    "\n",
    "-   Use the variables and the format() method to generate the following string\n",
    "\" Aleks and Linda is dating, while Lotte is dating someone else. i'll be there for you\"\n",
    "\n",
    "-   assign the new string to a variable and print the value of the variable"
   ]
  },
  {
   "cell_type": "code",
   "execution_count": null,
   "metadata": {},
   "outputs": [],
   "source": [
    "name = \"Jhon\"\n",
    "name2 = \"Jane\"\n",
    "name3 = \"Martin\"\n",
    "name4 = \"Doe\"\n",
    "\n",
    "msg = \"8.2 : {0:s} & {1:s} are dating. While {2:s} is dating someone else {3:s} be there for {2:s}, when {2:s} need {3:s}\".format(name, name2, name3, name4)\n",
    "print(msg)\n"
   ]
  },
  {
   "attachments": {},
   "cell_type": "markdown",
   "metadata": {},
   "source": [
    "##  4.9 Determind the output of the following program without running the code:\n",
    "\n",
    "```\n",
    "msg = \"9.1 {:7.2f} and {:d}\".format(21.3124, 12)\n",
    "msg2 = \"{1} and {0}\".format(213124, 12)\n",
    "```\n",
    "The variables will print out a value, \n",
    "the first variable will give an output of 21, 31 & 12\n",
    "the second value will give an output of 12, 21.3124"
   ]
  },
  {
   "attachments": {},
   "cell_type": "markdown",
   "metadata": {},
   "source": [
    "# 4.10 Implemention detalis\n",
    "\n",
    "-   Assign the values 12 and 7 to two variables x and y respectivly then,divide x by y and assign the result to a variable\n",
    "-   Use the format() method and the variables x,y and result to generate the following strings\n",
    "\"The result of 12 divided by 7 is 1.7143, and correct  to 5 decimal places\"\n",
    "\n",
    "-   Assign the  string to a variable  and print the value of the variable"
   ]
  },
  {
   "cell_type": "code",
   "execution_count": null,
   "metadata": {},
   "outputs": [],
   "source": [
    "x, y = 12, 7\n",
    "result = 12 / 7\n",
    "print(\"The result of {:d} & {:d} is {:.4f}\".format(x, y, result))\n"
   ]
  },
  {
   "attachments": {},
   "cell_type": "markdown",
   "metadata": {},
   "source": [
    "##  4.11 Implemention details\n",
    "\n",
    "-   Assign the value 2.7123 to a variable.\n",
    "-   Cast the variable into an integer and assign it back to the variable. Print the value of the variable."
   ]
  },
  {
   "cell_type": "code",
   "execution_count": null,
   "metadata": {},
   "outputs": [],
   "source": [
    "decnum = 2.7123\n",
    "num = int(decnum)\n",
    "print(\"value of 2.7123 convert into a integer by using int()\" , decnum)"
   ]
  },
  {
   "attachments": {},
   "cell_type": "markdown",
   "metadata": {},
   "source": [
    "## 4.12 How do you convert the number 2.12431 into a string??\n",
    "\n",
    "By using the `str()` method we can convert 2.12431 into a string"
   ]
  },
  {
   "attachments": {},
   "cell_type": "markdown",
   "metadata": {},
   "source": [
    "##  4.13 Assign the string '12' to a variable. Cast the variable into an integer and assign it back to the variable, print the value"
   ]
  },
  {
   "cell_type": "code",
   "execution_count": null,
   "metadata": {},
   "outputs": [],
   "source": [
    "i = '12'\n",
    "i = int(a)\n",
    "print (\"13 : the value is \", i)"
   ]
  },
  {
   "attachments": {},
   "cell_type": "markdown",
   "metadata": {},
   "source": [
    "##  4.14 Given that variable = [1,2,3,4,5,6], what is the number at index 1 and index -2. Explain why index -6 is invalid\n",
    "\n",
    "The lists counts from zero, thats how index -6 can not be accsessed"
   ]
  },
  {
   "attachments": {},
   "cell_type": "markdown",
   "metadata": {},
   "source": [
    "##  4.15 Assign the numbers 10, 11, 12, and 13 to a list"
   ]
  },
  {
   "cell_type": "code",
   "execution_count": null,
   "metadata": {},
   "outputs": [],
   "source": [
    "scores = [10, 11, 12, 13]\n",
    "print(scores)\n"
   ]
  },
  {
   "cell_type": "markdown",
   "metadata": {},
   "source": []
  },
  {
   "attachments": {},
   "cell_type": "markdown",
   "metadata": {},
   "source": [
    "##  4.16 Determind the output of the following program without running the code\n",
    "\n",
    "```\n",
    "mylist = [1, 2, 3, 4, 5, 6, 7, 8, 9, 10]\n",
    "mylist1 = mylist\n",
    "mylist2 = mylist[3:6]\n",
    "mylist3 = mylist[:5]\n",
    "mylist4 = mylist[2:]\n",
    "mylist5 = mylist[1:7:2]\n",
    "mylist6 = mylist[ : :3]\n",
    "\n",
    "print(mylist)\n",
    "print(mylist1)\n",
    "print(mylist2)\n",
    "print(mylist3)\n",
    "print(mylist4)\n",
    "print(mylist5)\n",
    "print(mylist6)\n",
    "```\n",
    "\n",
    "-   mylist prints the whole list.\n",
    "-   mylist2 accsesses only integers indexes between 3-6.\n",
    "-   mylist3 accsesses only integers between 0-5\".\n",
    "-   mylist4 accsesses only integers from the second index.\n",
    "-   mylist5 accsesses only every second integer between the index of 1 to index of 7\n",
    "-   mylist6 accsesses only every third integer value"
   ]
  },
  {
   "attachments": {},
   "cell_type": "markdown",
   "metadata": {},
   "source": [
    "##  4.17 Implemention details\n",
    "\n",
    "-   Assign the values 11 - 20 to a list.\n",
    "-   Use a slice to select the numbers 13-18 from the variable and assign them to a new list\n",
    "-   Use another slice to select the numbers 13, 16, 19 from the variable, assign them to a new variable\n",
    "-   print both variables\n"
   ]
  },
  {
   "cell_type": "code",
   "execution_count": null,
   "metadata": {},
   "outputs": [],
   "source": [
    "listItem = [11, 12, 13, 14, 15, 16, 17, 18, 19, 20]\n",
    "listItem[2:7]\n",
    "\n",
    "print(\"17. The integers is now %d\", listItem[2:8])\n",
    "print(\"17.1 There is only three integers taken from the list\", listItem[2:9:3])"
   ]
  },
  {
   "attachments": {},
   "cell_type": "markdown",
   "metadata": {},
   "source": [
    "## 4.18 Implemention details\n",
    "\n",
    "-   Create a list, with no initial values.\n",
    "-   add numbers 5, 9, 11, 12 to the list and print the list"
   ]
  },
  {
   "cell_type": "code",
   "execution_count": null,
   "metadata": {},
   "outputs": [],
   "source": [
    "listIntegers = [] # Declare a list\n",
    "\n",
    "#   Append values\n",
    "listIntegers.append(5)\n",
    "listIntegers.append(9)\n",
    "listIntegers.append(11)\n",
    "listIntegers.append(12)\n",
    "\n",
    "print(\"18.1 These values were added\", listIntegers)#    Output"
   ]
  },
  {
   "attachments": {},
   "cell_type": "markdown",
   "metadata": {},
   "source": [
    "##   4.19 Implemention details\n",
    "\n",
    "-   Assign the numbers 1, 2, 4, 5 to a list\n",
    "-   Change the third number to 10 and print the value"
   ]
  },
  {
   "cell_type": "code",
   "execution_count": null,
   "metadata": {},
   "outputs": [],
   "source": [
    "listIntegers = [1, 2, 3, 4, 5]\n",
    "print(\"19.1 \", listIntegers)\n",
    "\n",
    "listIntegers[2] = 10\n",
    "print(\"19.2\", listIntegers)"
   ]
  },
  {
   "attachments": {},
   "cell_type": "markdown",
   "metadata": {},
   "source": [
    "4.20 Implemention details\n",
    "\n",
    "-   Assign the letters 'A', 'B', 'C', 'D' and 'E' to a list.\n",
    "-   Remove 'A' and 'C'from the list and print the list.\n",
    "\n",
    "Hint: It is easier to remove 'C' first.\n",
    "\n",
    "Why do you think that is so?\n",
    "\n",
    "*It's easier to remove index of 2 first than 0, due to the index changes if index 0 is removed*"
   ]
  },
  {
   "cell_type": "code",
   "execution_count": null,
   "metadata": {},
   "outputs": [],
   "source": [
    "li = ['A', 'B', 'C', 'D']\n",
    "print(li)\n",
    "\n",
    "del li[2] \n",
    "del li[0]\n",
    "print(li)"
   ]
  },
  {
   "attachments": {},
   "cell_type": "markdown",
   "metadata": {},
   "source": [
    "##  4.21 Implemention details\n",
    "\n",
    "-   Assign the strings 'Sun', 'Mon', 'Tues', 'Wed', 'Thurs', 'Fri' and 'Sat' to a tuple called daysOfWeek.\n",
    "-   Assign the third element in daysOfWeek to a variable called myDay and print the value of myDay."
   ]
  },
  {
   "cell_type": "code",
   "execution_count": null,
   "metadata": {},
   "outputs": [],
   "source": [
    "daysOfWeek = ('Sun', 'Mon', 'Tues', 'Wed', 'Thurs', 'Fri', 'Sat')\n",
    "myDay = daysOfWeek[5]\n",
    "print(myDay)"
   ]
  },
  {
   "attachments": {},
   "cell_type": "markdown",
   "metadata": {},
   "source": [
    "##  4.22 What is wrong with the following dictionary?\n",
    "\n",
    "nameAgeDict = {'John':12, 'Matthew':15, 'Aaron':13, 'John':14, 'Melvin':10}\n",
    "\n",
    "*Used same **Dictionary** key twice, it will neither overwrite, or print it*"
   ]
  },
  {
   "attachments": {},
   "cell_type": "markdown",
   "metadata": {},
   "source": [
    "##  4.23 Determine the output of the following program without running the code:\n",
    "\n",
    "```\n",
    "dict1 = {'Aaron': 11, 'Betty': 5, 0: 'Zero', 3.9: 'Three'}\n",
    "print(dict1['Aaron'])\n",
    "print(dict1[0])\n",
    "print(dict1[3.9]) # Printing \"Three\"\n",
    "dict1['Aaron'] = 12 print(dict1)\n",
    "del dict1['Betty']\n",
    "print(dict1)\n",
    "```\n",
    "\n",
    "*print(dict1['Aaron']) # Accsessing Aaron's index value\n",
    "print(dict1[0]) # same as above + name\n",
    "print(dict1[3.9]) # Printing \"Three\"\n",
    "dict1['Aaron'] = 12, print(dict1) #nothing\n",
    "del dict1['Betty'] # Deletes only the Dictionary key,\n",
    "print(dict1)*"
   ]
  },
  {
   "attachments": {},
   "cell_type": "markdown",
   "metadata": {},
   "source": [
    "##  4.24 The statement below shows one way of declaring and initializing a dictionary called dict1.\n",
    "dict1 = {'One':1, 'Two':2, 'Three':3, 'Four':4, 'Five':5}\n",
    "\n",
    "-   Rewrite the statement above using the dict() method to declare and initialize dict1.\n",
    "-   Print the item with key = 'Four'.\n",
    "-   Modify the item with key = 'Three'. Change it from 3 to 3.1.\n",
    "-   Delete the item with key = 'Two'.\n",
    "-   Use the print() function to print dict1."
   ]
  },
  {
   "cell_type": "code",
   "execution_count": null,
   "metadata": {},
   "outputs": [],
   "source": [
    "myD = dict(One = 1, Two = 2, Three = 3, Four = 4, Five = 5)\n",
    "print (myD)\n",
    "\n",
    "print(myD['Four'])\n",
    "\n",
    "myD['Three'] = 3.1 #    assign a value to a dictionary key\n",
    "print(myD)\n",
    "\n",
    "del myD['Two'] #    Delete a dictionary key\n",
    "print(myD)"
   ]
  },
  {
   "attachments": {},
   "cell_type": "markdown",
   "metadata": {},
   "source": [
    "#   4.25 Implemention details\n",
    "\n",
    "-   Create a dictionary that maps the following countries to their respective capitals.\n",
    "- -   The capitals are indicated in parenthesis beside the country names below.\n",
    "- -   USA (Washington, D.C.)\n",
    "- -   United Kingdom (London)\n",
    "- -   China (Beijing)\n",
    "- -   Japan (Tokyo)\n",
    "- -   France (Paris)\n",
    "\n",
    "-   The country name should serve as the key for accessing the capital. Print the dictionary.\n",
    "\n",
    "-   Delete the third country from the dictionary and print it again.\n"
   ]
  },
  {
   "cell_type": "code",
   "execution_count": null,
   "metadata": {},
   "outputs": [],
   "source": [
    "myC = {'China':'Bijing', 'France':'Paris', 'Japan':'Tokyo', 'UK':'London', 'USA':'Washington D.C'}\n",
    "print(\"25.1 \", myC)\n",
    "\n",
    "del myC['Japan']\n",
    "print(\"25.2\", myC)\n",
    "\n",
    "myC['Germany'] = 'Berlin'\n",
    "myC['Malaysia'] = 'Kuala, Lumpur'\n",
    "print (\"25.3\", myC)"
   ]
  }
 ],
 "metadata": {
  "language_info": {
   "name": "python"
  },
  "orig_nbformat": 4
 },
 "nbformat": 4,
 "nbformat_minor": 2
}
