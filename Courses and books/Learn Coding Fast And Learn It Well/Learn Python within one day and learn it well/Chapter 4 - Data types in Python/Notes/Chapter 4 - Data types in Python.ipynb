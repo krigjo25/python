{
 "cells": [
  {
   "cell_type": "markdown",
   "metadata": {},
   "source": [
    "# Data types in Python Notebook"
   ]
  },
  {
   "attachments": {},
   "cell_type": "markdown",
   "metadata": {},
   "source": [
    "##   Chapter 4 - Data types in Python.\n",
    "\n",
    "Basic data types :\n",
    "\n",
    "-   integer\n",
    "-   float \n",
    "-   string\n",
    "\n",
    "advanced data types : \n",
    "\n",
    "-   list\n",
    "-   tuple\n",
    "-   dictionary"
   ]
  },
  {
   "cell_type": "markdown",
   "metadata": {},
   "source": [
    "### 4.1 Integers\n",
    "\n",
    "Numbers with out decimal places eg. -5 - 5\n",
    "declaration variableName = initial value\n",
    "    \n",
    "e.g \n",
    "-3, -2 -1, 0, 1, 2, 3\n",
    "e.g mobile numbers equals integers.\n",
    "\n"
   ]
  },
  {
   "cell_type": "code",
   "execution_count": null,
   "metadata": {},
   "outputs": [],
   "source": [
    "age = 20\n",
    "num = 12345678\n",
    "print(f'Integers : age:{age}\\n Mobile number:{num}')"
   ]
  },
  {
   "cell_type": "markdown",
   "metadata": {},
   "source": [
    "### 4.2 Float\n",
    "Numbers with decimal parts as 3.14 etc.\n",
    "Declares in the same way as integers."
   ]
  },
  {
   "cell_type": "code",
   "execution_count": null,
   "metadata": {},
   "outputs": [],
   "source": [
    "height, weight = 1.82, 67.2\n",
    "print(f'floated numbers : \\n height: {height}cm\\n weight: {weight}kg')"
   ]
  },
  {
   "cell_type": "markdown",
   "metadata": {},
   "source": [
    "### 4.3 Strings\n",
    "strings refers to  text. both single and double quotes can be used as a string. ('', \"\")\n",
    "concatenate sign (+) can be used to combine multiple strings\n",
    "\n",
    "Python has multiple functions to manipulate strings like \n",
    "\n",
    "-   **upper()** method to manipulate the string to upper all the letters in a string.\n",
    "-   **lower()** method to manipulate the string to lower all the letters in a string.\n",
    "-   **upper()**  method to manipulate the string to capitalize the first letter in a string."
   ]
  },
  {
   "cell_type": "code",
   "execution_count": null,
   "metadata": {},
   "outputs": [],
   "source": [
    "#   Initializing variables\n",
    "txt = 'Hello World\\n'\n",
    "\n",
    "txt = txt.upper()\n",
    "print(txt)\n",
    "\n",
    "txt = txt.lower()\n",
    "print(txt)\n",
    "\n",
    "txt = txt.capitalize()\n",
    "print(txt)"
   ]
  },
  {
   "cell_type": "markdown",
   "metadata": {},
   "source": [
    "#### Formated strings\n",
    "\n",
    "Strings can be formated using the % operator. It gives you a grater control over how you want your string to be displayed and stored. \n",
    "\n",
    "The syntax for using the % operator\n",
    "print('text to be formated') % (var, var1, var2)\n",
    "\n",
    "The parentheses behind the % sign is actually known as a tuple. These placeholders will be replaced with the variable *brand*, the value *1299* & the variable *exr*\n",
    "\n",
    "`%s` formatter is used to represent a string\n",
    "`%d` formatter is used to represent an integer, can add an integer between % d to represent the length\n",
    "`%f` formatter is used to format floats (numbers with decimals). we formated it as `%4.2f` (length, decimalplaces)"
   ]
  },
  {
   "cell_type": "code",
   "execution_count": null,
   "metadata": {},
   "outputs": [],
   "source": [
    "brand, exr = 'Android', 1.2345\n",
    "msg = \"The price of this %s phone is %d EUR and the exchange rate is %4.2f USD to 1 EUR\" % (brand, 1299, exr)\n",
    "print(msg)\n"
   ]
  },
  {
   "cell_type": "markdown",
   "metadata": {},
   "source": [
    "#### Working with strings\n",
    "\n",
    "The notation [start, [end]] means start and end are optional. If there is provided only one number, its considered as start from.\n"
   ]
  },
  {
   "cell_type": "markdown",
   "metadata": {},
   "source": [
    "##### Comments"
   ]
  },
  {
   "cell_type": "code",
   "execution_count": null,
   "metadata": {},
   "outputs": [],
   "source": [
    "#   A single line comment\n",
    "\n",
    "'''\n",
    "    Multi line\n",
    "    comment\n",
    "'''\n",
    "\n",
    "\"\"\"\n",
    "    Multiple lines\n",
    "    with comments\n",
    "    does not interprete in python\n",
    "    unless print is used\n",
    "\"\"\""
   ]
  },
  {
   "cell_type": "markdown",
   "metadata": {},
   "source": [
    "##### count(sub,[start,[end]]\n",
    "\n",
    "Returns the number of times the substring *sub* appears in the string\n"
   ]
  },
  {
   "cell_type": "code",
   "execution_count": null,
   "metadata": {},
   "outputs": [],
   "source": [
    "#   Initializing variables\n",
    "txt = 'Hello World\\n'\n",
    "\n",
    "#   Count how many letter of 'l' there is in the string\n",
    "print(txt.count('l'))"
   ]
  },
  {
   "cell_type": "markdown",
   "metadata": {},
   "source": [
    "##### startswith(suffix, [start,[end]] / endswith(suffix, [start,[end]]\n",
    "\n",
    "This is a boolean value and is case sensitive.\n",
    "\n",
    "-   returns True if the string starts with the specified suffix, otherwise it returns False.<br>\n",
    "-   returns True if the string ends with the specified suffix, otherwise it returns False.<br>\n"
   ]
  },
  {
   "cell_type": "code",
   "execution_count": null,
   "metadata": {},
   "outputs": [],
   "source": [
    "#   Initializing variables\n",
    "txt = 'Hello World\\n'\n",
    "\n",
    "#   Return a boolean value, checking if the string ends with ld\n",
    "txt = 'Postman'\n",
    "print(txt.startswith('Post'),txt.endswith('man'))\n",
    "\n",
    "#   Checking from index 3\n",
    "print(txt.endswith('man',3))"
   ]
  },
  {
   "cell_type": "markdown",
   "metadata": {},
   "source": [
    "##### find/index(string,[start,[end]])\n",
    "\n",
    "Returns the index in the string where the first occourence of the substring *string* is found.\n",
    "They're case sensitive\n",
    "\n",
    "-   find() returns -1 if *string* is not found.\n",
    "-   index() returns ValueError if *string* is not found.\n"
   ]
  },
  {
   "cell_type": "code",
   "execution_count": null,
   "metadata": {},
   "outputs": [],
   "source": [
    "txt = 'Postman'\n",
    "\n",
    "#   Returning the index of the letter a\n",
    "print(f'{txt.find(\"a\")}\\n{txt.index(\"a\")}')\n"
   ]
  },
  {
   "cell_type": "markdown",
   "metadata": {},
   "source": [
    "##### is alnum / isalpha()\n",
    "\n",
    "-   Returns a boolean value, True if every character is aphanumeric\n",
    "Does not include whitespaces & atleast one charcter has to be a character\n",
    "\n",
    "-   Returns a bollean value. True if every character in the string are alphabetic, otherwise false\n",
    "\n"
   ]
  },
  {
   "cell_type": "code",
   "execution_count": null,
   "metadata": {},
   "outputs": [],
   "source": [
    "#   Checking for white spaces\n",
    "txt = 'abc123'\n",
    "txt1 = '1123'\n",
    "txt2 = ' '\n",
    "txt3 = 'qwert'\n",
    "\n",
    "string = txt.isalnum()\n",
    "string1 = txt1.isalnum()\n",
    "string2 = txt2.isalnum()\n",
    "string3 = txt3.isalnum()\n",
    "\n",
    "print(string, string1, string2, string3)\n",
    "\n",
    "#   Checking if the characters is Alphabetic\n",
    "string = txt.isalpha()\n",
    "string1 = txt1.isalpha()\n",
    "string2 = txt2.isalpha()\n",
    "string3 = txt3.isalpha()\n",
    "\n",
    "print(string, string1, string2, string3)\n",
    "\n",
    "#   Checking if the string is digits\n",
    "string = txt.isdigit()\n",
    "string1 = txt1.isdigit()\n",
    "string2 = txt2.isdigit()\n",
    "string3 = txt3.isdigit()\n",
    "\n",
    "print(string, string1, string2, string3)"
   ]
  },
  {
   "cell_type": "markdown",
   "metadata": {},
   "source": [
    "##### islower() / isupper() / isspace() / isstitle()\n",
    "\n",
    "-   Returns true if all cased characters in the string are lowercase and there is atleast one cased chartacter.\n",
    "\n",
    "-   Returns true if all cased characters in the string are uppercase and there is atleast one cased chartacter.\n",
    "\n",
    "-   Returns true if there is only whitespace characters in the string and there is atleast one cased chartacter.\n",
    "\n",
    "-   Returns true if the string is titlecased string and there is atleast one chartacter.\n"
   ]
  },
  {
   "cell_type": "code",
   "execution_count": null,
   "metadata": {},
   "outputs": [],
   "source": [
    "#   Checking for white spaces\n",
    "txt = 'abc123'\n",
    "txt1 = '1123'\n",
    "txt2 = ' '\n",
    "txt3 = 'qwert'\n",
    "\n",
    "#   Checking if the string is lowercase\n",
    "string = txt.islower()\n",
    "string1 = txt1.islower()\n",
    "string2 = txt2.islower()\n",
    "string3 = txt3.islower()\n",
    "\n",
    "print(string, string1, string2, string3)\n",
    "\n",
    "#   Checking if the string is uppercase\n",
    "string = txt.isupper()\n",
    "string1 = txt1.isupper()\n",
    "string2 = txt2.isupper()\n",
    "string3 = txt3.isupper()\n",
    "\n",
    "print(string, string1, string2, string3)\n",
    "\n",
    "#   Checking if the string is uppercase\n",
    "string = txt.isspace()\n",
    "string1 = txt1.isspace()\n",
    "string2 = txt2.isspace()\n",
    "string3 = txt3.isspace()\n",
    "\n",
    "print(string, string1, string2, string3)\n",
    "\n",
    "#   Checking if the string is title cased\n",
    "txt1 = 'This Is A Title Cased String'\n",
    "string = txt.isspace()\n",
    "string1 = txt1.istitle()\n",
    "\n",
    "print(string, string1)"
   ]
  },
  {
   "cell_type": "markdown",
   "metadata": {},
   "source": [
    "##### join()\n",
    "Returns a string in which the argument provided is joined by a seperator"
   ]
  },
  {
   "cell_type": "code",
   "execution_count": null,
   "metadata": {},
   "outputs": [],
   "source": [
    "#   Initializing a seperator\n",
    "sep = ''\n",
    "\n",
    "#   Initializing a tuple\n",
    "a = ('a', 'b', 'c')\n",
    "b = ['D', 'E', 'F']\n",
    "c = 'Hello World'\n",
    "print(sep.join(a), sep.join(b), sep.join(c))"
   ]
  },
  {
   "cell_type": "markdown",
   "metadata": {},
   "source": [
    "##### lower() / upper() / capitalize()\n",
    "\n",
    "-   Returns a copy of the string converted to lowercase.\n",
    "-   Returns a copy of the string converted to uppercase.\n",
    "-   Returns a copy of the string converted to Captilizecase"
   ]
  },
  {
   "cell_type": "code",
   "execution_count": null,
   "metadata": {},
   "outputs": [],
   "source": [
    "# Converting text to lower, upper and capitalizeed\n",
    "txt = 'Hello World\\n'\n",
    "print(txt.lower(), txt.upper(), txt.capitalize())"
   ]
  },
  {
   "cell_type": "markdown",
   "metadata": {},
   "source": [
    "#####   Replace()\n",
    "replacing old string with new string"
   ]
  },
  {
   "cell_type": "code",
   "execution_count": null,
   "metadata": {},
   "outputs": [],
   "source": [
    "txt = 'abc123'\n",
    "\n",
    "#   Replace'ing a character\n",
    "print(txt.replace('123','def'))"
   ]
  },
  {
   "cell_type": "markdown",
   "metadata": {},
   "source": [
    "##### strip()\n",
    "\n",
    "Returns a copy of the string with the leading and trailling characters removed\n",
    "if a character is not provided, whitespace will be removed, the \n",
    "*   Case-sensitve."
   ]
  },
  {
   "cell_type": "code",
   "execution_count": null,
   "metadata": {},
   "outputs": [],
   "source": [
    "#   Initializing variables\n",
    "txt ='This is a string  '\n",
    "\n",
    "#   Removing any trailing white spaces\n",
    "txt = txt.strip()\n",
    "print(txt)"
   ]
  },
  {
   "cell_type": "markdown",
   "metadata": {},
   "source": [
    "##### split([sep, ,[maxsplit]])\n",
    "\n",
    "Returns a list of the words in the string, using sep as the delimite string. sep and maxslplit are optional. if sep is not given, whitespace is used as the delimiter. if maxsplit is given, at most maxsplit splits are done.\n",
    "* Case sensitive"
   ]
  },
  {
   "cell_type": "code",
   "execution_count": null,
   "metadata": {},
   "outputs": [],
   "source": [
    "#   Initializing a variable\n",
    "txt ='This is a string  '\n",
    "\n",
    "#   Splitting a string at the white space\n",
    "print(txt.split())"
   ]
  },
  {
   "cell_type": "markdown",
   "metadata": {},
   "source": [
    "### 4.4 Type Casting in Python\n",
    "\n",
    "Sometimes in the program its necessary for us to convert data types.\n",
    "There is 3 built-in functions which allow us to do type casting.\n",
    "\n",
    "\n",
    "Integers can be converted into a string with the builtin method **str()** \n",
    "and vice versa with the builtin method **int()** which only accepts integers\n",
    "we can also convert an integer into a decimal value by using the **float()**\n",
    "    "
   ]
  },
  {
   "cell_type": "code",
   "execution_count": null,
   "metadata": {},
   "outputs": [],
   "source": [
    "# Initializing variables\n",
    "v = 1\n",
    "v = float(v)\n",
    "print(f' Converting a Integer into a floated number\\n{v}\\n')\n",
    "\n",
    "msg = '1'\n",
    "\n",
    "v = int(msg)\n",
    "msg = str(v)\n",
    "print(f' Converting a string into a integer\\n{v}\\n vice versa\\n{msg}\\n')"
   ]
  },
  {
   "cell_type": "markdown",
   "metadata": {},
   "source": [
    "### 4.5 List\n",
    "\n",
    "List Refers to a collection of data which are normally related to eachoter. To initialize a list we assign a varialble with square brackets. We can add values inside the square brackets those values has to be seperated by a comma, can be integers, strings, methods, classes etc.  \n",
    "\n",
    "Individual values in the list are accessible by their indexes, and indexes always starts from 0, not 1.  \n",
    "You can alternative access the values of a list from the back. The last item in the list has an index of -1, the second last has an index of -2 etc. \n",
    "List can be sliced by [start:stop:step] notation\n",
    "Can be accsessed using index \n",
    "\n",
    "\n",
    "Notation name[start:end] is known as slice, includes a third number known as stepper uname[start:end:Stepper]\n",
    "Slices has a default value whihch is zero.\n",
    "\n",
    "The list can be modified, by retrieve the index and assign it a value."
   ]
  },
  {
   "cell_type": "code",
   "execution_count": null,
   "metadata": {},
   "outputs": [],
   "source": [
    "#   Initializing a list\n",
    "emptylist = []\n",
    "age = [21, 23, 24, 51, 53]\n",
    "name = ['Jake', 'Raymond', 'Rosa']\n",
    "\n",
    "listMethods = [int.bit_count, str.capitalize]\n",
    "\n",
    "print(f'printing name list{name} & age list{age}\\n')\n",
    "\n",
    "# Accsessing data using index\n",
    "x = name[0]\n",
    "print(f'Printing the index\\n{x}\\n')\n",
    "\n",
    "\n",
    "#   Slicing the list\n",
    "name[1:2]\n",
    "\n",
    "#   Initializing lists\n",
    "age = [21, 23, 24, 51, 53]\n",
    "name = ['Jake', 'Raymond', 'Rosa']\n",
    "\n",
    "#   Adding values into the list\n",
    "name.append('Amy')\n",
    "print(f'Appended Amy to the list\\n{name}\\n')\n",
    "\n",
    "# Modify list\n",
    "name[0] = 'Terry'\n",
    "print(f'printing name list{name}\\n')\n"
   ]
  },
  {
   "cell_type": "markdown",
   "metadata": {},
   "source": [
    "#### Working with lists"
   ]
  },
  {
   "cell_type": "markdown",
   "metadata": {},
   "source": [
    "##### extend()\n",
    "Combines two lists"
   ]
  },
  {
   "cell_type": "code",
   "execution_count": null,
   "metadata": {},
   "outputs": [],
   "source": [
    "#   Initializing lists\n",
    "age = [21, 23, 24, 51, 53]\n",
    "name = ['Jake', 'Raymond', 'Rosa']\n",
    "\n",
    "#   Extending data\n",
    "name.extend(age)\n",
    "print(name)"
   ]
  },
  {
   "cell_type": "markdown",
   "metadata": {},
   "source": [
    "##### in\n",
    "\n",
    "Checks if the value is in the list / tuple\n"
   ]
  },
  {
   "cell_type": "code",
   "execution_count": null,
   "metadata": {},
   "outputs": [],
   "source": [
    "#   Initializing lists\n",
    "age = [21, 23, 24, 51, 53]\n",
    "name = ['Jake', 'Raymond', 'Rosa']\n",
    "\n",
    "#   Checking if Rosa is in name, print a boolean value\n",
    "if 'Rosa' in name:\n",
    "    print(name[1])"
   ]
  },
  {
   "cell_type": "markdown",
   "metadata": {},
   "source": [
    "##### insert()\n",
    "\n",
    "Insert a item to a list at a particular position\n",
    "\n"
   ]
  },
  {
   "cell_type": "code",
   "execution_count": null,
   "metadata": {},
   "outputs": [],
   "source": [
    "#   Initializing lists\n",
    "age = [21, 23, 24, 51, 53]\n",
    "name = ['Jake', 'Raymond', 'Rosa']\n",
    "\n",
    "#   Inserting a new item to the list at a particular position\n",
    "name.insert(0, 'Jake')\n",
    "print(name[0])"
   ]
  },
  {
   "cell_type": "markdown",
   "metadata": {},
   "source": [
    "##### len()\n",
    "Find the number of items in a list / tuple"
   ]
  },
  {
   "cell_type": "code",
   "execution_count": null,
   "metadata": {},
   "outputs": [],
   "source": [
    "#   Initializing lists\n",
    "age = [21, 23, 24, 51, 53]\n",
    "name = ['Jake', 'Raymond', 'Rosa']\n",
    "#   Counting how many numbers there is in the list\n",
    "print(name, len(name))"
   ]
  },
  {
   "cell_type": "markdown",
   "metadata": {},
   "source": [
    "##### pop() / remove()\n",
    "\n",
    "*   Get the value of an item and remove it from the list Requires index of item as the argument\n",
    "*   Removes an item from the list, Requires index of item as the argument.\n"
   ]
  },
  {
   "cell_type": "code",
   "execution_count": null,
   "metadata": {},
   "outputs": [],
   "source": [
    "#   Removing the item with index of 3\n",
    "#   Initializing variables\n",
    "age = [21, 23, 24, 51, 53]\n",
    "name = ['Jake', 'Raymond', 'Rosa']\n",
    "\n",
    "print(f'Age : {age} \\n name: {name}\\n')\n",
    "\n",
    "#   Removing the item with the index of 3\n",
    "age.pop(3)\n",
    "\n",
    "#   Output\n",
    "print(age)\n",
    "\n",
    "#   Removing the item \"Jake\"\n",
    "name.remove('Jake')\n",
    "\n",
    "#   Output\n",
    "print(name)"
   ]
  },
  {
   "cell_type": "markdown",
   "metadata": {},
   "source": [
    "##### reverse() / sort() / sorted()\n",
    "\n",
    "*   Reverse the items in a list\n",
    "*   Sort a list alphabetically or numerically\n",
    "*   Returns a new sorted list without sorting the original list. Requires a list as the argument\n"
   ]
  },
  {
   "cell_type": "code",
   "execution_count": null,
   "metadata": {},
   "outputs": [],
   "source": [
    "#   Initializing lists\n",
    "age = [51, 53, 24, 21, 23]\n",
    "name = ['Jake', 'Raymond', 'Rosa']\n",
    "\n",
    "#   Printing the items in reverse \n",
    "print(name.reverse())\n",
    "prin(age.sort())"
   ]
  },
  {
   "cell_type": "markdown",
   "metadata": {},
   "source": [
    "##### Operators\n",
    "concatenate it to the end of the list by using the + operator\n",
    "Dublicate a list and concatenate it to the end of the list by using the * operator\n"
   ]
  },
  {
   "cell_type": "code",
   "execution_count": null,
   "metadata": {},
   "outputs": [],
   "source": [
    "#   Initializing lists\n",
    "age = [21, 23, 24, 51, 53]\n",
    "name = ['Jake', 'Raymond', 'Rosa']\n",
    "\n",
    "# concanate the list\n",
    "print(name + ['Jake', 'Hitchcook', 'Scully'])\n",
    "print(name * 3)\n"
   ]
  },
  {
   "cell_type": "markdown",
   "metadata": {},
   "source": [
    "##### List Comprehension\n",
    "\n",
    "List comprehension offers a shorter syntax when you want to create a new list based on the values of an existing list.\n",
    "\n"
   ]
  },
  {
   "cell_type": "code",
   "execution_count": null,
   "metadata": {},
   "outputs": [],
   "source": [
    "\n",
    "\n",
    "fruits = [\"apple\", \"banana\", \"cherry\", \"kiwi\", \"mango\"]\n",
    "newlist = [x for x in fruits if 'a' in x]\n",
    "print(newlist)"
   ]
  },
  {
   "cell_type": "markdown",
   "metadata": {},
   "source": [
    "##### del\n",
    "Delete the entire list / tuple"
   ]
  },
  {
   "cell_type": "code",
   "execution_count": null,
   "metadata": {},
   "outputs": [],
   "source": [
    "#   Initializing lists\n",
    "age = [21, 23, 24, 51, 53]\n",
    "name = ['Jake', 'Raymond', 'Rosa']\n",
    "\n",
    "# Deleting the lists\n",
    "del name, age"
   ]
  },
  {
   "cell_type": "markdown",
   "metadata": {},
   "source": [
    "### 4.6 Tuples\n",
    "\n",
    "Tuples are the same as a list, besides it can NOT be altered, when the tuple is set.\n",
    "Tuple are usefull for static data, which is going to be there for the rest of the program.\n",
    "\n",
    "The data in the tuple can be accessed through their indexes such as a regular list"
   ]
  },
  {
   "cell_type": "code",
   "execution_count": null,
   "metadata": {},
   "outputs": [],
   "source": [
    "#    Initializing a tuple\n",
    "moy = (\n",
    "        \"Jan\", \"Feb\", \"Mar\",\n",
    "        \"Apr\", \"May\", \"Jun\",\n",
    "        \"Jul\", \"Aug\", \"Sep\",\n",
    "        \"Oct\", \"Nov\", \"Dec\")\n",
    "\n",
    "#   Print the output\n",
    "print(f'{moy[0]} is a part of the tuple {moy}')\n"
   ]
  },
  {
   "cell_type": "markdown",
   "metadata": {},
   "source": [
    "#### Working with tuples"
   ]
  },
  {
   "cell_type": "markdown",
   "metadata": {},
   "source": [
    "##### in\n",
    "Checks if the value is in the list / tuple"
   ]
  },
  {
   "cell_type": "code",
   "execution_count": null,
   "metadata": {},
   "outputs": [],
   "source": [
    "#    Initializing a tuple\n",
    "moy = (\n",
    "        \"Jan\", \"Feb\", \"Mar\",\n",
    "        \"Apr\", \"May\", \"Jun\",\n",
    "        \"Jul\", \"Aug\", \"Sep\",\n",
    "        \"Oct\", \"Nov\", \"Dec\")\n",
    "\n",
    "#   Checking if Dec is in moy, print a boolean value\n",
    "'Dec' in moy\n",
    "print(moy)"
   ]
  },
  {
   "cell_type": "markdown",
   "metadata": {},
   "source": [
    "##### len()\n",
    "Find the number of items in a list / tuple / dictionary\n"
   ]
  },
  {
   "cell_type": "code",
   "execution_count": null,
   "metadata": {},
   "outputs": [],
   "source": [
    "#    Initializing a tuple\n",
    "moy = (\n",
    "        \"Jan\", \"Feb\", \"Mar\",\n",
    "        \"Apr\", \"May\", \"Jun\",\n",
    "        \"Jul\", \"Aug\", \"Sep\",\n",
    "        \"Oct\", \"Nov\", \"Dec\")\n",
    "\n",
    "#   Counting how many numbers there is in the tuple\n",
    "print(len(moy))\n",
    "\n",
    "# concanate the tuple\n",
    "print(moy*3)"
   ]
  },
  {
   "cell_type": "markdown",
   "metadata": {},
   "source": [
    "##### Operators\n",
    "Dublicate a tuple and concatenate it to the end of the list by using the * operator"
   ]
  },
  {
   "cell_type": "code",
   "execution_count": null,
   "metadata": {},
   "outputs": [],
   "source": [
    "#    Initializing a tuple\n",
    "moy = (\n",
    "        \"Jan\", \"Feb\", \"Mar\",\n",
    "        \"Apr\", \"May\", \"Jun\",\n",
    "        \"Jul\", \"Aug\", \"Sep\",\n",
    "        \"Oct\", \"Nov\", \"Dec\")\n",
    "\n",
    "# concanate the tuple\n",
    "print(moy*3)"
   ]
  },
  {
   "cell_type": "markdown",
   "metadata": {},
   "source": [
    "##### del\n",
    "Delete the entire list / tuple / Dictionary"
   ]
  },
  {
   "cell_type": "code",
   "execution_count": null,
   "metadata": {},
   "outputs": [],
   "source": [
    "\n",
    "#    Initializing a tuple\n",
    "moy = (\n",
    "        \"Jan\", \"Feb\", \"Mar\",\n",
    "        \"Apr\", \"May\", \"Jun\",\n",
    "        \"Jul\", \"Aug\", \"Sep\",\n",
    "        \"Oct\", \"Nov\", \"Dec\")\n",
    "\n",
    "#   Deleting the tuple\n",
    "del moy\n"
   ]
  },
  {
   "cell_type": "markdown",
   "metadata": {},
   "source": [
    "### 4.7 Dictonary\n",
    "\n",
    "A collection of related data PAIRS\n",
    "\n",
    "- variableName = {key:data} / dict(key:data)\n",
    "- keys are required to accsess the information, keys can be strings or integers.\n",
    "\n",
    "\n",
    "-  Set same as dicitonary besides the key, and they're not ordered.<br>\n",
    "To access the dictinary data we use the key, which is the first value in the dictionary\n",
    "\n",
    "- adding values to a dictonary dictName['key'] = value\n",
    "removing values from a dictonary del dictName[key]\n"
   ]
  },
  {
   "cell_type": "code",
   "execution_count": null,
   "metadata": {},
   "outputs": [],
   "source": [
    "#   Declare a dictionary and assign value to it\n",
    "dictionary = {  'Peter':31,\n",
    "                'Mia':22,\n",
    "                'Alvin':'Data Not available',\n",
    "                'key':'Data',\n",
    "                0:1}\n",
    "\n",
    "dictionary2 = {  'Peter':31,\n",
    "                'Mia':22,\n",
    "                'Alvin':'Data Not available',\n",
    "                'key':'Data',\n",
    "                0:1,\n",
    "                1:2}\n",
    "\n",
    "#   Accessing a dictionary\n",
    "print(f'Accessing the dictionary using the key \"Peter\"\\n {dictionary[\"Peter\"]}\\n')\n",
    "\n",
    "#   Modifying the dictionary\n",
    "\n",
    "dictionary[\"Peter\"]= 25\n",
    "print(f'Accessing the dictionary using the key \"Peter\"\\n {dictionary[\"Peter\"]}\\n')\n"
   ]
  },
  {
   "cell_type": "markdown",
   "metadata": {},
   "source": [
    "#### Working with Dictionaries\n"
   ]
  },
  {
   "cell_type": "markdown",
   "metadata": {},
   "source": [
    "##### clear()\n",
    "Removing the elements of the dictionary and return an empty dictionary.\n",
    "\n",
    "##### in\n",
    "Checks if the value is in the list / tuple\n",
    "\n",
    "##### len()\n",
    "Find the number of items in a list / tuple / dictionary\n",
    "\n",
    "##### Operators\n",
    "Dublicate a tuple and concatenate it to the end of the list by using the * operator"
   ]
  },
  {
   "cell_type": "markdown",
   "metadata": {},
   "source": [
    "##### get()\n",
    "\n",
    "Return a value for the given key.\n",
    "If not found, it returns none."
   ]
  },
  {
   "cell_type": "code",
   "execution_count": null,
   "metadata": {},
   "outputs": [],
   "source": [
    "#   Declare a dictionary and assign value to it\n",
    "dictionary = {  'Peter':31,\n",
    "                'Mia':22,\n",
    "                'Alvin':'Data Not available',\n",
    "                'key':'Data',\n",
    "                0:1}\n",
    "\n",
    "dictionary2 = {  'Peter':31,\n",
    "                'Mia':22,\n",
    "                'Alvin':'Data Not available',\n",
    "                'key':'Data',\n",
    "                0:1,\n",
    "                1:2}\n",
    "\n",
    "# Retrieves the value of the given key\n",
    "print(f'Dictionary Data:\\n{dictionary.get(\"key\")}\\n')"
   ]
  },
  {
   "cell_type": "markdown",
   "metadata": {},
   "source": [
    "##### keys()\n",
    "Returns a list with the keys"
   ]
  },
  {
   "cell_type": "code",
   "execution_count": 2,
   "metadata": {},
   "outputs": [
    {
     "name": "stdout",
     "output_type": "stream",
     "text": [
      "Dictionary Keys:\n",
      "dict_keys(['Peter', 'Mia', 'Alvin', 'key', 0])\n",
      "\n"
     ]
    }
   ],
   "source": [
    "#   Declare a dictionary and assign value to it\n",
    "dictionary = {  'Peter':31,\n",
    "                'Mia':22,\n",
    "                'Alvin':'Data Not available',\n",
    "                'key':'Data',\n",
    "                0:1}\n",
    "\n",
    "dictionary2 = {  \n",
    "                'Peter':31,\n",
    "                'Mia':22,\n",
    "                'Alvin':'Data Not available',\n",
    "                'key':'Data',\n",
    "                0:1,\n",
    "                1:2}\n",
    "\n",
    "#   Retrieves the keys from dictionary\n",
    "print(f'Dictionary Keys:\\n{dictionary.keys()}\\n')"
   ]
  },
  {
   "cell_type": "markdown",
   "metadata": {},
   "source": [
    "##### update()\n",
    "\n",
    "Adds one dictionary's key-values pairs to another duplicates are removed."
   ]
  },
  {
   "cell_type": "code",
   "execution_count": null,
   "metadata": {},
   "outputs": [],
   "source": [
    "#   Declare a dictionary and assign value to it\n",
    "dictionary = {  'Peter':31,\n",
    "                'Mia':22,\n",
    "                'Alvin':'Data Not available',\n",
    "                'key':'Data',\n",
    "                0:1}\n",
    "\n",
    "dictionary2 = {  \n",
    "                'Peter':31,\n",
    "                'Mia':22,\n",
    "                'Alvin':'Data Not available',\n",
    "                'key':'Data',\n",
    "                0:1,\n",
    "                1:2}\n",
    "\n",
    "# updating dictionary\n",
    "dictionary.update(dictionary2)\n",
    "print(f'Updated Dictionary:\\n{dictionary}\\n')"
   ]
  },
  {
   "cell_type": "markdown",
   "metadata": {},
   "source": [
    "##### values()\n",
    "\n",
    "Returns a list opf the dictionary's values"
   ]
  },
  {
   "cell_type": "code",
   "execution_count": null,
   "metadata": {},
   "outputs": [],
   "source": [
    "#   Declare a dictionary and assign value to it\n",
    "dictionary = {  'Peter':31,\n",
    "                'Mia':22,\n",
    "                'Alvin':'Data Not available',\n",
    "                'key':'Data',\n",
    "                0:1}\n",
    "\n",
    "dictionary2 = {  \n",
    "                'Peter':31,\n",
    "                'Mia':22,\n",
    "                'Alvin':'Data Not available',\n",
    "                'key':'Data',\n",
    "                0:1,\n",
    "                1:2}\n",
    "\n",
    "#   Printing the values of dictionary\n",
    "print(f'Dictionary Key values:\\n{dictionary.values()}\\n')"
   ]
  },
  {
   "cell_type": "markdown",
   "metadata": {},
   "source": [
    "##### items()\n",
    "Returns a list of dictionary's pairs as tuples"
   ]
  },
  {
   "cell_type": "code",
   "execution_count": 1,
   "metadata": {},
   "outputs": [
    {
     "name": "stdout",
     "output_type": "stream",
     "text": [
      "Dictionary items:\n",
      "dict_items([('Peter', 31), ('Mia', 22), ('Alvin', 'Data Not available'), ('key', 'Data'), (0, 1)])\n",
      "\n"
     ]
    }
   ],
   "source": [
    "#   Declare a dictionary and assign value to it\n",
    "dictionary = {  'Peter':31,\n",
    "                'Mia':22,\n",
    "                'Alvin':'Data Not available',\n",
    "                'key':'Data',\n",
    "                0:1}\n",
    "\n",
    "dictionary2 = {  'Peter':31,\n",
    "                'Mia':22,\n",
    "                'Alvin':'Data Not available',\n",
    "                'key':'Data',\n",
    "                0:1,\n",
    "                1:2}\n",
    "\n",
    "#   Printing the dictionary items.\n",
    "print(f'Dictionary items:\\n{dictionary.items()}\\n')"
   ]
  },
  {
   "cell_type": "markdown",
   "metadata": {},
   "source": [
    "##### sorted()\n",
    "\n",
    "Sorting dictionaries"
   ]
  },
  {
   "cell_type": "markdown",
   "metadata": {},
   "source": [
    "##### del\n",
    "Delete the entire list / tuple / Dictionary"
   ]
  },
  {
   "cell_type": "code",
   "execution_count": null,
   "metadata": {},
   "outputs": [],
   "source": [
    "#   Declare a dictionary and assign value to it\n",
    "dictionary = {  'Peter':31,\n",
    "                'Mia':22,\n",
    "                'Alvin':'Data Not available',\n",
    "                'key':'Data',\n",
    "                0:1}\n",
    "\n",
    "dictionary2 = {  'Peter':31,\n",
    "                'Mia':22,\n",
    "                'Alvin':'Data Not available',\n",
    "                'key':'Data',\n",
    "                0:1,\n",
    "                1:2}\n",
    "\n",
    "#   Deleting a dictionary\n",
    "#   Removing a key from the dictionary\n",
    "del dictionary['Peter']\n",
    "print(f'Deleted a key in the dictionary:\\n{dictionary}')\n",
    "\n",
    "del dictionary, dictionary2"
   ]
  }
 ],
 "metadata": {
  "kernelspec": {
   "display_name": "Python 3.10.5 64-bit",
   "language": "python",
   "name": "python3"
  },
  "language_info": {
   "codemirror_mode": {
    "name": "ipython",
    "version": 3
   },
   "file_extension": ".py",
   "mimetype": "text/x-python",
   "name": "python",
   "nbconvert_exporter": "python",
   "pygments_lexer": "ipython3",
   "version": "3.10.5"
  },
  "orig_nbformat": 4,
  "vscode": {
   "interpreter": {
    "hash": "949777d72b0d2535278d3dc13498b2535136f6dfe0678499012e853ee9abcab1"
   }
  }
 },
 "nbformat": 4,
 "nbformat_minor": 2
}
