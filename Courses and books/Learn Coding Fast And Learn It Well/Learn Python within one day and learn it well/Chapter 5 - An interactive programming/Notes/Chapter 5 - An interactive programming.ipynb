{
 "cells": [
  {
   "cell_type": "markdown",
   "metadata": {},
   "source": [
    "# Chapter 5 - An interactive programming Notebook"
   ]
  },
  {
   "cell_type": "markdown",
   "metadata": {},
   "source": [
    "## 5.1 Input()\n",
    "\n",
    "Prompting a user to input some characters\n"
   ]
  },
  {
   "cell_type": "code",
   "execution_count": 2,
   "metadata": {},
   "outputs": [
    {
     "name": "stdout",
     "output_type": "stream",
     "text": [
      "5.0 An interactive program:\n",
      " Inserted name : TEST.\n",
      "Inserdet age 34.\n",
      "\n"
     ]
    }
   ],
   "source": [
    "\n",
    "#   Initializing variables\n",
    "name = input(' Please insert a name : ')\n",
    "age = input(f'insert a age, {name}? :')\n",
    "\n",
    "print (f'5.0 An interactive program:\\n Inserted name : {name}.\\nInserdet age {age}.\\n')\n"
   ]
  },
  {
   "cell_type": "markdown",
   "metadata": {},
   "source": [
    "## 5.2  Print()\n",
    "\n",
    "-   Accepting zero to multiple arguments, seperated by a comma\n",
    "- using triple quotes, will span the message over multiple lines. Which will help us to increase readability of the messages\n",
    "\n"
   ]
  },
  {
   "cell_type": "markdown",
   "metadata": {},
   "source": [
    "## 5.4 Escape characters\n",
    "\n",
    "Sometimes we may also need yto print some special \"unprintable\" characters such as atab, newline. \n",
    "- Tab \\t(ab), \\\\, \\\" dubble quotation, \\' single quotation, \\n(ew line) (r not\\tab)"
   ]
  },
  {
   "cell_type": "code",
   "execution_count": null,
   "metadata": {},
   "outputs": [],
   "source": [
    "#   Using Escape Characters\n",
    "\n",
    "print('\\tHello World (using tabular)\\nThis is a newline \\n\\nThis is \\\"doubble\\\" newline \\ncreating \\'a\\' backslash \"\\\\\" \\n \\r')"
   ]
  }
 ],
 "metadata": {
  "kernelspec": {
   "display_name": "Python 3.10.5 64-bit",
   "language": "python",
   "name": "python3"
  },
  "language_info": {
   "codemirror_mode": {
    "name": "ipython",
    "version": 3
   },
   "file_extension": ".py",
   "mimetype": "text/x-python",
   "name": "python",
   "nbconvert_exporter": "python",
   "pygments_lexer": "ipython3",
   "version": "3.10.5"
  },
  "orig_nbformat": 4,
  "vscode": {
   "interpreter": {
    "hash": "b6213e0af081d56db034f795ff49d96980936e2ae540dda57fc6c3cbea6a5fc9"
   }
  }
 },
 "nbformat": 4,
 "nbformat_minor": 2
}
