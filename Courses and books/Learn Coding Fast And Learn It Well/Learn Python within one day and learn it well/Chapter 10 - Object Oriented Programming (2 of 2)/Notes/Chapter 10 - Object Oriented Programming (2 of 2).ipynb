{
 "cells": [
  {
   "cell_type": "markdown",
   "metadata": {},
   "source": [
    "#   Chapter 10- Object Oriented Programming (2/2) Notebook"
   ]
  },
  {
   "cell_type": "markdown",
   "metadata": {},
   "source": [
    "## 10.1 Inheritance\n",
    "\n",
    "Its one of the key concepts of OOP. Simply stated, inheritance allow us to create a new class from an existing class so that we can effectively reuse existing code."
   ]
  },
  {
   "cell_type": "markdown",
   "metadata": {},
   "source": [
    "##   10.2 Writing the Child Class\n",
    "\n",
    "To understand how inhertiance works, will we expand the Prostaff class which were created.\n",
    "\n",
    "Main feature of a sub class is that it inherits all the variables and methods from the parent class, which means they're not needed to be coded again and the sub class can have additional variables and methods that do not exist in the parent class.\n",
    "\n",
    "One of the main reasons for coding a subclasses is to facilitate code reuse. One way to do it is to use a builtin function called **super()** it's a pre-built function that can be used in a sub class to call a method in the super.class. In python 3, we do not have to pass any values for the self parameter. In Python 2 you have to assign the subclass a name and the keyword self. There is a common practise to do so, for backwards compatibility.\n",
    "\n",
    "Beside using the super() function, we can use its parent class name to call a method in the base class.\n",
    "\n",
    "Instances created in a child class is only available in the child class."
   ]
  },
  {
   "cell_type": "code",
   "execution_count": null,
   "metadata": {},
   "outputs": [],
   "source": [
    "from classes import ProStaff\n",
    "\n",
    "class Junior(ProStaff):\n",
    "\n",
    "    def __init__(self, name, salary):\n",
    "        super(Junior, self).__init__('Junior', name, salary)\n",
    "\n",
    "        return\n",
    "\n",
    "class Management(ProStaff):\n",
    "\n",
    "    def __init__(self, name, salary, allowance, bonus):\n",
    "        super(Management, self).__init__('Mananger', name, salary)\n",
    "\n",
    "        #   Initializing instances\n",
    "        self.bonus = bonus\n",
    "        self.allowance = allowance,\n",
    "        return\n",
    "\n",
    "    #   Overriding the method in the parent class\n",
    "    def CalculateSalary(self):\n",
    "\n",
    "        #   Titles\n",
    "        jr = super().CalculateSalary()\n",
    "        self.salary = jr + self.allowance\n",
    "\n",
    "        return self.salary\n",
    "\n",
    "    def CalculateBonus(self):\n",
    "\n",
    "        #   Prompting the user to enter the performance grade for the management staff\n",
    "        a = f'Enter performance grade for {self.name}'\n",
    "        grade = input(a)\n",
    "\n",
    "        #   Assigning bonus value based on grade\n",
    "        if (grade == 'A'):\n",
    "            self.bonus = 10000\n",
    "        else:\n",
    "            self.bonus = 0\n",
    "\n",
    "        return self.bonus\n"
   ]
  },
  {
   "cell_type": "markdown",
   "metadata": {},
   "source": [
    "##  10.3 Instaniating a child Object\n",
    "\n"
   ]
  },
  {
   "cell_type": "code",
   "execution_count": 2,
   "metadata": {},
   "outputs": [
    {
     "name": "stdout",
     "output_type": "stream",
     "text": [
      "Creating Prostaff Object\n",
      "Creating Prostaff Object\n",
      "Position Junior, Name Jhon Doe, Salary 0\n",
      "Position Mananger, Name Jane Doe, Salary 0\n",
      "Jhon Doe's Salary : 12000\n",
      " Jane Doe's Performance bonus : 10000\n"
     ]
    }
   ],
   "source": [
    "#   Importing the necessary modules\n",
    "from classes import Junior, Management\n",
    "\n",
    "#   Initiating Objects\n",
    "a = Junior('Jhon Doe', 0)\n",
    "b = Management('Jane Doe', 0, 1000, 0)\n",
    "\n",
    "print(f'{a}\\n{b}')\n",
    "\n",
    "print(f'{a.name}\\'s Salary : {a.CalculateSalary()}\\n {b.name}\\'s Performance bonus : {b.CalculateBonus()}')"
   ]
  },
  {
   "cell_type": "markdown",
   "metadata": {},
   "source": [
    "##  10.4 Python Special Methods\n",
    "\n",
    "The special methods is known as magic methods, and they are always surrounded by double underscores.\n",
    "\n",
    "One of the magical properties of special method is that you do not invoke it directly. ala not using `__str__` but **print()** Python invokes the necessart special methods behind the scene.\n",
    "\n",
    "Another property of special methods is that they can be overridden to suit our needs.  \n",
    "\n",
    "we can override the correspondig spcial method to provide even more meaning to them this is known as **Overloading the operators**\n",
    "-   **`__init__`**  -   Initiates instances\n",
    "-   **`__str__`**   -   Make the text readable for humans\n",
    "-   **`__add__`**   -   Allow us to modify standard operator +\n",
    "-   **`__sub__`**   -   Allow us to modify the standard operator -\n",
    "-   **`__mul__`**   -   Allow us to modify the standard operator *\n",
    "-   **`__div__`**   -   Allow us to modify the standard operator /\n"
   ]
  },
  {
   "cell_type": "code",
   "execution_count": 6,
   "metadata": {},
   "outputs": [
    {
     "name": "stdout",
     "output_type": "stream",
     "text": [
      "Creating Prostaff Object\n",
      "Creating Prostaff Object\n",
      "Position Junior, Name Jhon Doe, Salary 0\n",
      "Position Mananger, Name Jane Doe, Salary 0\n",
      "Jhon Doe's Salary : 14400\n",
      " Jane Doe's Performance bonus : 0\n",
      "Total Salary for Jhon Doe & Jane Doe14400\n"
     ]
    }
   ],
   "source": [
    "#   Importing the necessary modules\n",
    "from classes import Junior, Management\n",
    "\n",
    "#   Initiating Objects\n",
    "a = Junior('Jhon Doe', 0)\n",
    "b = Management('Jane Doe', 0, 1000, 0)\n",
    "\n",
    "print(f'{a}\\n{b}')\n",
    "\n",
    "print(f'{a.name}\\'s Salary : {a.CalculateSalary()}\\n {b.name}\\'s Performance bonus : {b.CalculateBonus()}')\n",
    "\n",
    "totalSalary = a.salary + b.salary\n",
    "print(f'Total Salary for {a.name} & {b.name} :{totalSalary}$')"
   ]
  },
  {
   "cell_type": "markdown",
   "metadata": {},
   "source": [
    "##  10.5 Python Built-in Functions for Objects\n",
    "\n",
    "**isinstance()**<br>\n",
    "\n",
    "The method takes in two arguments. Checking if the first argument is\n",
    "an instance of the second argument (or an instance of a **sub class** of the second argument). The second argument can be a **class** or a built-in type in Python. It can also be a **tuple**, consisting of more than one class or type. \n",
    "\n",
    "If the second argument is not valid class or type, an exception is rised.\n",
    "\n",
    "**issubclass()**<br>\n",
    "The function takes in two arguments name of two classes or types it checks if the first argument is a subclass of the second argument. The second argument can be a tuple. The function returns True if the first argument is a subclass of any of the classes or types in the tuple. if the second argument is not a valid class or type an exception arises.\n",
    "\n",
    "**hasattr()**\n",
    "Testing if an instance has a certain attribute (variables and methods)\n",
    "It takes two arguments. The first is the name of the object and the second is the name of the attribute.\n"
   ]
  },
  {
   "cell_type": "code",
   "execution_count": 27,
   "metadata": {},
   "outputs": [
    {
     "name": "stdout",
     "output_type": "stream",
     "text": [
      "Parent Class Object Created\n",
      "Child Class Object Created\n",
      "Checking if a is an instance of Parent Class : True\n",
      "Checking if 5 is an instance of int : True\n",
      "Checking if child is an instance of childClass : True\n",
      "Checking if child is an instance of ParentClass : False\n",
      "\n",
      "Checking if ChildClass is a subclass of ParentClass : True\n",
      "Checking if ParentClass is a subclass of ParentClass :True\n",
      "Checking if ChildClass is a subclass of int : False\n",
      " Checking if ChildClass is a subclass of int or ParentClass : True\n",
      "\n",
      "Checking if ParentClass has the attribute \"a\": False\n",
      "Checking if ParentClass has the method \"SomeMethod\" True\n",
      "Checking if ParentClass has the attribute \"b\" : False\n",
      "\n"
     ]
    }
   ],
   "source": [
    "#   Importing modules\n",
    "from classes import ParentClass as PC, ChildClass as C\n",
    "\n",
    "a = PC()\n",
    "b = C()\n",
    "\n",
    "#   Checking wheter a is an instance of ParentClass\n",
    "print(f'Checking if a is an instance of Parent Class : {isinstance(a,PC)}\\nChecking if 5 is an instance of int : {isinstance(5,int)}\\nChecking if child is an instance of childClass : {isinstance(b,C)}\\nChecking if child is an instance of ParentClass : {isinstance(PC,C)}\\n')\n",
    "print(f'Checking if ChildClass is a subclass of ParentClass : {issubclass(C,PC)}\\nChecking if ParentClass is a subclass of ParentClass :{issubclass(PC,PC)}\\nChecking if ChildClass is a subclass of int : {issubclass(C, int)}\\n Checking if ChildClass is a subclass of int or ParentClass : {issubclass(C,(int, PC))}\\n')\n",
    "print(f'Checking if ParentClass has the attribute \"a\": {hasattr(PC,\"a\")}\\nChecking if ParentClass has the method \"SomeMethod\" {hasattr(PC,\"SomeMethod\")}\\nChecking if ParentClass has the attribute \"b\" : {hasattr(PC, \"b\")}\\n')"
   ]
  }
 ],
 "metadata": {
  "kernelspec": {
   "display_name": "Python 3.10.8 64-bit (microsoft store)",
   "language": "python",
   "name": "python3"
  },
  "language_info": {
   "codemirror_mode": {
    "name": "ipython",
    "version": 3
   },
   "file_extension": ".py",
   "mimetype": "text/x-python",
   "name": "python",
   "nbconvert_exporter": "python",
   "pygments_lexer": "ipython3",
   "version": "3.10.8"
  },
  "orig_nbformat": 4,
  "vscode": {
   "interpreter": {
    "hash": "8260862554d27b7d0ec26f530052bd6c544de7b0084aa89a3e7dadc962908b17"
   }
  }
 },
 "nbformat": 4,
 "nbformat_minor": 2
}
