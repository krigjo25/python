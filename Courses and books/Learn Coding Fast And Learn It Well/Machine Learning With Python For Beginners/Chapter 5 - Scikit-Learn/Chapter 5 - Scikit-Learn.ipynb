{
 "cells": [
  {
   "cell_type": "markdown",
   "metadata": {},
   "source": [
    "#   Chapter 5 - Scikit-Learn Notebook"
   ]
  },
  {
   "cell_type": "markdown",
   "metadata": {},
   "source": [
    "## 5.1 Overview of the Scikit Learn Responsories\n",
    "\n",
    "### 5.1.1 Organizational Structure\n",
    "\n",
    "Scikit-learn is a massive library in python that comes with an extensive assortment of classes and functions for performing various machine learning tasks.\n",
    "\n",
    "These classes and functions are grouped into numerous modules that are intuitively named.\n",
    "\n",
    "classes for building decision tree-based models are found in the **sklearn.tree** module while classes for data preprocessing are in the **sklearn.preprocessing** module.\n",
    "\n",
    "The classes are named appropriately. \n",
    "\n",
    "**LinearRegression**\n",
    "**StandardScaler**\n",
    "\n",
    "### 5.1.2 Estimators, Transformers, and Predictors\n",
    "\n",
    "Sklearn follows an object oriented approach and is built around three main types of objects **estimators**, **transformers** and **predictors**. estimator have the **fit()** method, transformers have the **transform()** method and predictors have the **predict()** method.\n",
    "\n",
    "#### Estimators and the fit() method\n",
    "\n",
    "Estimator refers to any object that learns ( i.e estimates or calculate some parameters) from a input data. This learning happens inside the fit() method.\n",
    "\n",
    "#### Transform and the transform() method\n",
    "\n",
    "Some estimators also transform a dataset. These estimators are known as transformers and perform the transformation inside a method called **transform()**. This method accepts an array as input and uses the parameters calculated by the fit() method of the same object to return a transformed dataset.\n",
    "'\n",
    "\n",
    "#### Predictors and the predict() method\n",
    "\n",
    "Some estimators are able to make predictions when given a dataset. These estimators are known as predictors and perform the prediction.\n",
    "\n",
    "It makes predictions based on the parameters calculated by the fit() method."
   ]
  },
  {
   "cell_type": "code",
   "execution_count": 2,
   "metadata": {},
   "outputs": [
    {
     "name": "stdout",
     "output_type": "stream",
     "text": [
      "[2.   5.75]\n",
      "[ 0.5    15.6875]\n"
     ]
    }
   ],
   "source": [
    "#   Importing modules\n",
    "import pandas as pd\n",
    "from sklearn.preprocessing import StandardScaler\n",
    "\n",
    "#   Create a dataframe\n",
    "x = pd.DataFrame({'A':[1, 2, 3, 2], 'B':[11, 1, 8, 3]})\n",
    "\n",
    "#   Standarizing the dataframe\n",
    "scaler = StandardScaler()\n",
    "scaler.fit(x)\n",
    "\n",
    "print(scaler.mean_)\n",
    "print(scaler.var_)"
   ]
  },
  {
   "cell_type": "markdown",
   "metadata": {},
   "source": [
    "# 5.2.1 Handling missing data\n",
    "\n",
    "Most ML algorithms mandate a complete dataset as missing data can introduce baises and affect the model's accuracy. Missing values in CSV files are typically denoted as np.nan when we load them. A simple workaround to handle these missing values is to discard their rows or columns using the dropna()"
   ]
  },
  {
   "cell_type": "code",
   "execution_count": 2,
   "metadata": {},
   "outputs": [],
   "source": [
    "#   Importing libraries\n",
    "import pandas as pd\n",
    "import numpy as np\n",
    "\n",
    "#   Read CSV\n",
    "csv = pd.read_csv('resources/Datasets/datapreprocessing.csv')\n",
    "\n",
    "#   Handling the data"
   ]
  }
 ],
 "metadata": {
  "kernelspec": {
   "display_name": "Python 3.10.5 ('env': venv)",
   "language": "python",
   "name": "python3"
  },
  "language_info": {
   "codemirror_mode": {
    "name": "ipython",
    "version": 3
   },
   "file_extension": ".py",
   "mimetype": "text/x-python",
   "name": "python",
   "nbconvert_exporter": "python",
   "pygments_lexer": "ipython3",
   "version": "3.10.5"
  },
  "orig_nbformat": 4,
  "vscode": {
   "interpreter": {
    "hash": "f35321be4ae93f7993f27fb53942f0774bccc4d7e9455219ca66c5c9df461594"
   }
  }
 },
 "nbformat": 4,
 "nbformat_minor": 2
}
