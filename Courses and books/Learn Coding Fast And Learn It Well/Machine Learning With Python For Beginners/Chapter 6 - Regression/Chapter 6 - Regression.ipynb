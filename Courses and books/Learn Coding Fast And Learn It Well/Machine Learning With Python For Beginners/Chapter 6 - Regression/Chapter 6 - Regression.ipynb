{
 "cells": [
  {
   "cell_type": "markdown",
   "metadata": {},
   "source": [
    "#   Chapter 6 - Regression Notebook"
   ]
  }
 ],
 "metadata": {
  "language_info": {
   "name": "python"
  },
  "orig_nbformat": 4
 },
 "nbformat": 4,
 "nbformat_minor": 2
}
