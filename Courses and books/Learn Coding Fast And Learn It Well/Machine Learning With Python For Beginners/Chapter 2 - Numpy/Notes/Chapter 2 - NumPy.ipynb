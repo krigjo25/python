{
 "cells": [
  {
   "cell_type": "markdown",
   "metadata": {},
   "source": [
    "#   NumPy Notebook"
   ]
  },
  {
   "cell_type": "markdown",
   "metadata": {},
   "source": [
    "## What is NumPy\n",
    "\n",
    "* It's designed to work with arrays. Basic Python arrays has limited functionalities Which means you can not work with advanced mathematical operations with basic arrays.\n",
    "\n",
    "* NumPy can perform various complex operations on arrays including shape manipulation, basic linear algebra, random simulation and more.\n",
    "\n",
    "The main structure of NumPy is object known as the ndarray. Its an multidimentional array of elements, which typical is an array itself.\n",
    "\n",
    "Datasets in ML are frequently stored as 2D ndarrays\n",
    "Therefore, familiarity with NumPy is essential\n",
    "\n",
    "## 2.2 Importing the NumPy Library¨\n",
    "to work with NumPt, it needs to be imported\n",
    "its customary to use np as the alias for NumPy\n"
   ]
  },
  {
   "cell_type": "code",
   "execution_count": 23,
   "metadata": {},
   "outputs": [],
   "source": [
    "\n",
    "#   2.2 Importing NumPy\n",
    "#   Importing Python Repositories\n",
    "import numpy as np\n"
   ]
  },
  {
   "cell_type": "markdown",
   "metadata": {},
   "source": [
    "# 2.3 Creating a NumPy Array\n",
    "There is two ways to create an ndarray.\n",
    "The first is to convert a Python like array Structure (list / tuple)\n",
    "The Second way is to directly use np.array([list values])\n",
    "\n",
    "# Example\n",
    "\n",
    "list1 & list2 are similar, except list1 har one set of square brackets (1Dimentional array)\n",
    "while the second one has two square brackets (2 Dimentional array). list3 has three nested lists with four elements (2 Dimentional arrays)\n",
    "\n",
    "After the list declearation we pass them to the NumPy array() to convert them into ndarrays.\n",
    "The output for checking the type of an array indicates the list has been successfully converted into NumPy arrays. By checking the output of ndarray shape inform us the number of elements in it\n",
    "\n",
    "\n",
    "2D arrays is represented as a tuple with two values\n",
    "[[1,2,3],[4,5,6]](2,3) notifies us that the array consists of x rows and x columns.\n",
    "\n",
    "To create an array from the scratch we use the buildt-in function linspace(start, stop, num).\n",
    "It generates a floating point numbers by default (Jupyter prints decimals as comma)"
   ]
  },
  {
   "cell_type": "code",
   "execution_count": 24,
   "metadata": {},
   "outputs": [
    {
     "name": "stdout",
     "output_type": "stream",
     "text": [
      "Checking which type the NumPy arrays is\n",
      "<class 'numpy.ndarray'>\n",
      "\n",
      "Second list:\n",
      "<class 'numpy.ndarray'>\n",
      "\n",
      "Third list:\n",
      "<class 'numpy.ndarray'>\n",
      "\n",
      "(8,) (2, 5) (3,)\n",
      "2\n"
     ]
    },
    {
     "name": "stderr",
     "output_type": "stream",
     "text": [
      "C:\\Users\\krigj_b\\AppData\\Local\\Temp\\ipykernel_20812\\3688980885.py:24: VisibleDeprecationWarning: Creating an ndarray from ragged nested sequences (which is a list-or-tuple of lists-or-tuples-or ndarrays with different lengths or shapes) is deprecated. If you meant to do this, you must specify 'dtype=object' when creating the ndarray.\n",
      "  ar2= np.array(list3)\n"
     ]
    }
   ],
   "source": [
    "\n",
    "#   2.2 Importing NumPy\n",
    "#   Importing Python Repositories\n",
    "import numpy as np\n",
    "\n",
    "#   Example\n",
    "#   Initializing lists\n",
    "\n",
    "#   Initializing 1D Array\n",
    "list1 = [1, 2, 3, 4, 5 , 6, 7, 8]\n",
    "\n",
    "#   Initializing 2D Array\n",
    "list2 = [   [1, 2, 3, 4, 5], \n",
    "            [6, 7, 8, 9, 10]]\n",
    "\n",
    "list3 = [\n",
    "            [list1.copy()], \n",
    "            [10, 20, 30, 40], \n",
    "            [100, 200, 300, 400]]\n",
    "\n",
    "#   Converting lists into numpy arrays\n",
    "\n",
    "ar = np.array(list1)\n",
    "ar1= np.array(list2)\n",
    "ar2= np.array(list3)\n",
    "ar3 = np.linspace(0,10,15)\n",
    "\n",
    "print(f'Checking which type the NumPy arrays is\\n{type(ar)}\\n\\nSecond list:\\n{type(ar1)}\\n\\nThird list:\\n{type(ar2)}\\n')\n",
    "\n",
    "print(ar.shape, ar1.shape, ar2.shape)\n",
    "print(ar1[0,1])"
   ]
  },
  {
   "cell_type": "markdown",
   "metadata": {},
   "source": [
    "# 2.4 Selecting Data from a NumPy Array\n",
    "\n",
    "Acccess NumPy Array in the same way as Python by using indexes. \n",
    "Indexes starts from 0, and negative values starts from the back.\n",
    "\n",
    "2D Arrays can be accsessed the same way as 2D lists, and by adding [0,1] a second value\n",
    "The first value access the first element in the array, the second element is accessed by using a second value\n",
    "\n",
    "By using the [start:stop:step] notation we can slince the NumPy array it can be used in 2D ndarrays also\n",
    "[0:2,2:4]. Slice before the comma, selects the rows, while the slice after selects the columns\n",
    "\n",
    "tip :\n",
    "Working with 2D arrays like a table.\n"
   ]
  },
  {
   "cell_type": "code",
   "execution_count": 29,
   "metadata": {},
   "outputs": [
    {
     "name": "stdout",
     "output_type": "stream",
     "text": [
      "Printing output of the np array 1\n",
      " 8\n",
      "Printing a 2D array:\n",
      " 2\n",
      " 3\n"
     ]
    },
    {
     "ename": "IndexError",
     "evalue": "too many indices for array: array is 1-dimensional, but 2 were indexed",
     "output_type": "error",
     "traceback": [
      "\u001b[1;31m---------------------------------------------------------------------------\u001b[0m",
      "\u001b[1;31mIndexError\u001b[0m                                Traceback (most recent call last)",
      "\u001b[1;32mc:\\Users\\krigj_b\\Documents\\Educational\\Python\\MachineLearning\\learncodingfast\\2.0 NumPy.ipynb Cell 6'\u001b[0m in \u001b[0;36m<cell line: 5>\u001b[1;34m()\u001b[0m\n\u001b[0;32m      <a href='vscode-notebook-cell:/c%3A/Users/krigj_b/Documents/Educational/Python/MachineLearning/learncodingfast/2.0%20NumPy.ipynb#ch0000005?line=2'>3</a>\u001b[0m \u001b[39mprint\u001b[39m(\u001b[39mf\u001b[39m\u001b[39m'\u001b[39m\u001b[39mPrinting output of the np array \u001b[39m\u001b[39m{\u001b[39;00mar[\u001b[39m0\u001b[39m]\u001b[39m}\u001b[39;00m\u001b[39m\\n\u001b[39;00m\u001b[39m \u001b[39m\u001b[39m{\u001b[39;00mar[\u001b[39m-\u001b[39m\u001b[39m1\u001b[39m]\u001b[39m}\u001b[39;00m\u001b[39m'\u001b[39m)\n\u001b[0;32m      <a href='vscode-notebook-cell:/c%3A/Users/krigj_b/Documents/Educational/Python/MachineLearning/learncodingfast/2.0%20NumPy.ipynb#ch0000005?line=3'>4</a>\u001b[0m \u001b[39mprint\u001b[39m(\u001b[39mf\u001b[39m\u001b[39m'\u001b[39m\u001b[39mPrinting a 2D array:\u001b[39m\u001b[39m\\n\u001b[39;00m\u001b[39m \u001b[39m\u001b[39m{\u001b[39;00mar1[\u001b[39m0\u001b[39m][\u001b[39m1\u001b[39m]\u001b[39m}\u001b[39;00m\u001b[39m\\n\u001b[39;00m\u001b[39m \u001b[39m\u001b[39m{\u001b[39;00mar1[\u001b[39m0\u001b[39m,\u001b[39m2\u001b[39m]\u001b[39m}\u001b[39;00m\u001b[39m'\u001b[39m)\n\u001b[1;32m----> <a href='vscode-notebook-cell:/c%3A/Users/krigj_b/Documents/Educational/Python/MachineLearning/learncodingfast/2.0%20NumPy.ipynb#ch0000005?line=4'>5</a>\u001b[0m \u001b[39mprint\u001b[39m(\u001b[39mf\u001b[39m\u001b[39m'\u001b[39m\u001b[39mSlicing a 1D array:\u001b[39m\u001b[39m\\n\u001b[39;00m\u001b[39m \u001b[39m\u001b[39m{\u001b[39;00mar[\u001b[39m1\u001b[39m:\u001b[39m3\u001b[39m:\u001b[39m2\u001b[39m]\u001b[39m}\u001b[39;00m\u001b[39m\\n\u001b[39;00m\u001b[39m Slice a 2D array\u001b[39m\u001b[39m\\n\u001b[39;00m\u001b[39m \u001b[39m\u001b[39m{\u001b[39;00mar2[\u001b[39m0\u001b[39m:\u001b[39m2\u001b[39m,\u001b[39m2\u001b[39m:\u001b[39m4\u001b[39m]\u001b[39m}\u001b[39;00m\u001b[39m\\n\u001b[39;00m\u001b[39m'\u001b[39m)\n",
      "\u001b[1;31mIndexError\u001b[0m: too many indices for array: array is 1-dimensional, but 2 were indexed"
     ]
    }
   ],
   "source": [
    "#   Example\n",
    "\n",
    "print(f'Printing output of the np array\\n{ar[0]}\\n {ar[-1]}')\n",
    "print(f'Printing a 2D array:\\n {ar1[0][1]}\\n {ar1[0,2]}')\n",
    "print(f'Slicing a 1D array:\\n {ar[1:3:2]}\\n Slice a 2D array\\n {ar2[0:2,2:4]}\\n')"
   ]
  },
  {
   "cell_type": "markdown",
   "metadata": {},
   "source": [
    "# 2.5 ndarray Methods\n",
    "\n",
    "## ndarray Class\n",
    "\n",
    "The methods sum() & mean() gives us the sum and mean of an array.\n",
    "\n",
    "### sum()\n",
    "\n",
    "If sum() is used without specifying the axis it returns the sum of all elements in the array. If we specify axis=0, it sums the elements in each column. axis=1 sums the elements in each row.\n",
    "\n",
    "### reshape()\n",
    "\n",
    "reshapes to a NumPy array without modifying the data.\n",
    "by using reshape() we can reshape the array \n",
    "\n",
    "\n",
    "it is necessary to know how to reshape 1D arrays into 2D arrays, certain methods in Scikit-Learn library requires 2D arrays\n",
    "\n",
    "**Tip**\n",
    "\n",
    "allowing the reshape method to interfer the shape for us, by passing (n,-1) or (-1, n) (row, column)"
   ]
  },
  {
   "cell_type": "code",
   "execution_count": 33,
   "metadata": {},
   "outputs": [
    {
     "name": "stdout",
     "output_type": "stream",
     "text": [
      "Sum :\n",
      "55\n",
      "\n",
      "Sums the rows:\n",
      "[15 40]\n",
      "\n",
      "Sums the columns:\n",
      "[ 7  9 11 13 15]\n",
      "\n",
      "Original array:\n",
      "[1 2 3 4 5 6 7 8]\n",
      "\n",
      "Rechaping the 1D list:\n",
      "[[1 2]\n",
      " [3 4]\n",
      " [5 6]\n",
      " [7 8]]\n",
      "\n"
     ]
    }
   ],
   "source": [
    "\n",
    "#  2.5 ndarray methods\n",
    "\n",
    "arg = ar1.sum()\n",
    "arg1 = ar1.sum(axis=1)\n",
    "arg2 = ar1.sum(axis=0)\n",
    "print(f'Sum :\\n{arg}\\n\\nSums the rows:\\n{arg1}\\n\\nSums the columns:\\n{arg2}\\n')\n",
    "\n",
    "#  Rehapeshaping 1D list, one row, 9 columns\n",
    "\n",
    "\n",
    "arg = ar.reshape(4,2)\n",
    "print(f'Original array:\\n{ar}\\n\\nRechaping the 1D list:\\n{arg}\\n')\n"
   ]
  },
  {
   "cell_type": "markdown",
   "metadata": {},
   "source": [
    "#   2.6 NumPy Functions\n",
    "\n",
    "##  NumPy routines\n",
    "concatenate() is a commonly used method in NumPy, it's used to join arrrays, it can be specified to either join along axis 0 & 1. Axis 0 combines the rows and requires the arrays to have the same number of columns. This is the default value, while using axis 1 combines the columns and requires the arrays to have the same number of rows.\n",
    "\n",
    "##   NumPy Wrapper functions\n",
    "\n",
    "Some of the NumPy functions are wrappers around coresponding medhods in the ndarray class\n",
    "e.g reshape()\n",
    "\n",
    "### What is a Wrapper function\n",
    "A wrapper is a function whose main purpose is to call another function or method. \n",
    "We can use the wrapper in two ways, the np.reshape() and arr.reshape()\n",
    "\n"
   ]
  },
  {
   "cell_type": "code",
   "execution_count": 37,
   "metadata": {},
   "outputs": [
    {
     "name": "stdout",
     "output_type": "stream",
     "text": [
      "Arrays to concatenates\n",
      " [[1 2]\n",
      " [3 4]], [[5 6]\n",
      " [7 8]]\n",
      "Concatenates the arrays into \n",
      "[[1 2]\n",
      " [3 4]\n",
      " [5 6]\n",
      " [7 8]]\n",
      "Concatenates the Three arrays into \n",
      "[[ 1  2  9 10]\n",
      " [ 3  4 11 12]\n",
      " [ 5  6 13 14]\n",
      " [ 7  8 15 16]]\n",
      "[[1 2]\n",
      " [3 4]]\n",
      "[[1 2]\n",
      " [3 4]]\n"
     ]
    }
   ],
   "source": [
    "# 2.6    Numpy FUnctions\n",
    "arr = np.array([[1, 2], [3, 4]])\n",
    "arr1 = np.array([[5, 6], [7, 8]])\n",
    "arr2 = np.array([[9, 10], [11, 12], [13, 14], [15,16]])\n",
    "\n",
    "com = np.concatenate((arr, arr1))\n",
    "rom = np.concatenate((com, arr2), axis=1)\n",
    "\n",
    "print(f'Arrays to concatenates\\n {arr}, {arr1}\\nConcatenates the arrays into \\n{com}')\n",
    "print(f'Concatenates the Three arrays into \\n{rom}')\n",
    "\n",
    "#   NumPy Wrapper functions\n",
    "r = arr.reshape(2,-1)\n",
    "r1 = np.reshape(arr,(2,-1))\n",
    "print(f'{r}\\n{r1}')"
   ]
  },
  {
   "cell_type": "markdown",
   "metadata": {},
   "source": []
  }
 ],
 "metadata": {
  "kernelspec": {
   "display_name": "Python 3.10.5 ('env': venv)",
   "language": "python",
   "name": "python3"
  },
  "language_info": {
   "codemirror_mode": {
    "name": "ipython",
    "version": 3
   },
   "file_extension": ".py",
   "mimetype": "text/x-python",
   "name": "python",
   "nbconvert_exporter": "python",
   "pygments_lexer": "ipython3",
   "version": "3.10.5"
  },
  "orig_nbformat": 4,
  "vscode": {
   "interpreter": {
    "hash": "f35321be4ae93f7993f27fb53942f0774bccc4d7e9455219ca66c5c9df461594"
   }
  }
 },
 "nbformat": 4,
 "nbformat_minor": 2
}
