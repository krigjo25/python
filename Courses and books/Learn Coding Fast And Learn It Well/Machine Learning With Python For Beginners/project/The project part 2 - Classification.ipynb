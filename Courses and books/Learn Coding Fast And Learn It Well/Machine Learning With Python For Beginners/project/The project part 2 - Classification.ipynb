{
 "cells": [
  {
   "cell_type": "markdown",
   "metadata": {},
   "source": [
    "#   The project part 2 - Classification"
   ]
  }
 ],
 "metadata": {
  "language_info": {
   "name": "python"
  },
  "orig_nbformat": 4
 },
 "nbformat": 4,
 "nbformat_minor": 2
}
