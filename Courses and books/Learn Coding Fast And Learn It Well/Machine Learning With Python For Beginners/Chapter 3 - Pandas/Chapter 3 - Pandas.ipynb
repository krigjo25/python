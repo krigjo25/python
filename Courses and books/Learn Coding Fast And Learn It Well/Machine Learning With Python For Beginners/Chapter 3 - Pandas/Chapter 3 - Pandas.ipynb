{
 "cells": [
  {
   "cell_type": "markdown",
   "metadata": {},
   "source": [
    "# Pandas Notebook\n"
   ]
  },
  {
   "cell_type": "markdown",
   "metadata": {},
   "source": [
    "## What is pandas?\n",
    "\n",
    "Pandas is an open-source library built on top of NumPy. Which provide us new data structures ( Series & Dataframe).\n",
    "\n",
    "Pandas is designed to work with tabular data.\n",
    "\n",
    "Pandas Series is a 1D data structure, similar to 1D NumPy arrays or Python list. The main difference is its label\n",
    "\n",
    "Pandas DataFrame is a 2D labeled data structure"
   ]
  },
  {
   "cell_type": "code",
   "execution_count": 13,
   "metadata": {},
   "outputs": [],
   "source": [
    "#  Chapter 3, Pandas library.\n",
    "# 3.2 importing pandas\n",
    "import numpy as np\n",
    "import pandas as pd"
   ]
  },
  {
   "cell_type": "markdown",
   "metadata": {},
   "source": [
    "# 3.3 Pandas Series\n",
    "\n",
    "Create a pandas Series, we use the **Series()** constructor.\n",
    "We can pass array like structures like Python lists, Python dictionaries and NumPy arrays.\n",
    "\n",
    "When we print the value, we get two columns of values. the column on the left, is known as the series index.\n",
    "\n",
    "The individual values in the index are known as labels. \n"
   ]
  },
  {
   "cell_type": "code",
   "execution_count": 3,
   "metadata": {},
   "outputs": [
    {
     "name": "stdout",
     "output_type": "stream",
     "text": [
      "1D List:\n",
      "[1, 2, 3, 4, 5]\n",
      "\n",
      " Series module:\n",
      "0    1\n",
      "1    2\n",
      "2    3\n",
      "3    4\n",
      "4    5\n",
      "dtype: int64\n",
      "\n",
      "A    1\n",
      "B    2\n",
      "C    3\n",
      "D    4\n",
      "E    5\n",
      "dtype: int64\n"
     ]
    }
   ],
   "source": [
    "\n",
    "# 3.3 Pandas Series\n",
    "\n",
    "#   Initializing a 1D list\n",
    "l1 = [1, 2, 3, 4, 5]\n",
    "\n",
    "#   Initializing 2D list\n",
    "l2 = [[1, 2, 3], [4, 5, 6]]\n",
    "l3 = [[1, 2, 3, 4, 5],[10, 20, 30, 40, 50]]\n",
    "\n",
    "# Creating a dictionary to label the rows\n",
    "d1 = {\n",
    "        'A':[1, 2, 3],\n",
    "        'B':[4, 5, 6],\n",
    "}\n",
    "\n",
    "#   Using the series module. With normal indexing\n",
    "#   While s2 using Characters\n",
    "s1 = pd.Series(l1)\n",
    "\n",
    "s2 = pd.Series(l1, index=['A','B','C','D','E'])\n",
    "print(f'1D List:\\n{l1}\\n\\n Series module:\\n{s1}\\n\\n{s2}')"
   ]
  },
  {
   "cell_type": "markdown",
   "metadata": {},
   "source": [
    "## 3.4 Pandas Dataframes\n",
    "\n",
    "To create a dataframe, we use **DataFrame()** constructor its similar to the **Series()** constructor.  Array-like structors like Python lists, dictionaries and NumPy arrays can be passed to the constructor\n",
    "\n",
    "When we use a 2D list to create a DataFrame, the nested list in the list forms the rows of the DataFrame. In contrast, when we use a dictionary of lists, the lists in the dictionary form the columns.\n",
    "\n",
    "DataFrame is a 2D data structure that comes with rows and column labels. The labels of a DataFrame can be specified when creating it. To do that  we're using index for row labels, and column for column labels."
   ]
  },
  {
   "cell_type": "code",
   "execution_count": 2,
   "metadata": {},
   "outputs": [
    {
     "ename": "ValueError",
     "evalue": "5 columns passed, passed data had 3 columns",
     "output_type": "error",
     "traceback": [
      "\u001b[1;31m---------------------------------------------------------------------------\u001b[0m",
      "\u001b[1;31mAssertionError\u001b[0m                            Traceback (most recent call last)",
      "File \u001b[1;32mc:\\Users\\krigj_b\\Documents\\Educational\\Python\\MachineLearning\\env\\lib\\site-packages\\pandas\\core\\internals\\construction.py:982\u001b[0m, in \u001b[0;36m_finalize_columns_and_data\u001b[1;34m(content, columns, dtype)\u001b[0m\n\u001b[0;32m    981\u001b[0m \u001b[39mtry\u001b[39;00m:\n\u001b[1;32m--> 982\u001b[0m     columns \u001b[39m=\u001b[39m _validate_or_indexify_columns(contents, columns)\n\u001b[0;32m    983\u001b[0m \u001b[39mexcept\u001b[39;00m \u001b[39mAssertionError\u001b[39;00m \u001b[39mas\u001b[39;00m err:\n\u001b[0;32m    984\u001b[0m     \u001b[39m# GH#26429 do not raise user-facing AssertionError\u001b[39;00m\n",
      "File \u001b[1;32mc:\\Users\\krigj_b\\Documents\\Educational\\Python\\MachineLearning\\env\\lib\\site-packages\\pandas\\core\\internals\\construction.py:1030\u001b[0m, in \u001b[0;36m_validate_or_indexify_columns\u001b[1;34m(content, columns)\u001b[0m\n\u001b[0;32m   1028\u001b[0m \u001b[39mif\u001b[39;00m \u001b[39mnot\u001b[39;00m is_mi_list \u001b[39mand\u001b[39;00m \u001b[39mlen\u001b[39m(columns) \u001b[39m!=\u001b[39m \u001b[39mlen\u001b[39m(content):  \u001b[39m# pragma: no cover\u001b[39;00m\n\u001b[0;32m   1029\u001b[0m     \u001b[39m# caller's responsibility to check for this...\u001b[39;00m\n\u001b[1;32m-> 1030\u001b[0m     \u001b[39mraise\u001b[39;00m \u001b[39mAssertionError\u001b[39;00m(\n\u001b[0;32m   1031\u001b[0m         \u001b[39mf\u001b[39m\u001b[39m\"\u001b[39m\u001b[39m{\u001b[39;00m\u001b[39mlen\u001b[39m(columns)\u001b[39m}\u001b[39;00m\u001b[39m columns passed, passed data had \u001b[39m\u001b[39m\"\u001b[39m\n\u001b[0;32m   1032\u001b[0m         \u001b[39mf\u001b[39m\u001b[39m\"\u001b[39m\u001b[39m{\u001b[39;00m\u001b[39mlen\u001b[39m(content)\u001b[39m}\u001b[39;00m\u001b[39m columns\u001b[39m\u001b[39m\"\u001b[39m\n\u001b[0;32m   1033\u001b[0m     )\n\u001b[0;32m   1034\u001b[0m \u001b[39melif\u001b[39;00m is_mi_list:\n\u001b[0;32m   1035\u001b[0m \n\u001b[0;32m   1036\u001b[0m     \u001b[39m# check if nested list column, length of each sub-list should be equal\u001b[39;00m\n",
      "\u001b[1;31mAssertionError\u001b[0m: 5 columns passed, passed data had 3 columns",
      "\nThe above exception was the direct cause of the following exception:\n",
      "\u001b[1;31mValueError\u001b[0m                                Traceback (most recent call last)",
      "\u001b[1;32mc:\\Users\\krigj_b\\Documents\\Educational\\Python\\MachineLearning\\learncodingfast\\3.0 Pandas.ipynb Cell 7'\u001b[0m in \u001b[0;36m<cell line: 13>\u001b[1;34m()\u001b[0m\n\u001b[0;32m      <a href='vscode-notebook-cell:/c%3A/Users/krigj_b/Documents/Educational/Python/MachineLearning/learncodingfast/3.0%20Pandas.ipynb#ch0000006?line=7'>8</a>\u001b[0m d1 \u001b[39m=\u001b[39m {\n\u001b[0;32m      <a href='vscode-notebook-cell:/c%3A/Users/krigj_b/Documents/Educational/Python/MachineLearning/learncodingfast/3.0%20Pandas.ipynb#ch0000006?line=8'>9</a>\u001b[0m         \u001b[39m'\u001b[39m\u001b[39mA\u001b[39m\u001b[39m'\u001b[39m:[\u001b[39m1\u001b[39m, \u001b[39m2\u001b[39m, \u001b[39m3\u001b[39m],\n\u001b[0;32m     <a href='vscode-notebook-cell:/c%3A/Users/krigj_b/Documents/Educational/Python/MachineLearning/learncodingfast/3.0%20Pandas.ipynb#ch0000006?line=9'>10</a>\u001b[0m         \u001b[39m'\u001b[39m\u001b[39mB\u001b[39m\u001b[39m'\u001b[39m:[\u001b[39m4\u001b[39m, \u001b[39m5\u001b[39m, \u001b[39m6\u001b[39m],\n\u001b[0;32m     <a href='vscode-notebook-cell:/c%3A/Users/krigj_b/Documents/Educational/Python/MachineLearning/learncodingfast/3.0%20Pandas.ipynb#ch0000006?line=10'>11</a>\u001b[0m }\n\u001b[0;32m     <a href='vscode-notebook-cell:/c%3A/Users/krigj_b/Documents/Educational/Python/MachineLearning/learncodingfast/3.0%20Pandas.ipynb#ch0000006?line=11'>12</a>\u001b[0m \u001b[39m# Row labeling & column labeling\u001b[39;00m\n\u001b[1;32m---> <a href='vscode-notebook-cell:/c%3A/Users/krigj_b/Documents/Educational/Python/MachineLearning/learncodingfast/3.0%20Pandas.ipynb#ch0000006?line=12'>13</a>\u001b[0m df \u001b[39m=\u001b[39m pd\u001b[39m.\u001b[39;49mDataFrame(l, index\u001b[39m=\u001b[39;49m[\u001b[39m'\u001b[39;49m\u001b[39mA\u001b[39;49m\u001b[39m'\u001b[39;49m,\u001b[39m'\u001b[39;49m\u001b[39mB\u001b[39;49m\u001b[39m'\u001b[39;49m], columns\u001b[39m=\u001b[39;49m[\u001b[39m'\u001b[39;49m\u001b[39m1st\u001b[39;49m\u001b[39m'\u001b[39;49m, \u001b[39m'\u001b[39;49m\u001b[39m2nd\u001b[39;49m\u001b[39m'\u001b[39;49m,\u001b[39m'\u001b[39;49m\u001b[39m3rd\u001b[39;49m\u001b[39m'\u001b[39;49m, \u001b[39m'\u001b[39;49m\u001b[39m4th\u001b[39;49m\u001b[39m'\u001b[39;49m, \u001b[39m'\u001b[39;49m\u001b[39m5th\u001b[39;49m\u001b[39m'\u001b[39;49m])\n\u001b[0;32m     <a href='vscode-notebook-cell:/c%3A/Users/krigj_b/Documents/Educational/Python/MachineLearning/learncodingfast/3.0%20Pandas.ipynb#ch0000006?line=13'>14</a>\u001b[0m \u001b[39mprint\u001b[39m(\u001b[39mf\u001b[39m\u001b[39m'\u001b[39m\u001b[39m A Dataframe has to be 2D list or a dictionary:\u001b[39m\u001b[39m\\n\u001b[39;00m\u001b[39m{\u001b[39;00mpd\u001b[39m.\u001b[39mDataFrame(l1)\u001b[39m}\u001b[39;00m\u001b[39m\\n\u001b[39;00m\u001b[39m\\n\u001b[39;00m\u001b[39m{\u001b[39;00mdf\u001b[39m}\u001b[39;00m\u001b[39m\\n\u001b[39;00m\u001b[39m\\n\u001b[39;00m\u001b[39m{\u001b[39;00mpd\u001b[39m.\u001b[39mDataFrame(d1)\u001b[39m}\u001b[39;00m\u001b[39m\\n\u001b[39;00m\u001b[39m'\u001b[39m)\n",
      "File \u001b[1;32mc:\\Users\\krigj_b\\Documents\\Educational\\Python\\MachineLearning\\env\\lib\\site-packages\\pandas\\core\\frame.py:721\u001b[0m, in \u001b[0;36mDataFrame.__init__\u001b[1;34m(self, data, index, columns, dtype, copy)\u001b[0m\n\u001b[0;32m    716\u001b[0m     \u001b[39mif\u001b[39;00m columns \u001b[39mis\u001b[39;00m \u001b[39mnot\u001b[39;00m \u001b[39mNone\u001b[39;00m:\n\u001b[0;32m    717\u001b[0m         \u001b[39m# error: Argument 1 to \"ensure_index\" has incompatible type\u001b[39;00m\n\u001b[0;32m    718\u001b[0m         \u001b[39m# \"Collection[Any]\"; expected \"Union[Union[Union[ExtensionArray,\u001b[39;00m\n\u001b[0;32m    719\u001b[0m         \u001b[39m# ndarray], Index, Series], Sequence[Any]]\"\u001b[39;00m\n\u001b[0;32m    720\u001b[0m         columns \u001b[39m=\u001b[39m ensure_index(columns)  \u001b[39m# type: ignore[arg-type]\u001b[39;00m\n\u001b[1;32m--> 721\u001b[0m     arrays, columns, index \u001b[39m=\u001b[39m nested_data_to_arrays(\n\u001b[0;32m    722\u001b[0m         \u001b[39m# error: Argument 3 to \"nested_data_to_arrays\" has incompatible\u001b[39;49;00m\n\u001b[0;32m    723\u001b[0m         \u001b[39m# type \"Optional[Collection[Any]]\"; expected \"Optional[Index]\"\u001b[39;49;00m\n\u001b[0;32m    724\u001b[0m         data,\n\u001b[0;32m    725\u001b[0m         columns,\n\u001b[0;32m    726\u001b[0m         index,  \u001b[39m# type: ignore[arg-type]\u001b[39;49;00m\n\u001b[0;32m    727\u001b[0m         dtype,\n\u001b[0;32m    728\u001b[0m     )\n\u001b[0;32m    729\u001b[0m     mgr \u001b[39m=\u001b[39m arrays_to_mgr(\n\u001b[0;32m    730\u001b[0m         arrays,\n\u001b[0;32m    731\u001b[0m         columns,\n\u001b[1;32m   (...)\u001b[0m\n\u001b[0;32m    734\u001b[0m         typ\u001b[39m=\u001b[39mmanager,\n\u001b[0;32m    735\u001b[0m     )\n\u001b[0;32m    736\u001b[0m \u001b[39melse\u001b[39;00m:\n",
      "File \u001b[1;32mc:\\Users\\krigj_b\\Documents\\Educational\\Python\\MachineLearning\\env\\lib\\site-packages\\pandas\\core\\internals\\construction.py:519\u001b[0m, in \u001b[0;36mnested_data_to_arrays\u001b[1;34m(data, columns, index, dtype)\u001b[0m\n\u001b[0;32m    516\u001b[0m \u001b[39mif\u001b[39;00m is_named_tuple(data[\u001b[39m0\u001b[39m]) \u001b[39mand\u001b[39;00m columns \u001b[39mis\u001b[39;00m \u001b[39mNone\u001b[39;00m:\n\u001b[0;32m    517\u001b[0m     columns \u001b[39m=\u001b[39m ensure_index(data[\u001b[39m0\u001b[39m]\u001b[39m.\u001b[39m_fields)\n\u001b[1;32m--> 519\u001b[0m arrays, columns \u001b[39m=\u001b[39m to_arrays(data, columns, dtype\u001b[39m=\u001b[39;49mdtype)\n\u001b[0;32m    520\u001b[0m columns \u001b[39m=\u001b[39m ensure_index(columns)\n\u001b[0;32m    522\u001b[0m \u001b[39mif\u001b[39;00m index \u001b[39mis\u001b[39;00m \u001b[39mNone\u001b[39;00m:\n",
      "File \u001b[1;32mc:\\Users\\krigj_b\\Documents\\Educational\\Python\\MachineLearning\\env\\lib\\site-packages\\pandas\\core\\internals\\construction.py:883\u001b[0m, in \u001b[0;36mto_arrays\u001b[1;34m(data, columns, dtype)\u001b[0m\n\u001b[0;32m    880\u001b[0m     data \u001b[39m=\u001b[39m [\u001b[39mtuple\u001b[39m(x) \u001b[39mfor\u001b[39;00m x \u001b[39min\u001b[39;00m data]\n\u001b[0;32m    881\u001b[0m     arr \u001b[39m=\u001b[39m _list_to_arrays(data)\n\u001b[1;32m--> 883\u001b[0m content, columns \u001b[39m=\u001b[39m _finalize_columns_and_data(arr, columns, dtype)\n\u001b[0;32m    884\u001b[0m \u001b[39mreturn\u001b[39;00m content, columns\n",
      "File \u001b[1;32mc:\\Users\\krigj_b\\Documents\\Educational\\Python\\MachineLearning\\env\\lib\\site-packages\\pandas\\core\\internals\\construction.py:985\u001b[0m, in \u001b[0;36m_finalize_columns_and_data\u001b[1;34m(content, columns, dtype)\u001b[0m\n\u001b[0;32m    982\u001b[0m     columns \u001b[39m=\u001b[39m _validate_or_indexify_columns(contents, columns)\n\u001b[0;32m    983\u001b[0m \u001b[39mexcept\u001b[39;00m \u001b[39mAssertionError\u001b[39;00m \u001b[39mas\u001b[39;00m err:\n\u001b[0;32m    984\u001b[0m     \u001b[39m# GH#26429 do not raise user-facing AssertionError\u001b[39;00m\n\u001b[1;32m--> 985\u001b[0m     \u001b[39mraise\u001b[39;00m \u001b[39mValueError\u001b[39;00m(err) \u001b[39mfrom\u001b[39;00m \u001b[39merr\u001b[39;00m\n\u001b[0;32m    987\u001b[0m \u001b[39mif\u001b[39;00m \u001b[39mlen\u001b[39m(contents) \u001b[39mand\u001b[39;00m contents[\u001b[39m0\u001b[39m]\u001b[39m.\u001b[39mdtype \u001b[39m==\u001b[39m np\u001b[39m.\u001b[39mobject_:\n\u001b[0;32m    988\u001b[0m     contents \u001b[39m=\u001b[39m _convert_object_array(contents, dtype\u001b[39m=\u001b[39mdtype)\n",
      "\u001b[1;31mValueError\u001b[0m: 5 columns passed, passed data had 3 columns"
     ]
    }
   ],
   "source": [
    "import pandas as pd\n",
    "#   3.4 Pandas Dataframes\n",
    "#   Initializing 2D list\n",
    "l = [[1, 2, 3], [4, 5, 6]]\n",
    "l1 = [[1, 2, 3, 4, 5],[10, 20, 30, 40, 50]]\n",
    "\n",
    "# Creating a dictionary to label the rows\n",
    "d1 = {\n",
    "        'A':[1, 2, 3],\n",
    "        'B':[4, 5, 6],\n",
    "}\n",
    "# Row labeling & column labeling\n",
    "df = pd.DataFrame(l, index=['A','B'], columns=['1st', '2nd','3rd', '4th', '5th'])\n",
    "print(f' A Dataframe has to be 2D list or a dictionary:\\n{pd.DataFrame(l1)}\\n\\n{df}\\n\\n{pd.DataFrame(d1)}\\n')"
   ]
  },
  {
   "cell_type": "markdown",
   "metadata": {},
   "source": [
    "##  3.5 Pandas CSV Reader\n",
    "To read a CSV file we're using read_csv() method in pandas. \n",
    "The method accepts the file path as an argument. The method reads the file into a Dataframe.\n",
    "\n"
   ]
  },
  {
   "cell_type": "code",
   "execution_count": 3,
   "metadata": {},
   "outputs": [],
   "source": [
    "\n",
    "#   Importing pandas\n",
    "import pandas as pd \n",
    "\n",
    "#   3.5 Pandas CSV Reader\n",
    "excelData= 'pandasDemo.csv'\n",
    "readCSV = pd.read_csv(f'resources/Datasets/{excelData}')"
   ]
  },
  {
   "cell_type": "markdown",
   "metadata": {},
   "source": [
    "# 3.6 Exploring data in a Dataframe\n",
    "By using **head()** method we're able to take a quick look at the data.\n",
    "The method prints out 5 rows, but if we'd like to view more we can type in an integer. Some descriptive statistics can also be generated for the numerical columns in our dataset by using the method **describe()**."
   ]
  },
  {
   "cell_type": "code",
   "execution_count": 4,
   "metadata": {},
   "outputs": [
    {
     "name": "stdout",
     "output_type": "stream",
     "text": [
      "  ModuleID Instructor      TA  Enrolment  Rating\n",
      "0    CS101      Aaron    Vera       38.0     9.0\n",
      "1    CS101       Beth   Carol        NaN     9.0\n",
      "2    CS101     Calvin    Andy       28.0     7.0\n",
      "3    CS102        Dan  Zidane       39.0     6.0\n",
      "4    CS102      Aaron    Andy       32.0     NaN\n",
      "5    CS102       Beth    Vera        NaN     7.0\n",
      "\n",
      "       Enrolment    Rating\n",
      "count   9.000000  8.000000\n",
      "mean   34.000000  7.875000\n",
      "std     4.873397  1.125992\n",
      "min    28.000000  6.000000\n",
      "25%    30.000000  7.000000\n",
      "50%    32.000000  8.000000\n",
      "75%    39.000000  9.000000\n",
      "max    40.000000  9.000000\n"
     ]
    }
   ],
   "source": [
    "\n",
    "print(f'{readCSV.head(6)}\\n\\n{readCSV.describe()}')"
   ]
  },
  {
   "cell_type": "markdown",
   "metadata": {},
   "source": [
    "## 3.7   Changing labels of row(s) and column(s)\n",
    "\n",
    "rows an column labels can be renamed by using the method **rename()**. To do so  we pass the index and column parameters to the method.\n",
    "By Default the **rename()** or most of the other methods does not change the DataFrame directly. Instead it returns a new DataFrame. \"The change is not in place\"\n",
    "\n",
    "If we want the readCSV to have the new labels, we need to assign the returned DataFrame back to **readCSV**."
   ]
  },
  {
   "cell_type": "code",
   "execution_count": 6,
   "metadata": {},
   "outputs": [
    {
     "name": "stdout",
     "output_type": "stream",
     "text": [
      "         ModuleID Instructor Assistant  Enrolment  Rating\n",
      "Row Zero    CS101      Aaron      Vera       38.0     9.0\n",
      "1           CS101       Beth     Carol        NaN     9.0\n",
      "2           CS101     Calvin      Andy       28.0     7.0\n",
      "3           CS102        Dan    Zidane       39.0     6.0\n",
      "4           CS102      Aaron      Andy       32.0     NaN\n"
     ]
    }
   ],
   "source": [
    "readCSV=readCSV.rename(columns ={'TA':'Assistant'}, index={0:'Row Zero'})\n",
    "print(readCSV.head())"
   ]
  },
  {
   "cell_type": "markdown",
   "metadata": {},
   "source": [
    "## 3.8 Selecting Data from a Dataframe\n",
    "\n",
    "### 3.8.1 Selecting Columns\n",
    "\n",
    "One or more columns from the DataFrame can be selected and assigned to a variable. For selection we use the label as a index\n",
    "\n",
    "### 3.8.2 Selecting Rows\n",
    "\n",
    "There is two ways to select rows the first is **Using boolean arrays**, & non Boolean arrays.\n",
    "\n",
    "\n",
    "We can use more than one condition to select rows, they can be combined by using the operator '&' or '|'\n",
    "\n",
    "## iloc[] & loc[]\n",
    "\n",
    "\n",
    "Can be selected as a Dataframe or a Series. By using the row id and its label, the data is selected as a Pandas Series. By selecting the row id or label within a list its selected as a Dataframe.\n",
    "\n",
    "**iloc** is used to select by position (row number)\n",
    "\n",
    "**loc** is used to select by row label\n",
    "\n",
    "### 3.8.3 Selecting Rows & Columns\n",
    "\n",
    "Rows and columns can be selected by specify the row(s), followed by a comma and specify the column(s).\n",
    "Selecting all rows, and x columns we use the slice notation [:,2] its selected as a Series. To select it as a Dataframe [:,[2]]\n",
    "\n",
    "\n"
   ]
  },
  {
   "cell_type": "code",
   "execution_count": 9,
   "metadata": {},
   "outputs": [
    {
     "name": "stdout",
     "output_type": "stream",
     "text": [
      "Selecting columns :\n",
      "         ModuleID Instructor\n",
      "Row Zero    CS101      Aaron\n",
      "1           CS101       Beth\n",
      "2           CS101     Calvin\n",
      "3           CS102        Dan\n",
      "4           CS102      Aaron\n",
      "5           CS102       Beth\n",
      "6           CS103      Peter\n",
      "7           CS103        Eve\n",
      "8           CS103       Gail\n",
      "9           CS104      Aaron\n",
      "10          CS104        Dan\n",
      " <class 'pandas.core.frame.DataFrame'>\n",
      "\n",
      "\n",
      "Prinitng ModuleID CS101 & CS103\n",
      "          ModuleID Instructor Assistant  Enrolment  Rating\n",
      "Row Zero    CS101      Aaron      Vera       38.0     9.0\n",
      "1           CS101       Beth     Carol        NaN     9.0\n",
      "2           CS101     Calvin      Andy       28.0     7.0\n",
      "6           CS103      Peter       Tim       40.0     8.0\n",
      "7           CS103        Eve     Faith       39.0     9.0\n",
      "8           CS103       Gail    Wesley       30.0     NaN\n",
      "\n",
      "          ModuleID Instructor Assistant  Enrolment  Rating\n",
      "Row Zero    CS101      Aaron      Vera       38.0     9.0\n",
      "1           CS101       Beth     Carol        NaN     9.0\n",
      "2           CS101     Calvin      Andy       28.0     7.0\n",
      "6           CS103      Peter       Tim       40.0     8.0\n",
      "7           CS103        Eve     Faith       39.0     9.0\n",
      "8           CS103       Gail    Wesley       30.0     NaN\n",
      "\n",
      "\n",
      "Selecting filtered rows :\n",
      "ModuleID      CS101\n",
      "Instructor    Aaron\n",
      "Assistant      Vera\n",
      "Enrolment      38.0\n",
      "Rating          9.0\n",
      "Name: Row Zero, dtype: object\n",
      " <class 'pandas.core.series.Series'>\n",
      "\n",
      "\n",
      "         ModuleID Instructor\n",
      "Row Zero    CS101      Aaron\n",
      "1           CS101       Beth\n",
      "2           CS101     Calvin\n",
      "3           CS102        Dan\n",
      "4           CS102      Aaron,\n",
      "\n",
      " Row Zero      Vera\n",
      "1            Carol\n",
      "2             Andy\n",
      "3           Zidane\n",
      "4             Andy\n",
      "5             Vera\n",
      "6              Tim\n",
      "7            Faith\n",
      "8           Wesley\n",
      "9             Vera\n",
      "10             Tim\n",
      "Name: Assistant, dtype: object\n"
     ]
    }
   ],
   "source": [
    "\n",
    "#   3.8 Seclting Data from a Dataframe\n",
    "\n",
    "#   3.8.1 Selecting Columns\n",
    "x= readCSV[['ModuleID', 'Instructor']]\n",
    "print(f'Selecting columns :\\n{x}\\n {type(x)}\\n\\n')\n",
    "\n",
    "#   3.8.2 Selecting Rows\n",
    "#   Find the true rows, then add the variable as an array\n",
    "#   If they're True they have a value \n",
    "a = readCSV['ModuleID'] == 'CS101' \n",
    "a1 = readCSV['ModuleID'] == 'CS103'\n",
    "\n",
    "x = readCSV[a | a1]\n",
    "\n",
    "#   Not checking if they're boolean\n",
    "x1 = readCSV[(readCSV['ModuleID'] == 'CS101') | (readCSV['ModuleID'] == 'CS103')]\n",
    "\n",
    "print(f'Prinitng ModuleID CS101 & CS103\\n {x}\\n\\n {x1}\\n\\n')\n",
    "\n",
    "#   Selecting rows by id\n",
    "x = readCSV.iloc[0]\n",
    "x1 = readCSV.loc['Row Zero']\n",
    "print(f'Selecting filtered rows :\\n{x}\\n {type(x)}\\n\\n')\n",
    "\n",
    "#   Selecting rows and columns\n",
    "print(f'{readCSV.iloc[0:5,0:2]},\\n\\n {readCSV.iloc[:,2]}')"
   ]
  },
  {
   "cell_type": "markdown",
   "metadata": {},
   "source": [
    "# 3.9   Updating a DataFrame\n",
    "\n",
    "A DataFrame can be updated by adding or modifying a row / column.\n",
    "\n"
   ]
  },
  {
   "cell_type": "code",
   "execution_count": 11,
   "metadata": {},
   "outputs": [
    {
     "name": "stdout",
     "output_type": "stream",
     "text": [
      "         ModuleID Instructor Assistant  Enrolment  Rating  AvrageGPA\n",
      "1           CS101       Beth     Carol        NaN     9.0        4.6\n",
      "Row Zero    CS101      Aaron      Vera       38.0     9.0        4.4\n",
      "7           CS103        Eve     Faith       39.0     9.0        4.1\n",
      "9           CS104      Aaron      Vera       30.0     8.0        4.8\n",
      "6           CS103      Peter       Tim       40.0     8.0        4.0\n"
     ]
    }
   ],
   "source": [
    "#   3.9 Updating dataframes\n",
    "\n",
    "#  Adding a column with values\n",
    "readCSV['AvrageGPA'] = [44, 46, 47, 41, 45, 49, 40, 41, 45, 48, 42 ]\n",
    "readCSV['AvrageGPA'] = readCSV['AvrageGPA'] * 0.1\n",
    "readCSV = readCSV.sort_values(['Rating','AvrageGPA'], ascending= False)\n",
    "\n",
    "#   Modifying a column\n",
    "\n",
    "print(readCSV.head(5))"
   ]
  },
  {
   "cell_type": "markdown",
   "metadata": {},
   "source": [
    "#   3.10    Usefull methods in pandas\n",
    "\n",
    "**sort_values()**, sorts a DataFrame in ascending order, by default. by passing ascending = False to the method, the function sorts the Dataframe by Descending. It doesn't modify the original DataFrame, it just returns a DataFrame with the selected values.\n",
    "\n",
    "**isnull()**, returns a DataFrame where missing values in the original DataFrame get mapped into True, while other values get mapped to False.\n",
    "\n",
    "Missing values includes (None, Nan, nan & NAN values). Empty striings and the number 0 are not considered as missing values.\n",
    "\n",
    "We can find the total missing values by using isnull().sum()\n",
    "\n",
    "**dropna()**, as the MLA does not work well with missing values. we need a function to handle those values. They can be deleted with the method. It deletes rows with missing values. if we'd like to delete columns we pass through axis=1. The method does not delete the original dataframe, it returns a new DataFrame, which require us to assign the result into a variable \n",
    "\n",
    "**to_numpy()**, this method converts a pandas Series or DataFrame into a numpy array\n",
    "\n",
    "**corr()** method gives us the pairwise correlation coefficients of columns in a DataFrame. The correlation is a statistical measure that indicates the extent to which two variables are related.\n",
    "\n",
    "If two variables move in the same direction they have a positive correlation in contrast. If they move in the opposite direction its a negative correlation\n",
    "\n",
    "A perfect positive correlation occurs when an increase in one variable coincides with an increase of a fixed amount in the other.\n",
    "\n",
    "corr() can be used to check wheter columns can be strongly correlated.\n",
    "e.g \n",
    "If the column A increases by 3 units, and column B increases by 1 unit"
   ]
  },
  {
   "cell_type": "code",
   "execution_count": 16,
   "metadata": {},
   "outputs": [
    {
     "name": "stdout",
     "output_type": "stream",
     "text": [
      "         ModuleID Instructor Assistant  Enrolment  Rating  AvrageGPA\n",
      "1           CS101       Beth     Carol        NaN     9.0        4.6\n",
      "Row Zero    CS101      Aaron      Vera       38.0     9.0        4.4\n",
      "7           CS103        Eve     Faith       39.0     9.0        4.1\n",
      "9           CS104      Aaron      Vera       30.0     8.0        4.8\n",
      "6           CS103      Peter       Tim       40.0     8.0        4.0\n",
      "\n",
      "If a value is null, it returns true\n",
      "       A\n",
      "0   True\n",
      "1   True\n",
      "2  False\n",
      "3  False\n",
      "4  False\n",
      " ModuleID      0\n",
      "Instructor    0\n",
      "Assistant     0\n",
      "Enrolment     2\n",
      "Rating        3\n",
      "AvrageGPA     0\n",
      "dtype: int64\n",
      "\n",
      "Type :\n",
      "<class 'pandas.core.frame.DataFrame'>\n",
      "\n",
      "Dataframe:\n",
      "   A  B\n",
      "0  1  2\n",
      "1  3  4\n",
      "\n",
      " type:\n",
      "<class 'numpy.ndarray'>\n",
      " Nympy Array:\n",
      "[[1 2]\n",
      " [3 4]]\n",
      "\n",
      "          A         B         C\n",
      "A  1.000000  1.000000 -0.051988\n",
      "B  1.000000  1.000000 -0.051988\n",
      "C -0.051988 -0.051988  1.000000\n"
     ]
    }
   ],
   "source": [
    "#   3.10 usefull methods in Pandas library\n",
    "#   Soriting values Decending\n",
    "readCSV = readCSV.sort_values(['Rating','AvrageGPA'], ascending= False)\n",
    "\n",
    "#   Sorting values using the columns, ascending or descending\n",
    "readCSV = readCSV.sort_values(['Rating','AvrageGPA'], ascending= False)\n",
    "print(readCSV.head(5))\n",
    "\n",
    "#   isnull() function\n",
    "#   If something is missing it returns true isnull is a boolean function\n",
    "isnull = pd.DataFrame([[None], [np.NaN], [0], [''], ['string']], columns = ['A'])\n",
    "delrow = readCSV.dropna()\n",
    "dropcol = readCSV.dropna(axis=1)\n",
    "print(f'\\nIf a value is null, it returns true\\n{isnull.isnull()}\\n {readCSV.isnull().sum()}\\n')\n",
    "\n",
    "#   to_numpy()\n",
    "toNumpy = pd.DataFrame([[1, 2], [3, 4]], columns= ['A', 'B'])\n",
    "array = toNumpy.to_numpy()\n",
    "print (f'Type :\\n{type(toNumpy)}\\n\\nDataframe:\\n{toNumpy}\\n\\n type:\\n{type(array)}\\n Nympy Array:\\n{array}\\n')\n",
    "\n",
    "\n",
    "# corr()\n",
    "# A & B has an perfect correlation\n",
    "stats = pd.DataFrame({'A':[1, 4, 7, 10], 'B':[1, 2, 3, 4], 'C':[2, 12, 1, 5]})\n",
    "print(stats.corr())"
   ]
  }
 ],
 "metadata": {
  "kernelspec": {
   "display_name": "Python 3.10.5 ('env': venv)",
   "language": "python",
   "name": "python3"
  },
  "language_info": {
   "codemirror_mode": {
    "name": "ipython",
    "version": 3
   },
   "file_extension": ".py",
   "mimetype": "text/x-python",
   "name": "python",
   "nbconvert_exporter": "python",
   "pygments_lexer": "ipython3",
   "version": "3.10.5"
  },
  "orig_nbformat": 4,
  "vscode": {
   "interpreter": {
    "hash": "f35321be4ae93f7993f27fb53942f0774bccc4d7e9455219ca66c5c9df461594"
   }
  }
 },
 "nbformat": 4,
 "nbformat_minor": 2
}
