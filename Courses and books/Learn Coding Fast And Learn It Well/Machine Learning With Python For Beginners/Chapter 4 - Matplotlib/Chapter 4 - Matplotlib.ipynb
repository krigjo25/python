{
 "cells": [
  {
   "cell_type": "markdown",
   "metadata": {},
   "source": [
    "#   Chapter 4 - Matplotlib\n",
    "\n",
    "##  What is Matplotlib?\n",
    "\n",
    "its a free and open-source plotting library. Its one of the most popular libraries for data visualization and provides us with two interfaces for plotting graphs\n",
    "\n",
    "-   The object-oriented (OO) an pyplot interface\n",
    "\n",
    "The **OO** interface allow us to work directly with Matplotlib's objects. Such as Figures and Axes objects and gives us a better control over the designs of our charts. \n",
    "\n",
    "**The pyplot interface** is designed to emulate a popular plotting software called MATLAB and is easier to use. The interface is more popular to use.\n",
    "\n"
   ]
  },
  {
   "cell_type": "markdown",
   "metadata": {},
   "source": [
    "##  4.2 Using matplotlib.pyplot\n",
    "\n",
    "To use the interface we have to import the module\n",
    "\n",
    "The backend is responsible for the actual rendering of the chart.\n",
    "\n",
    "the libraryy allow us to specify the structure of our chart. \n",
    "\n",
    "(plot a scatter plot or a bar chart). What data to use, the title and so on, but the library does not generate the chart itself.\n",
    "\n",
    "To generate the chart, it relies on a user- specified backend. `%matplotlib inline` we specify the jupyter's own backend to generate the chart."
   ]
  },
  {
   "cell_type": "code",
   "execution_count": 1,
   "metadata": {},
   "outputs": [
    {
     "data": {
      "image/png": "[encoded data removed]",
      "text/plain": [
       "<Figure size 432x288 with 1 Axes>"
      ]
     },
     "metadata": {
      "needs_background": "light"
     },
     "output_type": "display_data"
    }
   ],
   "source": [
    "#   importing Python libraries\n",
    "import numpy as np\n",
    "import pandas as pd\n",
    "import matplotlib.pyplot as plt\n",
    "%matplotlib inline\n",
    "\n",
    "#   Example 1.0\n",
    "#   Initialize lists\n",
    "x = [2,3, 4, 6, 2, 8, 6, 9, 12, 1, 7, 1]\n",
    "y = [10, 3, 4, 12, 5, 12, 4, 5, 6, 8, 9, 10]\n",
    "\n",
    "#   Scatter the lists\n",
    "plt.scatter(x,y)\n",
    "plt.show()"
   ]
  },
  {
   "cell_type": "markdown",
   "metadata": {},
   "source": [
    "## 4.2.1 Plotting a Scatter plot\n",
    "\n",
    "A Scatter plot shows the relationshiip between two variables and assist us in narrowing down the types of ML to build.\n",
    "\n",
    "To plot a scatter plot. Use the scatter() function. Most of matplotlib's functions allows 1D array structures. As **ex 1.0**.\n",
    "\n",
    "## ex\n",
    "*   Declare'ing initialize two lists x & y.\n",
    "-   Scattering the values in x and y.\n",
    "-   Showing the chart"
   ]
  },
  {
   "cell_type": "code",
   "execution_count": 6,
   "metadata": {},
   "outputs": [
    {
     "data": {
      "image/png": "[encoded data removed]",
      "text/plain": [
       "<Figure size 432x288 with 1 Axes>"
      ]
     },
     "metadata": {
      "needs_background": "light"
     },
     "output_type": "display_data"
    }
   ],
   "source": [
    "#   importing Python libraries\n",
    "import numpy as np\n",
    "import pandas as pd\n",
    "import matplotlib.pyplot as plt\n",
    "%matplotlib inline\n",
    "\n",
    "#   Initializing lists\n",
    "x = ['0-3','4-6','7-9']\n",
    "y = [20, 50, 30]\n",
    "plt.bar(x, y)\n",
    "plt.show()"
   ]
  },
  {
   "cell_type": "markdown",
   "metadata": {},
   "source": [
    "#   4.2.2 Plotting a Bar Chart\n",
    "Plotting a bar chart by using categorical data.\n",
    "\n"
   ]
  },
  {
   "cell_type": "code",
   "execution_count": 8,
   "metadata": {},
   "outputs": [
    {
     "data": {
      "image/png": "[encoded data removed]",
      "text/plain": [
       "<Figure size 432x288 with 1 Axes>"
      ]
     },
     "metadata": {
      "needs_background": "light"
     },
     "output_type": "display_data"
    }
   ],
   "source": [
    "#   importing Python libraries\n",
    "import numpy as np\n",
    "import pandas as pd\n",
    "import matplotlib.pyplot as plt\n",
    "%matplotlib inline\n",
    "\n",
    "\n",
    "#   Initializing lists\n",
    "x = ['0-3','4-6','7-9']\n",
    "y = [20, 50, 30]\n",
    "plt.bar(x, y)\n",
    "plt.show()\n"
   ]
  },
  {
   "cell_type": "markdown",
   "metadata": {},
   "source": [
    "# 4.2.3 Plotting a Histogram\n",
    "A histogram is similar to a bar char, but more suitable for non categorical data. Commonly used to show frequency distributions\n",
    "\n",
    "\n",
    "- We declared a list\n",
    "- We used the **hist()** function to plot a histogram, specifying the number of bins as 5\n",
    "\n",
    "Range of 0-10 is devided into 5 equal width bins\n",
    "The height of each bar represents the frequency **( number of elements within each interval)**"
   ]
  },
  {
   "cell_type": "code",
   "execution_count": 11,
   "metadata": {},
   "outputs": [
    {
     "data": {
      "text/plain": [
       "(array([4., 0., 1., 2., 5.]),\n",
       " array([0. , 1.4, 2.8, 4.2, 5.6, 7. ]),\n",
       " <BarContainer object of 5 artists>)"
      ]
     },
     "execution_count": 11,
     "metadata": {},
     "output_type": "execute_result"
    },
    {
     "data": {
      "image/png": "[encoded data removed]",
      "text/plain": [
       "<Figure size 432x288 with 1 Axes>"
      ]
     },
     "metadata": {
      "needs_background": "light"
     },
     "output_type": "display_data"
    }
   ],
   "source": [
    "#   importing Python libraries\n",
    "import numpy as np\n",
    "import pandas as pd\n",
    "import matplotlib.pyplot as plt\n",
    "%matplotlib inline\n",
    "\n",
    "x = [7, 7, 7, 7, 1, 1, 0, 0, 4, 5, 5, 6]\n",
    "plt.hist(x, bins=5)"
   ]
  },
  {
   "cell_type": "markdown",
   "metadata": {},
   "source": [
    "# 4.2.4 Plotting a Line Graph\n",
    "Plotting a line graph by using the function **plot()**. \n",
    "\n",
    "The function joins the points in the graph based on the ordere of the elements. in the first list 'x'. \n",
    "\n",
    "To plot the graph correctly, the plot has to be sorted, before passing them to the function.\n",
    "Sorting the graph correctly, we need to sort the points before passing them to the function using zip()"
   ]
  },
  {
   "cell_type": "code",
   "execution_count": 12,
   "metadata": {},
   "outputs": [
    {
     "data": {
      "text/plain": [
       "[<matplotlib.lines.Line2D at 0x1e9ff8e56f0>]"
      ]
     },
     "execution_count": 12,
     "metadata": {},
     "output_type": "execute_result"
    },
    {
     "data": {
      "image/png": "[encoded data removed]",
      "text/plain": [
       "<Figure size 432x288 with 1 Axes>"
      ]
     },
     "metadata": {
      "needs_background": "light"
     },
     "output_type": "display_data"
    }
   ],
   "source": [
    "#   importing Python libraries\n",
    "import numpy as np\n",
    "import pandas as pd\n",
    "import matplotlib.pyplot as plt\n",
    "%matplotlib inline\n",
    "\n",
    "x = [7, 1, 4, 8, 8, 2, 3]\n",
    "y = [98, 2, 32, 128, 15, 28, 18]\n",
    "\n",
    "#   Zipping the values\n",
    "zipp = (zip(x,y))\n",
    "\n",
    "#   Sorting the zipped value\n",
    "sort = sorted(zipp)\n",
    "\n",
    "#   Unzipping the values\n",
    "x,y = zip(*sort)\n",
    "plt.plot(x,y)"
   ]
  },
  {
   "cell_type": "markdown",
   "metadata": {},
   "source": [
    "## 4.3 Using pandas\n",
    "\n",
    "**pd.plot()**<br>\n",
    "\n",
    "The method uses Matplotlib in the background by deafult, similar rto the pyplot functions.\n",
    "\n",
    "There is two major differences\n",
    "\n",
    "1. pyplot functions does not label charts, but pd.plot() does\n",
    "2. Instead of having seperate functions for different types of charts, pd.plot() method uses the **kind** parameter\n",
    "\n",
    "**Plotting a Scatter Plot**\n",
    "plt.scatter(x,y) to plot a scatter plot.\n",
    "\n",
    "- DataFrame with two columns\n",
    "-   calling pd.plot and specify the kind as scatter to retrieve the chart type and labeling the x and y axes.\n",
    "\n",
    "**Chart specifications**\n",
    "'scatter', 'bar', 'line', 'hist' <br>\n",
    "\n",
    "**Plotting a histogram**\n",
    "\n",
    "We do not use x, y parameters \n"
   ]
  },
  {
   "cell_type": "code",
   "execution_count": 22,
   "metadata": {},
   "outputs": [
    {
     "data": {
      "text/plain": [
       "<AxesSubplot:xlabel='vanrett', ylabel='Frequency'>"
      ]
     },
     "execution_count": 22,
     "metadata": {},
     "output_type": "execute_result"
    },
    {
     "data": {
      "image/png": "[encoded data removed]",
      "text/plain": [
       "<Figure size 432x288 with 1 Axes>"
      ]
     },
     "metadata": {
      "needs_background": "light"
     },
     "output_type": "display_data"
    },
    {
     "data": {
      "image/png": "[encoded data removed]",
      "text/plain": [
       "<Figure size 432x288 with 1 Axes>"
      ]
     },
     "metadata": {
      "needs_background": "light"
     },
     "output_type": "display_data"
    },
    {
     "data": {
      "image/png": "[encoded data removed]",
      "text/plain": [
       "<Figure size 432x288 with 1 Axes>"
      ]
     },
     "metadata": {
      "needs_background": "light"
     },
     "output_type": "display_data"
    }
   ],
   "source": [
    "#   Importing pandas\n",
    "import pandas as pd\n",
    "\n",
    "#   Initializing variables\n",
    "x = [2, 3, 4, 6, 2, 8, 6, 9, 12, 1, 7, 1]\n",
    "y = [10, 3, 4, 12, 5, 12, 4, 5, 6, 8, 9, 10]\n",
    "\n",
    "#   Plotting a Scatter Chart\n",
    "df = pd.DataFrame({'vanrett':x, 'lodrett':y})\n",
    "df.plot(kind='scatter', x ='vanrett', y='lodrett')\n",
    "\n",
    "#   Plotting a Bar Chart \n",
    "x = ['0-3', '4-6', '7-9']\n",
    "y = [20, 50, 30]\n",
    "\n",
    "df = pd.DataFrame({'vanrett':x, 'lodrett':y})\n",
    "df.plot(kind='bar', x ='vanrett', y='lodrett')\n",
    "\n",
    "#   Plotting a Line Graph\n",
    "x = [7, 1, 4, 8, 5, 2, 3]\n",
    "y = [98, 2, 32, 128, 15, 28, 18]\n",
    "\n",
    "#   Plotting a Scatter Chart\n",
    "df = df.sort_values(['vanrett'])\n",
    "df.plot(kind='line', x ='vanrett', y='lodrett')\n",
    "\n",
    "#   Plotting a histogram\n",
    "x = [7, 7, 7, 1, 1, 0, 0, 4, 5, 5, 6, 6, 8, 9, 9, 10]\n",
    "df = pd.DataFrame({'Vanrett':x})\n",
    "df['Vanrett'].plot(kind='hist', bins=5)"
   ]
  },
  {
   "cell_type": "markdown",
   "metadata": {},
   "source": [
    "### 4.3.2 hist()\n",
    "\n",
    "This method plots a histogram for every numerical column in a DataFrame."
   ]
  },
  {
   "cell_type": "code",
   "execution_count": 23,
   "metadata": {},
   "outputs": [
    {
     "data": {
      "text/plain": [
       "array([[<AxesSubplot:title={'center':'A'}>,\n",
       "        <AxesSubplot:title={'center':'B'}>]], dtype=object)"
      ]
     },
     "execution_count": 23,
     "metadata": {},
     "output_type": "execute_result"
    },
    {
     "data": {
      "image/png": "[encoded data removed]",
      "text/plain": [
       "<Figure size 432x288 with 2 Axes>"
      ]
     },
     "metadata": {
      "needs_background": "light"
     },
     "output_type": "display_data"
    }
   ],
   "source": [
    "#   Importing pandas\n",
    "import pandas as pd\n",
    "\n",
    "#   Initializing a DataFrame\n",
    "df = pd.DataFrame({'A':[2, 3, 1, 1, 4, 4], 'B':[3, 4, 4, 1, 2, 2]})\n",
    "df.hist()\n"
   ]
  },
  {
   "cell_type": "markdown",
   "metadata": {},
   "source": [
    "#   4.4 Designing our Charts\n",
    "\n",
    "To design the charts in Matplotlib, additional parameters has to be passed to the plotting function. To set the color of the chart, we pass the **color** parameter. list of strings. Supported formats for the parameter can be found at [matplotlib.org](https://matplotlib.org/stable/gallery/color/named_colors.html) and [matplotlib.org/stable/tutorials/colors/colors.html]https://matplotlib.org/stable/tutorials/colors/colors.html.\n",
    "\n",
    "For scatter plots and line graphs, can be specify the marker using the **marker** parameter. Commonly used markers include 'x' for crosses and 'o' for circles. [List of acceptable markers](https://marplotlib.org/stable/api/markers_api.html).\n",
    "\n",
    "Setting the size of the markers, we use the **s** parameter for scatter plots and the **ms** parameter for line graphs. Both vases, we assign numbers to these parrameters. \n",
    "\n",
    "we using label parameter to label our data. Labeling is useful if we want to plot multiple sets of data on the same chart.\n",
    "\n",
    "We can set the title, for x and y-axis, and tick values on our axes using the **title()**, **xlabel()**, **ylabel()**, **xticks()**, and **yticks()** functions.\n",
    "\n",
    "The first three functions accepts strings as input, while the last two accepts lists. A legend can also be added, and grind lines using **legend()** and **grind()**.\n",
    "\n",
    "The chart size can be modified to do that, we use the **figure()** function to create a Figure object and pass the **figsize** parameter to set the witdh and height of the figure (inches).\n",
    "\n"
   ]
  },
  {
   "cell_type": "code",
   "execution_count": 25,
   "metadata": {},
   "outputs": [
    {
     "data": {
      "text/plain": [
       "Text(0.5, 1.0, 'Designing Our Charts')"
      ]
     },
     "execution_count": 25,
     "metadata": {},
     "output_type": "execute_result"
    },
    {
     "data": {
      "image/png": "[encoded data removed]",
      "text/plain": [
       "<Figure size 720x360 with 1 Axes>"
      ]
     },
     "metadata": {
      "needs_background": "light"
     },
     "output_type": "display_data"
    }
   ],
   "source": [
    "#   Importing matplotlib\n",
    "import matplotlib.pyplot as plt\n",
    "%matplotlib inline\n",
    "\n",
    "#   Initializing a list\n",
    "x = [1, 2, 4, 6, 8, 9, 10]\n",
    "y = [3, 4, 6, 12, 4, 5, 7]\n",
    "\n",
    "#   Configure our chart\n",
    "plt.figure(figsize=(10, 5))\n",
    "\n",
    "plt.scatter(x, y, color ='black', s = 50, marker = 'x', label = 'With Reward')\n",
    "\n",
    "y = [5, 1, 2, 6, 8, 9, 1]\n",
    "plt.scatter(x, y, label='Without Reward')\n",
    "plt.legend(loc = 'best')\n",
    "plt.xticks([0, 2, 4, 6, 8, 10])\n",
    "plt.grid()\n",
    "plt.yticks(range(0, 13))\n",
    "plt.xlabel('Age')\n",
    "plt.ylabel('Number of Tries')\n",
    "plt.title('Designing Our Charts')\n"
   ]
  },
  {
   "cell_type": "markdown",
   "metadata": {},
   "source": [
    "#   4.5 The Object Oriented Interface"
   ]
  },
  {
   "cell_type": "markdown",
   "metadata": {},
   "source": [
    "#   Axes and Figure\n",
    "\n",
    "- Figure - top level Figue of a plot, multiple axes can be applied\n",
    "- Axes - Individual plot inside a Figure\n",
    "\n",
    "There's many ways to create axes and figures. easy way to use the **subplots()** function in pyplot module. The function returns a figure object and a set of axes which can be manupulated using their indexes.\n",
    "\n",
    "Typically we pass the number of rows and columns of the grid to the funcion if they're not specified the default value is 1. we can pass **figsize** parameter to the function to set the figure size.\n",
    "\n",
    " \n"
   ]
  },
  {
   "cell_type": "code",
   "execution_count": 4,
   "metadata": {},
   "outputs": [
    {
     "data": {
      "image/png": "[encoded data removed]",
      "text/plain": [
       "<Figure size 432x288 with 1 Axes>"
      ]
     },
     "metadata": {
      "needs_background": "light"
     },
     "output_type": "display_data"
    }
   ],
   "source": [
    "#   Importing Resposories\n",
    "import pandas as pd\n",
    "import matplotlib.pyplot as plt\n",
    "%matplotlib inline\n",
    "\n",
    "#   Initializing variables\n",
    "fig, ax = plt.subplots()\n",
    "\n",
    "#   Initializing list\n",
    "a = [1, 2, 3, 4]\n",
    "b = [7, 3, 1, 4]\n",
    "ax.scatter(a,b)\n",
    "\n",
    "ax1 = plt.subplot()"
   ]
  },
  {
   "cell_type": "markdown",
   "metadata": {},
   "source": [
    "## Accsessing the individual objects\n",
    "\n",
    "To access the individual objects in a array we yse their indexes. ax[0]\n",
    "gives us the Axes object in the first column, while ax[1] gives us the object in the second column.\n",
    "\n",
    "ax[0] plots a scatter plot while ax[1] plot a line graph.\n",
    "\n",
    "Next the title, label x and y, and tick values is set for ax[0]<br>\n",
    "To do that in the OO interface, the same functions as the pyplot interface can not be used. Instead set_title, set_xlabel, set_ylabel, set_ xticks and set_yticks methods is used."
   ]
  },
  {
   "cell_type": "code",
   "execution_count": 9,
   "metadata": {},
   "outputs": [
    {
     "data": {
      "text/plain": [
       "[<matplotlib.axis.YTick at 0x28c7c505ea0>,\n",
       " <matplotlib.axis.YTick at 0x28c7c505720>,\n",
       " <matplotlib.axis.YTick at 0x28c7c504be0>,\n",
       " <matplotlib.axis.YTick at 0x28c7c5782e0>]"
      ]
     },
     "execution_count": 9,
     "metadata": {},
     "output_type": "execute_result"
    },
    {
     "data": {
      "image/png": "[encoded data removed]",
      "text/plain": [
       "<Figure size 720x360 with 2 Axes>"
      ]
     },
     "metadata": {
      "needs_background": "light"
     },
     "output_type": "display_data"
    }
   ],
   "source": [
    "#   Importing Resposories\n",
    "import pandas as pd\n",
    "\n",
    "#   Initializing variables\n",
    "#   Creating a figure with 1 row and 2 columns\n",
    "fig, ax = plt.subplots(1, 2, figsize = (10,5))\n",
    "df = pd.DataFrame({'A':[1, 2, 3, 4], 'B':[7, 3, 1, 4]})\n",
    "\n",
    "#   Choose which type of charts to use\n",
    "ax[0].scatter(df['A'], df['B'])\n",
    "ax[1].plot(df['A'], df['B'])\n",
    "\n",
    "#   Set the title, lable for the chart\n",
    "ax[0].set_title('Chart 1')\n",
    "ax[0].set_xlabel('Age')\n",
    "ax[0].set_ylabel('Number of Tries')\n",
    "ax[0].set_xticks([1, 2, 3, 4])\n",
    "ax[0].set_yticks([1, 2, 3, 4])"
   ]
  },
  {
   "cell_type": "markdown",
   "metadata": {},
   "source": [
    "### Looking at figure\n",
    "\n",
    "Looking at figure with more than one row, or 1 column. \n",
    "The **subplots()** function gives us a 2D array of axes object. "
   ]
  },
  {
   "cell_type": "code",
   "execution_count": 10,
   "metadata": {},
   "outputs": [
    {
     "data": {
      "image/png": "[encoded data removed]",
      "text/plain": [
       "<Figure size 432x288 with 6 Axes>"
      ]
     },
     "metadata": {
      "needs_background": "light"
     },
     "output_type": "display_data"
    }
   ],
   "source": [
    "#   Creating the figure with more than one row\n",
    "fig, ax = plt.subplots(2,3)"
   ]
  }
 ],
 "metadata": {
  "kernelspec": {
   "display_name": "Python 3.10.5 ('env': venv)",
   "language": "python",
   "name": "python3"
  },
  "language_info": {
   "codemirror_mode": {
    "name": "ipython",
    "version": 3
   },
   "file_extension": ".py",
   "mimetype": "text/x-python",
   "name": "python",
   "nbconvert_exporter": "python",
   "pygments_lexer": "ipython3",
   "version": "3.10.5"
  },
  "orig_nbformat": 4,
  "vscode": {
   "interpreter": {
    "hash": "f35321be4ae93f7993f27fb53942f0774bccc4d7e9455219ca66c5c9df461594"
   }
  }
 },
 "nbformat": 4,
 "nbformat_minor": 2
}
